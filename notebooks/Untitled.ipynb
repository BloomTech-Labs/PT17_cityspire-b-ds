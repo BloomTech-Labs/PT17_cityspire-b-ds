{
 "cells": [
  {
   "cell_type": "code",
   "execution_count": 2,
   "id": "stretch-analysis",
   "metadata": {},
   "outputs": [
    {
     "name": "stdout",
     "output_type": "stream",
     "text": [
      "0.63.0\n"
     ]
    }
   ],
   "source": [
    "import fastapi\n",
    "print(fastapi.__version__)"
   ]
  },
  {
   "cell_type": "code",
   "execution_count": null,
   "id": "super-integration",
   "metadata": {},
   "outputs": [],
   "source": []
  }
 ],
 "metadata": {
  "kernelspec": {
   "display_name": "Python 3",
   "language": "python",
   "name": "python3"
  },
  "language_info": {
   "codemirror_mode": {
    "name": "ipython",
    "version": 3
   },
   "file_extension": ".py",
   "mimetype": "text/x-python",
   "name": "python",
   "nbconvert_exporter": "python",
   "pygments_lexer": "ipython3",
   "version": "3.8.5"
  }
 },
 "nbformat": 4,
 "nbformat_minor": 5
}
