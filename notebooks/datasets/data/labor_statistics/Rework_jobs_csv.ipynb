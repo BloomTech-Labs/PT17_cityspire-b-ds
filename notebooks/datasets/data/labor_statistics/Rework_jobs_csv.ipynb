{
 "cells": [
  {
   "cell_type": "code",
   "execution_count": 2,
   "id": "dd695812",
   "metadata": {},
   "outputs": [],
   "source": [
    "import requests\n",
    "import bs4\n",
    "from bs4 import BeautifulSoup\n",
    "import pandas as pd\n",
    "# import time"
   ]
  },
  {
   "cell_type": "code",
   "execution_count": 11,
   "id": "ca728df9",
   "metadata": {},
   "outputs": [],
   "source": [
    "df = pd.read_csv (r'/Users/andrewrust/Desktop/LABS/PT17_cityspire-b-ds/notebooks/datasets/datasets_to_merge/updated/final.csv')"
   ]
  },
  {
   "cell_type": "code",
   "execution_count": 12,
   "id": "719694ab",
   "metadata": {},
   "outputs": [
    {
     "data": {
      "text/html": [
       "<div>\n",
       "<style scoped>\n",
       "    .dataframe tbody tr th:only-of-type {\n",
       "        vertical-align: middle;\n",
       "    }\n",
       "\n",
       "    .dataframe tbody tr th {\n",
       "        vertical-align: top;\n",
       "    }\n",
       "\n",
       "    .dataframe thead th {\n",
       "        text-align: right;\n",
       "    }\n",
       "</style>\n",
       "<table border=\"1\" class=\"dataframe\">\n",
       "  <thead>\n",
       "    <tr style=\"text-align: right;\">\n",
       "      <th></th>\n",
       "      <th>City</th>\n",
       "      <th>State</th>\n",
       "      <th>TotalPop</th>\n",
       "      <th>Men</th>\n",
       "      <th>Women</th>\n",
       "      <th>Hispanic</th>\n",
       "      <th>White</th>\n",
       "      <th>Black</th>\n",
       "      <th>Native</th>\n",
       "      <th>Asian</th>\n",
       "      <th>...</th>\n",
       "      <th>Days NO2</th>\n",
       "      <th>Days Ozone</th>\n",
       "      <th>Days SO2</th>\n",
       "      <th>Days PM2.5</th>\n",
       "      <th>Days PM10</th>\n",
       "      <th>Air Quality Index</th>\n",
       "      <th>Diversity Index</th>\n",
       "      <th>Nearest</th>\n",
       "      <th>lat</th>\n",
       "      <th>lon</th>\n",
       "    </tr>\n",
       "  </thead>\n",
       "  <tbody>\n",
       "    <tr>\n",
       "      <th>0</th>\n",
       "      <td>Akron</td>\n",
       "      <td>OH</td>\n",
       "      <td>267782</td>\n",
       "      <td>129623</td>\n",
       "      <td>138086</td>\n",
       "      <td>1.9</td>\n",
       "      <td>67.4</td>\n",
       "      <td>23.2</td>\n",
       "      <td>0.2</td>\n",
       "      <td>3.6</td>\n",
       "      <td>...</td>\n",
       "      <td>0</td>\n",
       "      <td>132</td>\n",
       "      <td>0</td>\n",
       "      <td>142</td>\n",
       "      <td>0</td>\n",
       "      <td>Good</td>\n",
       "      <td>0.490241</td>\n",
       "      <td>126,56,332,355,295</td>\n",
       "      <td>41.044852</td>\n",
       "      <td>-81.520048</td>\n",
       "    </tr>\n",
       "    <tr>\n",
       "      <th>1</th>\n",
       "      <td>Albany</td>\n",
       "      <td>GA</td>\n",
       "      <td>93421</td>\n",
       "      <td>43571</td>\n",
       "      <td>49835</td>\n",
       "      <td>2.8</td>\n",
       "      <td>29.2</td>\n",
       "      <td>65.2</td>\n",
       "      <td>0.1</td>\n",
       "      <td>0.9</td>\n",
       "      <td>...</td>\n",
       "      <td>0</td>\n",
       "      <td>0</td>\n",
       "      <td>0</td>\n",
       "      <td>244</td>\n",
       "      <td>0</td>\n",
       "      <td>Good</td>\n",
       "      <td>0.488771</td>\n",
       "      <td>162,372,139,351,249</td>\n",
       "      <td>31.567783</td>\n",
       "      <td>-84.161923</td>\n",
       "    </tr>\n",
       "    <tr>\n",
       "      <th>2</th>\n",
       "      <td>Albany</td>\n",
       "      <td>NY</td>\n",
       "      <td>147794</td>\n",
       "      <td>70664</td>\n",
       "      <td>77096</td>\n",
       "      <td>7.8</td>\n",
       "      <td>60.3</td>\n",
       "      <td>20.1</td>\n",
       "      <td>0.1</td>\n",
       "      <td>7.6</td>\n",
       "      <td>...</td>\n",
       "      <td>0</td>\n",
       "      <td>169</td>\n",
       "      <td>0</td>\n",
       "      <td>104</td>\n",
       "      <td>0</td>\n",
       "      <td>Good</td>\n",
       "      <td>0.584133</td>\n",
       "      <td>319,358,336,145,79</td>\n",
       "      <td>42.652580</td>\n",
       "      <td>-73.756633</td>\n",
       "    </tr>\n",
       "    <tr>\n",
       "      <th>3</th>\n",
       "      <td>Albany</td>\n",
       "      <td>OR</td>\n",
       "      <td>61555</td>\n",
       "      <td>30378</td>\n",
       "      <td>31168</td>\n",
       "      <td>11.4</td>\n",
       "      <td>82.7</td>\n",
       "      <td>0.6</td>\n",
       "      <td>0.7</td>\n",
       "      <td>1.9</td>\n",
       "      <td>...</td>\n",
       "      <td>0</td>\n",
       "      <td>0</td>\n",
       "      <td>0</td>\n",
       "      <td>182</td>\n",
       "      <td>0</td>\n",
       "      <td>Good</td>\n",
       "      <td>0.302632</td>\n",
       "      <td>29,132,230,383,202</td>\n",
       "      <td>44.627722</td>\n",
       "      <td>-123.094409</td>\n",
       "    </tr>\n",
       "    <tr>\n",
       "      <th>4</th>\n",
       "      <td>Albuquerque</td>\n",
       "      <td>NM</td>\n",
       "      <td>632240</td>\n",
       "      <td>309415</td>\n",
       "      <td>322758</td>\n",
       "      <td>50.4</td>\n",
       "      <td>38.5</td>\n",
       "      <td>2.5</td>\n",
       "      <td>4.0</td>\n",
       "      <td>2.4</td>\n",
       "      <td>...</td>\n",
       "      <td>0</td>\n",
       "      <td>127</td>\n",
       "      <td>0</td>\n",
       "      <td>25</td>\n",
       "      <td>30</td>\n",
       "      <td>Good</td>\n",
       "      <td>0.594958</td>\n",
       "      <td>359,258,386,360,127</td>\n",
       "      <td>35.106766</td>\n",
       "      <td>-106.629181</td>\n",
       "    </tr>\n",
       "  </tbody>\n",
       "</table>\n",
       "<p>5 rows × 71 columns</p>\n",
       "</div>"
      ],
      "text/plain": [
       "          City State  TotalPop     Men   Women  Hispanic  White  Black  \\\n",
       "0        Akron    OH    267782  129623  138086       1.9   67.4   23.2   \n",
       "1       Albany    GA     93421   43571   49835       2.8   29.2   65.2   \n",
       "2       Albany    NY    147794   70664   77096       7.8   60.3   20.1   \n",
       "3       Albany    OR     61555   30378   31168      11.4   82.7    0.6   \n",
       "4  Albuquerque    NM    632240  309415  322758      50.4   38.5    2.5   \n",
       "\n",
       "   Native  Asian  ...  Days NO2  Days Ozone  Days SO2  Days PM2.5  Days PM10  \\\n",
       "0     0.2    3.6  ...         0         132         0         142          0   \n",
       "1     0.1    0.9  ...         0           0         0         244          0   \n",
       "2     0.1    7.6  ...         0         169         0         104          0   \n",
       "3     0.7    1.9  ...         0           0         0         182          0   \n",
       "4     4.0    2.4  ...         0         127         0          25         30   \n",
       "\n",
       "   Air Quality Index  Diversity Index              Nearest        lat  \\\n",
       "0               Good         0.490241   126,56,332,355,295  41.044852   \n",
       "1               Good         0.488771  162,372,139,351,249  31.567783   \n",
       "2               Good         0.584133   319,358,336,145,79  42.652580   \n",
       "3               Good         0.302632   29,132,230,383,202  44.627722   \n",
       "4               Good         0.594958  359,258,386,360,127  35.106766   \n",
       "\n",
       "          lon  \n",
       "0  -81.520048  \n",
       "1  -84.161923  \n",
       "2  -73.756633  \n",
       "3 -123.094409  \n",
       "4 -106.629181  \n",
       "\n",
       "[5 rows x 71 columns]"
      ]
     },
     "execution_count": 12,
     "metadata": {},
     "output_type": "execute_result"
    }
   ],
   "source": [
    "df.head()"
   ]
  },
  {
   "cell_type": "code",
   "execution_count": 13,
   "id": "41b3a6b6",
   "metadata": {},
   "outputs": [
    {
     "data": {
      "text/plain": [
       "(397, 71)"
      ]
     },
     "execution_count": 13,
     "metadata": {},
     "output_type": "execute_result"
    }
   ],
   "source": [
    "df.shape"
   ]
  },
  {
   "cell_type": "code",
   "execution_count": 9,
   "id": "8ff1123a",
   "metadata": {},
   "outputs": [],
   "source": []
  },
  {
   "cell_type": "code",
   "execution_count": 10,
   "id": "741b455d",
   "metadata": {},
   "outputs": [
    {
     "name": "stdout",
     "output_type": "stream",
     "text": [
      "376\n"
     ]
    }
   ],
   "source": []
  },
  {
   "cell_type": "code",
   "execution_count": null,
   "id": "b076a4a1",
   "metadata": {},
   "outputs": [],
   "source": [
    "\n",
    "    "
   ]
  },
  {
   "cell_type": "code",
   "execution_count": null,
   "id": "04823940",
   "metadata": {},
   "outputs": [],
   "source": []
  },
  {
   "cell_type": "code",
   "execution_count": null,
   "id": "b21e2fcd",
   "metadata": {},
   "outputs": [],
   "source": []
  },
  {
   "cell_type": "code",
   "execution_count": null,
   "id": "0246a4ad",
   "metadata": {},
   "outputs": [],
   "source": []
  },
  {
   "cell_type": "code",
   "execution_count": null,
   "id": "c88dfb40",
   "metadata": {},
   "outputs": [],
   "source": []
  },
  {
   "cell_type": "code",
   "execution_count": null,
   "id": "555ac15e",
   "metadata": {},
   "outputs": [],
   "source": []
  },
  {
   "cell_type": "code",
   "execution_count": null,
   "id": "82ca5537",
   "metadata": {},
   "outputs": [],
   "source": []
  },
  {
   "cell_type": "code",
   "execution_count": null,
   "id": "5b773b18",
   "metadata": {},
   "outputs": [],
   "source": []
  },
  {
   "cell_type": "code",
   "execution_count": null,
   "id": "3eb007a6",
   "metadata": {},
   "outputs": [],
   "source": []
  },
  {
   "cell_type": "code",
   "execution_count": null,
   "id": "3910fc39",
   "metadata": {},
   "outputs": [],
   "source": []
  },
  {
   "cell_type": "code",
   "execution_count": null,
   "id": "16fd5d23",
   "metadata": {},
   "outputs": [],
   "source": []
  },
  {
   "cell_type": "code",
   "execution_count": null,
   "id": "d0938e20",
   "metadata": {},
   "outputs": [],
   "source": []
  }
 ],
 "metadata": {
  "kernelspec": {
   "display_name": "Python 3",
   "language": "python",
   "name": "python3"
  },
  "language_info": {
   "codemirror_mode": {
    "name": "ipython",
    "version": 3
   },
   "file_extension": ".py",
   "mimetype": "text/x-python",
   "name": "python",
   "nbconvert_exporter": "python",
   "pygments_lexer": "ipython3",
   "version": "3.8.0"
  }
 },
 "nbformat": 4,
 "nbformat_minor": 5
}
