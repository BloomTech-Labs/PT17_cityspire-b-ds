{
 "cells": [
  {
   "cell_type": "markdown",
   "id": "technological-columbus",
   "metadata": {},
   "source": [
    "# Weaher data "
   ]
  },
  {
   "cell_type": "code",
   "execution_count": 1,
   "id": "extreme-roots",
   "metadata": {},
   "outputs": [],
   "source": [
    "import pandas as pd\n",
    "import numpy as np\n",
    "import matplotlib.pyplot as plt\n",
    "import seaborn as sns\n",
    "import matplotlib.dates as mdates \n",
    "\n",
    "pd.set_option('max_columns', None)\n",
    "pd.set_option('display.max_rows', 1000)"
   ]
  },
  {
   "cell_type": "code",
   "execution_count": 2,
   "id": "possible-playback",
   "metadata": {},
   "outputs": [
    {
     "name": "stderr",
     "output_type": "stream",
     "text": [
      "C:\\Users\\tigju\\Anaconda3\\envs\\datascience\\lib\\site-packages\\IPython\\core\\interactiveshell.py:2714: DtypeWarning: Columns (1,2,3,4,6,7,8,9,11,12,13,14,15,16,17,18,19,21,22,23,25,27) have mixed types.Specify dtype option on import or set low_memory=False.\n",
      "  interactivity=interactivity, compiler=compiler, result=result)\n"
     ]
    }
   ],
   "source": [
    "weather_data = pd.read_csv(\"data/concatenated.csv\")"
   ]
  },
  {
   "cell_type": "code",
   "execution_count": 3,
   "id": "perfect-profit",
   "metadata": {},
   "outputs": [
    {
     "data": {
      "text/plain": [
       "402"
      ]
     },
     "execution_count": 3,
     "metadata": {},
     "output_type": "execute_result"
    }
   ],
   "source": [
    "len(weather_data['Name'].unique())"
   ]
  },
  {
   "cell_type": "markdown",
   "id": "sharp-advisory",
   "metadata": {},
   "source": [
    "## Exploratory Data Analysis"
   ]
  },
  {
   "cell_type": "code",
   "execution_count": 4,
   "id": "conscious-cutting",
   "metadata": {},
   "outputs": [
    {
     "name": "stdout",
     "output_type": "stream",
     "text": [
      "(613670, 28)\n"
     ]
    },
    {
     "data": {
      "text/html": [
       "<div>\n",
       "<style scoped>\n",
       "    .dataframe tbody tr th:only-of-type {\n",
       "        vertical-align: middle;\n",
       "    }\n",
       "\n",
       "    .dataframe tbody tr th {\n",
       "        vertical-align: top;\n",
       "    }\n",
       "\n",
       "    .dataframe thead th {\n",
       "        text-align: right;\n",
       "    }\n",
       "</style>\n",
       "<table border=\"1\" class=\"dataframe\">\n",
       "  <thead>\n",
       "    <tr style=\"text-align: right;\">\n",
       "      <th></th>\n",
       "      <th>Name</th>\n",
       "      <th>Wind Direction</th>\n",
       "      <th>Latitude</th>\n",
       "      <th>Cloud Cover (%)</th>\n",
       "      <th>Minimum Temperature (degF)</th>\n",
       "      <th>Date time</th>\n",
       "      <th>Precipitation (in)</th>\n",
       "      <th>Solar Radiation (W/m^2)</th>\n",
       "      <th>Dew Point (degF)</th>\n",
       "      <th>Relative Humidity (%)</th>\n",
       "      <th>ID</th>\n",
       "      <th>Precipitation Cover (%)</th>\n",
       "      <th>Longitude</th>\n",
       "      <th>Info</th>\n",
       "      <th>Temperature (degF)</th>\n",
       "      <th>Maximum Temperature (degF)</th>\n",
       "      <th>Visibility (mi)</th>\n",
       "      <th>Wind Speed (mph)</th>\n",
       "      <th>Solar Energy (J/m^2)</th>\n",
       "      <th>Heat Index (degF)</th>\n",
       "      <th>Weather Type</th>\n",
       "      <th>Snow Depth (in)</th>\n",
       "      <th>Sea Level Pressure (mb)</th>\n",
       "      <th>Snow (in)</th>\n",
       "      <th>Name.1</th>\n",
       "      <th>Wind Gust (mph)</th>\n",
       "      <th>Conditions</th>\n",
       "      <th>Wind Chill (degF)</th>\n",
       "    </tr>\n",
       "  </thead>\n",
       "  <tbody>\n",
       "    <tr>\n",
       "      <th>0</th>\n",
       "      <td>\u001a</td>\n",
       "      <td>NaN</td>\n",
       "      <td>NaN</td>\n",
       "      <td>NaN</td>\n",
       "      <td>NaN</td>\n",
       "      <td>NaN</td>\n",
       "      <td>NaN</td>\n",
       "      <td>NaN</td>\n",
       "      <td>NaN</td>\n",
       "      <td>NaN</td>\n",
       "      <td>NaN</td>\n",
       "      <td>NaN</td>\n",
       "      <td>NaN</td>\n",
       "      <td>NaN</td>\n",
       "      <td>NaN</td>\n",
       "      <td>NaN</td>\n",
       "      <td>NaN</td>\n",
       "      <td>NaN</td>\n",
       "      <td>NaN</td>\n",
       "      <td>NaN</td>\n",
       "      <td>NaN</td>\n",
       "      <td>NaN</td>\n",
       "      <td>NaN</td>\n",
       "      <td>NaN</td>\n",
       "      <td>NaN</td>\n",
       "      <td>NaN</td>\n",
       "      <td>NaN</td>\n",
       "      <td>NaN</td>\n",
       "    </tr>\n",
       "    <tr>\n",
       "      <th>1</th>\n",
       "      <td>Akron, OH, United States</td>\n",
       "      <td>180.46</td>\n",
       "      <td>41.08431</td>\n",
       "      <td>10.3</td>\n",
       "      <td>23.2</td>\n",
       "      <td>1/1/2017</td>\n",
       "      <td>0.0</td>\n",
       "      <td>NaN</td>\n",
       "      <td>23.3</td>\n",
       "      <td>66.47</td>\n",
       "      <td>'Akron OH'</td>\n",
       "      <td>0.0</td>\n",
       "      <td>-81.51431</td>\n",
       "      <td>NaN</td>\n",
       "      <td>33.7</td>\n",
       "      <td>42.2</td>\n",
       "      <td>9.5</td>\n",
       "      <td>10.5</td>\n",
       "      <td>NaN</td>\n",
       "      <td>NaN</td>\n",
       "      <td>Mist</td>\n",
       "      <td>0.41</td>\n",
       "      <td>1020.8</td>\n",
       "      <td>0.0</td>\n",
       "      <td>Akron, OH, United States</td>\n",
       "      <td>NaN</td>\n",
       "      <td>Clear</td>\n",
       "      <td>21.1</td>\n",
       "    </tr>\n",
       "    <tr>\n",
       "      <th>2</th>\n",
       "      <td>Akron, OH, United States</td>\n",
       "      <td>84.79</td>\n",
       "      <td>41.08431</td>\n",
       "      <td>82.1</td>\n",
       "      <td>33.0</td>\n",
       "      <td>1/2/2017</td>\n",
       "      <td>0.0</td>\n",
       "      <td>NaN</td>\n",
       "      <td>37.6</td>\n",
       "      <td>85.22</td>\n",
       "      <td>'Akron OH'</td>\n",
       "      <td>16.67</td>\n",
       "      <td>-81.51431</td>\n",
       "      <td>NaN</td>\n",
       "      <td>41.8</td>\n",
       "      <td>47.8</td>\n",
       "      <td>3.4</td>\n",
       "      <td>7.3</td>\n",
       "      <td>NaN</td>\n",
       "      <td>NaN</td>\n",
       "      <td>Mist, Light Drizzle, Rain, Fog, Light Rain</td>\n",
       "      <td>0.0</td>\n",
       "      <td>1020.3</td>\n",
       "      <td>0.0</td>\n",
       "      <td>Akron, OH, United States</td>\n",
       "      <td>NaN</td>\n",
       "      <td>Overcast</td>\n",
       "      <td>26.5</td>\n",
       "    </tr>\n",
       "  </tbody>\n",
       "</table>\n",
       "</div>"
      ],
      "text/plain": [
       "                       Name Wind Direction  Latitude Cloud Cover (%)  \\\n",
       "0                         \u001a            NaN       NaN             NaN   \n",
       "1  Akron, OH, United States         180.46  41.08431            10.3   \n",
       "2  Akron, OH, United States          84.79  41.08431            82.1   \n",
       "\n",
       "  Minimum Temperature (degF) Date time Precipitation (in)  \\\n",
       "0                        NaN       NaN                NaN   \n",
       "1                       23.2  1/1/2017                0.0   \n",
       "2                       33.0  1/2/2017                0.0   \n",
       "\n",
       "  Solar Radiation (W/m^2) Dew Point (degF) Relative Humidity (%)          ID  \\\n",
       "0                     NaN              NaN                   NaN         NaN   \n",
       "1                     NaN             23.3                 66.47  'Akron OH'   \n",
       "2                     NaN             37.6                 85.22  'Akron OH'   \n",
       "\n",
       "  Precipitation Cover (%) Longitude Info Temperature (degF)  \\\n",
       "0                     NaN       NaN  NaN                NaN   \n",
       "1                     0.0 -81.51431  NaN               33.7   \n",
       "2                   16.67 -81.51431  NaN               41.8   \n",
       "\n",
       "  Maximum Temperature (degF) Visibility (mi) Wind Speed (mph)  \\\n",
       "0                        NaN             NaN              NaN   \n",
       "1                       42.2             9.5             10.5   \n",
       "2                       47.8             3.4              7.3   \n",
       "\n",
       "  Solar Energy (J/m^2) Heat Index (degF)  \\\n",
       "0                  NaN               NaN   \n",
       "1                  NaN               NaN   \n",
       "2                  NaN               NaN   \n",
       "\n",
       "                                 Weather Type Snow Depth (in)  \\\n",
       "0                                         NaN             NaN   \n",
       "1                                        Mist            0.41   \n",
       "2  Mist, Light Drizzle, Rain, Fog, Light Rain             0.0   \n",
       "\n",
       "  Sea Level Pressure (mb) Snow (in)                    Name.1 Wind Gust (mph)  \\\n",
       "0                     NaN       NaN                       NaN             NaN   \n",
       "1                  1020.8       0.0  Akron, OH, United States             NaN   \n",
       "2                  1020.3       0.0  Akron, OH, United States             NaN   \n",
       "\n",
       "  Conditions Wind Chill (degF)  \n",
       "0        NaN               NaN  \n",
       "1      Clear              21.1  \n",
       "2   Overcast              26.5  "
      ]
     },
     "execution_count": 4,
     "metadata": {},
     "output_type": "execute_result"
    }
   ],
   "source": [
    "print(weather_data.shape)\n",
    "weather_data.head(3)"
   ]
  },
  {
   "cell_type": "code",
   "execution_count": 5,
   "id": "graduate-forestry",
   "metadata": {},
   "outputs": [
    {
     "name": "stdout",
     "output_type": "stream",
     "text": [
      "378\n"
     ]
    },
    {
     "data": {
      "text/html": [
       "<div>\n",
       "<style scoped>\n",
       "    .dataframe tbody tr th:only-of-type {\n",
       "        vertical-align: middle;\n",
       "    }\n",
       "\n",
       "    .dataframe tbody tr th {\n",
       "        vertical-align: top;\n",
       "    }\n",
       "\n",
       "    .dataframe thead th {\n",
       "        text-align: right;\n",
       "    }\n",
       "</style>\n",
       "<table border=\"1\" class=\"dataframe\">\n",
       "  <thead>\n",
       "    <tr style=\"text-align: right;\">\n",
       "      <th></th>\n",
       "      <th>City</th>\n",
       "      <th>State</th>\n",
       "      <th>Country</th>\n",
       "    </tr>\n",
       "  </thead>\n",
       "  <tbody>\n",
       "    <tr>\n",
       "      <th>0</th>\n",
       "      <td>\u001a</td>\n",
       "      <td></td>\n",
       "      <td>\u001a</td>\n",
       "    </tr>\n",
       "    <tr>\n",
       "      <th>1</th>\n",
       "      <td>Akron</td>\n",
       "      <td>OH</td>\n",
       "      <td>United States</td>\n",
       "    </tr>\n",
       "    <tr>\n",
       "      <th>2</th>\n",
       "      <td>Akron</td>\n",
       "      <td>OH</td>\n",
       "      <td>United States</td>\n",
       "    </tr>\n",
       "    <tr>\n",
       "      <th>3</th>\n",
       "      <td>Akron</td>\n",
       "      <td>OH</td>\n",
       "      <td>United States</td>\n",
       "    </tr>\n",
       "    <tr>\n",
       "      <th>4</th>\n",
       "      <td>Akron</td>\n",
       "      <td>OH</td>\n",
       "      <td>United States</td>\n",
       "    </tr>\n",
       "    <tr>\n",
       "      <th>...</th>\n",
       "      <td>...</td>\n",
       "      <td>...</td>\n",
       "      <td>...</td>\n",
       "    </tr>\n",
       "    <tr>\n",
       "      <th>613665</th>\n",
       "      <td>Yuma</td>\n",
       "      <td>AZ</td>\n",
       "      <td>United States</td>\n",
       "    </tr>\n",
       "    <tr>\n",
       "      <th>613666</th>\n",
       "      <td>Yuma</td>\n",
       "      <td>AZ</td>\n",
       "      <td>United States</td>\n",
       "    </tr>\n",
       "    <tr>\n",
       "      <th>613667</th>\n",
       "      <td>Yuma</td>\n",
       "      <td>AZ</td>\n",
       "      <td>United States</td>\n",
       "    </tr>\n",
       "    <tr>\n",
       "      <th>613668</th>\n",
       "      <td>Yuma</td>\n",
       "      <td>AZ</td>\n",
       "      <td>United States</td>\n",
       "    </tr>\n",
       "    <tr>\n",
       "      <th>613669</th>\n",
       "      <td>Yuma</td>\n",
       "      <td>AZ</td>\n",
       "      <td>United States</td>\n",
       "    </tr>\n",
       "  </tbody>\n",
       "</table>\n",
       "<p>613670 rows × 3 columns</p>\n",
       "</div>"
      ],
      "text/plain": [
       "         City State        Country\n",
       "0           \u001a                    \u001a\n",
       "1       Akron    OH  United States\n",
       "2       Akron    OH  United States\n",
       "3       Akron    OH  United States\n",
       "4       Akron    OH  United States\n",
       "...       ...   ...            ...\n",
       "613665   Yuma    AZ  United States\n",
       "613666   Yuma    AZ  United States\n",
       "613667   Yuma    AZ  United States\n",
       "613668   Yuma    AZ  United States\n",
       "613669   Yuma    AZ  United States\n",
       "\n",
       "[613670 rows x 3 columns]"
      ]
     },
     "execution_count": 5,
     "metadata": {},
     "output_type": "execute_result"
    }
   ],
   "source": [
    "# split Name feature\n",
    "location = weather_data[\"Name\"].apply(lambda x: x.split(\", \"))\n",
    "city = location.apply(lambda x: x[0])\n",
    "state = location.apply(lambda x: ''.join(x[1:2]))\n",
    "country = location.apply(lambda x: x[-1])\n",
    "result = pd.DataFrame(zip(city, state, country), columns=[\"City\", \"State\", \"Country\"])\n",
    "print(len(result['City'].unique()))\n",
    "result"
   ]
  },
  {
   "cell_type": "code",
   "execution_count": 6,
   "id": "pretty-cycle",
   "metadata": {},
   "outputs": [],
   "source": [
    "# Concat split feature with the rest of the data\n",
    "\n",
    "df = pd.concat([result, weather_data], axis=1, join=\"inner\")\n",
    "df.drop(columns=[\"Name\"], inplace=True)"
   ]
  },
  {
   "cell_type": "code",
   "execution_count": 7,
   "id": "prompt-reviewer",
   "metadata": {},
   "outputs": [
    {
     "data": {
      "text/plain": [
       "378"
      ]
     },
     "execution_count": 7,
     "metadata": {},
     "output_type": "execute_result"
    }
   ],
   "source": [
    "len(df['City'].unique())"
   ]
  },
  {
   "cell_type": "code",
   "execution_count": 8,
   "id": "fewer-poverty",
   "metadata": {},
   "outputs": [
    {
     "data": {
      "text/html": [
       "<div>\n",
       "<style scoped>\n",
       "    .dataframe tbody tr th:only-of-type {\n",
       "        vertical-align: middle;\n",
       "    }\n",
       "\n",
       "    .dataframe tbody tr th {\n",
       "        vertical-align: top;\n",
       "    }\n",
       "\n",
       "    .dataframe thead th {\n",
       "        text-align: right;\n",
       "    }\n",
       "</style>\n",
       "<table border=\"1\" class=\"dataframe\">\n",
       "  <thead>\n",
       "    <tr style=\"text-align: right;\">\n",
       "      <th></th>\n",
       "      <th>City</th>\n",
       "      <th>State</th>\n",
       "      <th>Country</th>\n",
       "      <th>Wind Direction</th>\n",
       "      <th>Latitude</th>\n",
       "      <th>Cloud Cover (%)</th>\n",
       "      <th>Minimum Temperature (degF)</th>\n",
       "      <th>Date time</th>\n",
       "      <th>Precipitation (in)</th>\n",
       "      <th>Solar Radiation (W/m^2)</th>\n",
       "      <th>Dew Point (degF)</th>\n",
       "      <th>Relative Humidity (%)</th>\n",
       "      <th>ID</th>\n",
       "      <th>Precipitation Cover (%)</th>\n",
       "      <th>Longitude</th>\n",
       "      <th>Info</th>\n",
       "      <th>Temperature (degF)</th>\n",
       "      <th>Maximum Temperature (degF)</th>\n",
       "      <th>Visibility (mi)</th>\n",
       "      <th>Wind Speed (mph)</th>\n",
       "      <th>Solar Energy (J/m^2)</th>\n",
       "      <th>Heat Index (degF)</th>\n",
       "      <th>Weather Type</th>\n",
       "      <th>Snow Depth (in)</th>\n",
       "      <th>Sea Level Pressure (mb)</th>\n",
       "      <th>Snow (in)</th>\n",
       "      <th>Name.1</th>\n",
       "      <th>Wind Gust (mph)</th>\n",
       "      <th>Conditions</th>\n",
       "      <th>Wind Chill (degF)</th>\n",
       "    </tr>\n",
       "  </thead>\n",
       "  <tbody>\n",
       "    <tr>\n",
       "      <th>0</th>\n",
       "      <td>\u001a</td>\n",
       "      <td></td>\n",
       "      <td>\u001a</td>\n",
       "      <td>NaN</td>\n",
       "      <td>NaN</td>\n",
       "      <td>NaN</td>\n",
       "      <td>NaN</td>\n",
       "      <td>NaN</td>\n",
       "      <td>NaN</td>\n",
       "      <td>NaN</td>\n",
       "      <td>NaN</td>\n",
       "      <td>NaN</td>\n",
       "      <td>NaN</td>\n",
       "      <td>NaN</td>\n",
       "      <td>NaN</td>\n",
       "      <td>NaN</td>\n",
       "      <td>NaN</td>\n",
       "      <td>NaN</td>\n",
       "      <td>NaN</td>\n",
       "      <td>NaN</td>\n",
       "      <td>NaN</td>\n",
       "      <td>NaN</td>\n",
       "      <td>NaN</td>\n",
       "      <td>NaN</td>\n",
       "      <td>NaN</td>\n",
       "      <td>NaN</td>\n",
       "      <td>NaN</td>\n",
       "      <td>NaN</td>\n",
       "      <td>NaN</td>\n",
       "      <td>NaN</td>\n",
       "    </tr>\n",
       "    <tr>\n",
       "      <th>1</th>\n",
       "      <td>Akron</td>\n",
       "      <td>OH</td>\n",
       "      <td>United States</td>\n",
       "      <td>180.46</td>\n",
       "      <td>41.08431</td>\n",
       "      <td>10.3</td>\n",
       "      <td>23.2</td>\n",
       "      <td>1/1/2017</td>\n",
       "      <td>0.0</td>\n",
       "      <td>NaN</td>\n",
       "      <td>23.3</td>\n",
       "      <td>66.47</td>\n",
       "      <td>'Akron OH'</td>\n",
       "      <td>0.0</td>\n",
       "      <td>-81.51431</td>\n",
       "      <td>NaN</td>\n",
       "      <td>33.7</td>\n",
       "      <td>42.2</td>\n",
       "      <td>9.5</td>\n",
       "      <td>10.5</td>\n",
       "      <td>NaN</td>\n",
       "      <td>NaN</td>\n",
       "      <td>Mist</td>\n",
       "      <td>0.41</td>\n",
       "      <td>1020.8</td>\n",
       "      <td>0.0</td>\n",
       "      <td>Akron, OH, United States</td>\n",
       "      <td>NaN</td>\n",
       "      <td>Clear</td>\n",
       "      <td>21.1</td>\n",
       "    </tr>\n",
       "    <tr>\n",
       "      <th>2</th>\n",
       "      <td>Akron</td>\n",
       "      <td>OH</td>\n",
       "      <td>United States</td>\n",
       "      <td>84.79</td>\n",
       "      <td>41.08431</td>\n",
       "      <td>82.1</td>\n",
       "      <td>33.0</td>\n",
       "      <td>1/2/2017</td>\n",
       "      <td>0.0</td>\n",
       "      <td>NaN</td>\n",
       "      <td>37.6</td>\n",
       "      <td>85.22</td>\n",
       "      <td>'Akron OH'</td>\n",
       "      <td>16.67</td>\n",
       "      <td>-81.51431</td>\n",
       "      <td>NaN</td>\n",
       "      <td>41.8</td>\n",
       "      <td>47.8</td>\n",
       "      <td>3.4</td>\n",
       "      <td>7.3</td>\n",
       "      <td>NaN</td>\n",
       "      <td>NaN</td>\n",
       "      <td>Mist, Light Drizzle, Rain, Fog, Light Rain</td>\n",
       "      <td>0.0</td>\n",
       "      <td>1020.3</td>\n",
       "      <td>0.0</td>\n",
       "      <td>Akron, OH, United States</td>\n",
       "      <td>NaN</td>\n",
       "      <td>Overcast</td>\n",
       "      <td>26.5</td>\n",
       "    </tr>\n",
       "    <tr>\n",
       "      <th>3</th>\n",
       "      <td>Akron</td>\n",
       "      <td>OH</td>\n",
       "      <td>United States</td>\n",
       "      <td>179.42</td>\n",
       "      <td>41.08431</td>\n",
       "      <td>90.3</td>\n",
       "      <td>42.0</td>\n",
       "      <td>1/3/2017</td>\n",
       "      <td>0.37</td>\n",
       "      <td>NaN</td>\n",
       "      <td>43.6</td>\n",
       "      <td>90.06</td>\n",
       "      <td>'Akron OH'</td>\n",
       "      <td>66.67</td>\n",
       "      <td>-81.51431</td>\n",
       "      <td>NaN</td>\n",
       "      <td>46.3</td>\n",
       "      <td>48.8</td>\n",
       "      <td>5.0</td>\n",
       "      <td>13.1</td>\n",
       "      <td>NaN</td>\n",
       "      <td>NaN</td>\n",
       "      <td>Mist, Rain, Fog, Heavy Rain, Light Rain</td>\n",
       "      <td>0.0</td>\n",
       "      <td>1005.3</td>\n",
       "      <td>0.0</td>\n",
       "      <td>Akron, OH, United States</td>\n",
       "      <td>29.8</td>\n",
       "      <td>Rain, Overcast</td>\n",
       "      <td>35.0</td>\n",
       "    </tr>\n",
       "    <tr>\n",
       "      <th>4</th>\n",
       "      <td>Akron</td>\n",
       "      <td>OH</td>\n",
       "      <td>United States</td>\n",
       "      <td>275.25</td>\n",
       "      <td>41.08431</td>\n",
       "      <td>95.8</td>\n",
       "      <td>20.8</td>\n",
       "      <td>1/4/2017</td>\n",
       "      <td>0.02</td>\n",
       "      <td>NaN</td>\n",
       "      <td>20.8</td>\n",
       "      <td>68.33</td>\n",
       "      <td>'Akron OH'</td>\n",
       "      <td>20.83</td>\n",
       "      <td>-81.51431</td>\n",
       "      <td>NaN</td>\n",
       "      <td>30.2</td>\n",
       "      <td>43.0</td>\n",
       "      <td>8.6</td>\n",
       "      <td>31.5</td>\n",
       "      <td>NaN</td>\n",
       "      <td>NaN</td>\n",
       "      <td>Mist, Light Snow, Light Rain</td>\n",
       "      <td>0.0</td>\n",
       "      <td>1008.3</td>\n",
       "      <td>0.0</td>\n",
       "      <td>Akron, OH, United States</td>\n",
       "      <td>39.6</td>\n",
       "      <td>Rain, Overcast</td>\n",
       "      <td>5.1</td>\n",
       "    </tr>\n",
       "  </tbody>\n",
       "</table>\n",
       "</div>"
      ],
      "text/plain": [
       "    City State        Country Wind Direction  Latitude Cloud Cover (%)  \\\n",
       "0      \u001a                    \u001a            NaN       NaN             NaN   \n",
       "1  Akron    OH  United States         180.46  41.08431            10.3   \n",
       "2  Akron    OH  United States          84.79  41.08431            82.1   \n",
       "3  Akron    OH  United States         179.42  41.08431            90.3   \n",
       "4  Akron    OH  United States         275.25  41.08431            95.8   \n",
       "\n",
       "  Minimum Temperature (degF) Date time Precipitation (in)  \\\n",
       "0                        NaN       NaN                NaN   \n",
       "1                       23.2  1/1/2017                0.0   \n",
       "2                       33.0  1/2/2017                0.0   \n",
       "3                       42.0  1/3/2017               0.37   \n",
       "4                       20.8  1/4/2017               0.02   \n",
       "\n",
       "  Solar Radiation (W/m^2) Dew Point (degF) Relative Humidity (%)          ID  \\\n",
       "0                     NaN              NaN                   NaN         NaN   \n",
       "1                     NaN             23.3                 66.47  'Akron OH'   \n",
       "2                     NaN             37.6                 85.22  'Akron OH'   \n",
       "3                     NaN             43.6                 90.06  'Akron OH'   \n",
       "4                     NaN             20.8                 68.33  'Akron OH'   \n",
       "\n",
       "  Precipitation Cover (%) Longitude Info Temperature (degF)  \\\n",
       "0                     NaN       NaN  NaN                NaN   \n",
       "1                     0.0 -81.51431  NaN               33.7   \n",
       "2                   16.67 -81.51431  NaN               41.8   \n",
       "3                   66.67 -81.51431  NaN               46.3   \n",
       "4                   20.83 -81.51431  NaN               30.2   \n",
       "\n",
       "  Maximum Temperature (degF) Visibility (mi) Wind Speed (mph)  \\\n",
       "0                        NaN             NaN              NaN   \n",
       "1                       42.2             9.5             10.5   \n",
       "2                       47.8             3.4              7.3   \n",
       "3                       48.8             5.0             13.1   \n",
       "4                       43.0             8.6             31.5   \n",
       "\n",
       "  Solar Energy (J/m^2) Heat Index (degF)  \\\n",
       "0                  NaN               NaN   \n",
       "1                  NaN               NaN   \n",
       "2                  NaN               NaN   \n",
       "3                  NaN               NaN   \n",
       "4                  NaN               NaN   \n",
       "\n",
       "                                 Weather Type Snow Depth (in)  \\\n",
       "0                                         NaN             NaN   \n",
       "1                                        Mist            0.41   \n",
       "2  Mist, Light Drizzle, Rain, Fog, Light Rain             0.0   \n",
       "3     Mist, Rain, Fog, Heavy Rain, Light Rain             0.0   \n",
       "4                Mist, Light Snow, Light Rain             0.0   \n",
       "\n",
       "  Sea Level Pressure (mb) Snow (in)                    Name.1 Wind Gust (mph)  \\\n",
       "0                     NaN       NaN                       NaN             NaN   \n",
       "1                  1020.8       0.0  Akron, OH, United States             NaN   \n",
       "2                  1020.3       0.0  Akron, OH, United States             NaN   \n",
       "3                  1005.3       0.0  Akron, OH, United States            29.8   \n",
       "4                  1008.3       0.0  Akron, OH, United States            39.6   \n",
       "\n",
       "       Conditions Wind Chill (degF)  \n",
       "0             NaN               NaN  \n",
       "1           Clear              21.1  \n",
       "2        Overcast              26.5  \n",
       "3  Rain, Overcast              35.0  \n",
       "4  Rain, Overcast               5.1  "
      ]
     },
     "execution_count": 8,
     "metadata": {},
     "output_type": "execute_result"
    }
   ],
   "source": [
    "df.head()"
   ]
  },
  {
   "cell_type": "code",
   "execution_count": 9,
   "id": "unavailable-multimedia",
   "metadata": {},
   "outputs": [
    {
     "data": {
      "text/plain": [
       "CA                 61443\n",
       "FL                 50689\n",
       "TX                 43012\n",
       "MI                 24579\n",
       "NC                 24577\n",
       "WA                 23044\n",
       "OH                 21507\n",
       "PA                 18434\n",
       "WI                 18434\n",
       "NY                 18433\n",
       "AZ                 16906\n",
       "IN                 16897\n",
       "IL                 16897\n",
       "LA                 15363\n",
       "SC                 15360\n",
       "VA                 13825\n",
       "CO                 12290\n",
       "OR                 12290\n",
       "TN                 12289\n",
       "CT                 12289\n",
       "IA                 12288\n",
       "NJ                 10754\n",
       "AR                 10752\n",
       "KY                  7682\n",
       "MS                  7681\n",
       "MA                  7681\n",
       "OK                  7680\n",
       "MN                  7680\n",
       "UT                  7680\n",
       "ME                  6146\n",
       "NM                  6145\n",
       "MD                  6145\n",
       "NV                  6144\n",
       "ID                  6144\n",
       "MO                  6144\n",
       "AK                  4609\n",
       "MT                  4609\n",
       "WY                  4608\n",
       "SD                  4608\n",
       "VT                  4608\n",
       "GA                  3073\n",
       "NE                  3072\n",
       "NH                  3072\n",
       "KS                  3072\n",
       "DE                  3072\n",
       "Canelones           1537\n",
       "HI                  1537\n",
       "91002 Canelones     1537\n",
       "ND                  1537\n",
       "WV                  1536\n",
       "DC                  1536\n",
       "15006 Canelones      730\n",
       "                      13\n",
       "Name: State, dtype: int64"
      ]
     },
     "execution_count": 9,
     "metadata": {},
     "output_type": "execute_result"
    }
   ],
   "source": [
    "df['State'].value_counts()"
   ]
  },
  {
   "cell_type": "code",
   "execution_count": 10,
   "id": "gothic-machine",
   "metadata": {},
   "outputs": [
    {
     "data": {
      "text/plain": [
       "Springfield           6144\n",
       "Albany                4611\n",
       "Warren                4608\n",
       "Ashland               3074\n",
       "Salinas               3073\n",
       "Santa Rosa            3073\n",
       "Wilmington            3072\n",
       "Fayetteville          3072\n",
       "Lewiston              3072\n",
       "Washington            3072\n",
       "Columbus              3072\n",
       "Longview              3072\n",
       "Portland              3072\n",
       "Columbia              3072\n",
       "Rochester             3072\n",
       "Jackson               3072\n",
       "Greenville            3072\n",
       "Lafayette             3072\n",
       "Conway                3072\n",
       "Long Beach            2266\n",
       "Amarillo              1537\n",
       "Anderson              1537\n",
       "Billings              1537\n",
       "Anacortes             1537\n",
       "Ann Arbor             1537\n",
       "Bossier City          1537\n",
       "Yuma                  1537\n",
       "Boulder               1537\n",
       "Benton Harbor         1537\n",
       "Auburn                1537\n",
       "Bakersfield           1537\n",
       "Tucson                1537\n",
       "Austin                1537\n",
       "Bridgeton             1537\n",
       "Biloxi                1537\n",
       "Flagstaff             1537\n",
       "Honolulu              1537\n",
       "Beloit                1537\n",
       "Bristol               1537\n",
       "Asheville             1537\n",
       "Bloomington           1537\n",
       "Mesa                  1537\n",
       "Prescott              1537\n",
       "Bay City              1537\n",
       "Akron                 1537\n",
       "Appleton              1537\n",
       "Allentown             1537\n",
       "Scottsdale            1537\n",
       "Sierra Vista          1537\n",
       "Albuquerque           1537\n",
       "Bend                  1537\n",
       "Alexandria            1537\n",
       "Lake Havasu City      1537\n",
       "Phoenix               1537\n",
       "Altoona               1537\n",
       "Anchorage             1537\n",
       "Atlantic City         1537\n",
       "Beaumont              1537\n",
       "Boston                1537\n",
       "Bellingham            1537\n",
       "Bremerton             1537\n",
       "Bridgeport            1537\n",
       "Anaheim               1537\n",
       "Baltimore             1537\n",
       "Arlington             1537\n",
       "Kingman               1537\n",
       "Bangor                1537\n",
       "Bowling Green         1537\n",
       "Bradenton             1537\n",
       "Arroyo Grande         1537\n",
       "Baton Rouge           1537\n",
       "Athens                1537\n",
       "Bismarck              1537\n",
       "Aurora                1537\n",
       "Bellevue              1537\n",
       "Blacksburg            1537\n",
       "Moline                1536\n",
       "Corpus Christi        1536\n",
       "Wyoming               1536\n",
       "Scottsbluff           1536\n",
       "Henderson             1536\n",
       "Redmond               1536\n",
       "Tacoma                1536\n",
       "Taos                  1536\n",
       "Winchester            1536\n",
       "Hanford               1536\n",
       "Elko                  1536\n",
       "Kokomo                1536\n",
       "Massillon             1536\n",
       "Norwich               1536\n",
       "Gulfport              1536\n",
       "North Myrtle Beach    1536\n",
       "Sheridan              1536\n",
       "Holland               1536\n",
       "Greensboro            1536\n",
       "Lynchburg             1536\n",
       "State College         1536\n",
       "Juneau                1536\n",
       "Douglas               1536\n",
       "Pocatello             1536\n",
       "Greeley               1536\n",
       "Tampa                 1536\n",
       "Rocky Mount           1536\n",
       "Urbana                1536\n",
       "Stockton              1536\n",
       "Manchester            1536\n",
       "Grand Junction        1536\n",
       "Raleigh               1536\n",
       "San Francisco         1536\n",
       "Lake Charles          1536\n",
       "North Port            1536\n",
       "Hammonton             1536\n",
       "Council Bluffs        1536\n",
       "Oakland               1536\n",
       "Seattle               1536\n",
       "Denver                1536\n",
       "Naples                1536\n",
       "Provo                 1536\n",
       "Bryan                 1536\n",
       "Christiansburg        1536\n",
       "Rome                  1536\n",
       "Corcoran              1536\n",
       "Watertown             1536\n",
       "Owensboro             1536\n",
       "Grants Pass           1536\n",
       "New Braunfels         1536\n",
       "Mt Vernon             1536\n",
       "Kissimmee             1536\n",
       "Sarasota              1536\n",
       "La Porte              1536\n",
       "Norwalk               1536\n",
       "Houston               1536\n",
       "Chapel Hill           1536\n",
       "Little Rock           1536\n",
       "Lubbock               1536\n",
       "Harrisburg            1536\n",
       "Muskegon              1536\n",
       "Lancaster             1536\n",
       "Brookings             1536\n",
       "Missoula              1536\n",
       "Oklahoma City         1536\n",
       "Clearwater            1536\n",
       "Waco                  1536\n",
       "Charlottesville       1536\n",
       "Knoxville             1536\n",
       "Morganton             1536\n",
       "Hartford              1536\n",
       "Lenoir                1536\n",
       "Concord               1536\n",
       "Effingham             1536\n",
       "Milford               1536\n",
       "Orem                  1536\n",
       "San Diego             1536\n",
       "Victoria              1536\n",
       "Lansing               1536\n",
       "Sebring               1536\n",
       "Colorado Springs      1536\n",
       "Visalia               1536\n",
       "Winona                1536\n",
       "Vallejo               1536\n",
       "Killeen               1536\n",
       "Hagerstown            1536\n",
       "Sanford               1536\n",
       "Clinton               1536\n",
       "Steubenville          1536\n",
       "Warner Robins         1536\n",
       "Evansville            1536\n",
       "Decatur               1536\n",
       "Sioux Falls           1536\n",
       "Cheyenne              1536\n",
       "Pittsfield            1536\n",
       "Burlington            1536\n",
       "Vineland              1536\n",
       "Topeka                1536\n",
       "Dover                 1536\n",
       "Miami                 1536\n",
       "Temple                1536\n",
       "Iowa City             1536\n",
       "Tulsa                 1536\n",
       "Brownsville           1536\n",
       "Roseville             1536\n",
       "Elizabethtown         1536\n",
       "Salem                 1536\n",
       "Olympia               1536\n",
       "Carmel                1536\n",
       "Cedar Rapids          1536\n",
       "Lima                  1536\n",
       "Sacramento            1536\n",
       "Peoria                1536\n",
       "Minneapolis           1536\n",
       "Fairfield             1536\n",
       "Niagara Falls         1536\n",
       "Cambridge             1536\n",
       "Porterville           1536\n",
       "Rapid City            1536\n",
       "Eugene                1536\n",
       "Cape Coral            1536\n",
       "Los Alamos            1536\n",
       "Lakeland              1536\n",
       "Rogers                1536\n",
       "Sunnyvale             1536\n",
       "Oxnard                1536\n",
       "Troy                  1536\n",
       "Buffalo               1536\n",
       "Chicago               1536\n",
       "Mission               1536\n",
       "Dayton                1536\n",
       "Roanoke               1536\n",
       "Sheboygan             1536\n",
       "San Antonio           1536\n",
       "Hickory               1536\n",
       "Fairbanks             1536\n",
       "Fort Lauderdale       1536\n",
       "East Lansing          1536\n",
       "El Paso               1536\n",
       "Reno                  1536\n",
       "Palm Bay              1536\n",
       "Titusville            1536\n",
       "Fort Wayne            1536\n",
       "Great Falls           1536\n",
       "Muskogee              1536\n",
       "Round Rock            1536\n",
       "Flint                 1536\n",
       "New Haven             1536\n",
       "Gainesville           1536\n",
       "Dallas                1536\n",
       "Fort Collins          1536\n",
       "Syracuse              1536\n",
       "Chico                 1536\n",
       "Riverside             1536\n",
       "Yakima                1536\n",
       "Cleveland             1536\n",
       "Houma                 1536\n",
       "Pascagoula            1536\n",
       "Thousand Oaks         1536\n",
       "Utica                 1536\n",
       "Racine                1536\n",
       "Salisbury             1536\n",
       "Myrtle Beach          1536\n",
       "San Bernardino        1536\n",
       "Schenectady           1536\n",
       "Morgantown            1536\n",
       "Radford               1536\n",
       "Ogden                 1536\n",
       "Ormond Beach          1536\n",
       "Wichita               1536\n",
       "Winter Haven          1536\n",
       "Kingsport             1536\n",
       "Durham                1536\n",
       "Lincoln               1536\n",
       "Marco Island          1536\n",
       "Lebanon               1536\n",
       "Champaign             1536\n",
       "Stamford              1536\n",
       "Green Bay             1536\n",
       "San Jose              1536\n",
       "Wausau                1536\n",
       "Spokane               1536\n",
       "Trenton               1536\n",
       "Ithaca                1536\n",
       "Elyria                1536\n",
       "Vero Beach            1536\n",
       "West Palm Beach       1536\n",
       "Salt Lake City        1536\n",
       "Pensacola             1536\n",
       "Fort Smith            1536\n",
       "Hanover               1536\n",
       "Napa                  1536\n",
       "Jacksonville          1536\n",
       "Waukesha              1536\n",
       "Laredo                1536\n",
       "Chambersburg          1536\n",
       "Panama City           1536\n",
       "Nashua                1536\n",
       "Canton                1536\n",
       "Fort Walton Beach     1536\n",
       "New London            1536\n",
       "El Centro             1536\n",
       "Santa Clara           1536\n",
       "San Luis Obispo       1536\n",
       "Madison               1536\n",
       "Idaho Falls           1536\n",
       "Indiana               1536\n",
       "Richmond              1536\n",
       "Daytona Beach         1536\n",
       "Casper                1536\n",
       "Wenatchee             1536\n",
       "Scranton              1536\n",
       "Carlsbad              1536\n",
       "Florence              1536\n",
       "Fort Worth            1536\n",
       "Texarkana             1536\n",
       "Toledo                1536\n",
       "Cumberland            1536\n",
       "Walla Walla           1536\n",
       "Ontario               1536\n",
       "Fort Myers            1536\n",
       "Joplin                1536\n",
       "Edinburg              1536\n",
       "Odessa                1536\n",
       "Melbourne             1536\n",
       "Rutland               1536\n",
       "Milwaukee             1536\n",
       "Lodi                  1536\n",
       "Modesto               1536\n",
       "Sioux City            1536\n",
       "Franklin              1536\n",
       "Enid                  1536\n",
       "Erie                  1536\n",
       "Janesville            1536\n",
       "Tallahassee           1536\n",
       "Santa Barbara         1536\n",
       "Muscatine             1536\n",
       "Clearfield            1536\n",
       "Worcester             1536\n",
       "Sebastian             1536\n",
       "Port Arthur           1536\n",
       "Tyler                 1536\n",
       "Marshall              1536\n",
       "Lawton                1536\n",
       "College Station       1536\n",
       "North Little Rock     1536\n",
       "High Point            1536\n",
       "Harlingen             1536\n",
       "Des Moines            1536\n",
       "Nashville             1536\n",
       "Los Angeles           1536\n",
       "Twin Falls            1536\n",
       "Thibodaux             1536\n",
       "Spartanburg           1536\n",
       "Monroe                1536\n",
       "Charleston            1536\n",
       "Niles                 1536\n",
       "Eau Claire            1536\n",
       "New Orleans           1536\n",
       "Jasper                1536\n",
       "Rockford              1536\n",
       "Detroit               1536\n",
       "New York              1536\n",
       "South Bend            1536\n",
       "South Burlington      1536\n",
       "Las Cruces            1536\n",
       "Madera                1536\n",
       "West Lafayette        1536\n",
       "Pueblo                1536\n",
       "Shreveport            1536\n",
       "Mauldin               1536\n",
       "Waterloo              1536\n",
       "Jefferson City        1536\n",
       "Manitowoc             1536\n",
       "Portage               1536\n",
       "Houghton              1536\n",
       "Richland              1536\n",
       "Kalamazoo             1536\n",
       "Ocala                 1536\n",
       "Watsonville           1536\n",
       "Grand Rapids          1536\n",
       "Newark                1536\n",
       "Murfreesboro          1536\n",
       "Crestview             1536\n",
       "Morristown            1536\n",
       "Duluth                1536\n",
       "Hillsboro             1536\n",
       "Rock Island           1536\n",
       "Orlando               1536\n",
       "Hattiesburg           1536\n",
       "Merced                1536\n",
       "Lexington             1536\n",
       "Charlotte             1536\n",
       "Yuba City             1536\n",
       "Santa Cruz            1536\n",
       "Jersey City           1536\n",
       "Kennewick             1536\n",
       "North Charleston      1536\n",
       "Las Vegas             1536\n",
       "Harrisonburg          1536\n",
       "Name                    12\n",
       "\u001a                        1\n",
       "Name: City, dtype: int64"
      ]
     },
     "execution_count": 10,
     "metadata": {},
     "output_type": "execute_result"
    }
   ],
   "source": [
    "df['City'].value_counts()"
   ]
  },
  {
   "cell_type": "code",
   "execution_count": 11,
   "id": "prescription-police",
   "metadata": {},
   "outputs": [
    {
     "data": {
      "text/plain": [
       "United States    609853\n",
       "Uruguay            3804\n",
       "Name                 12\n",
       "\u001a                     1\n",
       "Name: Country, dtype: int64"
      ]
     },
     "execution_count": 11,
     "metadata": {},
     "output_type": "execute_result"
    }
   ],
   "source": [
    "df['Country'].value_counts()"
   ]
  },
  {
   "cell_type": "code",
   "execution_count": 12,
   "id": "ignored-decrease",
   "metadata": {},
   "outputs": [
    {
     "name": "stdout",
     "output_type": "stream",
     "text": [
      "(613670, 30)\n"
     ]
    },
    {
     "data": {
      "text/plain": [
       "Index(['City', 'State', 'Country', 'Wind Direction', 'Latitude',\n",
       "       'Cloud Cover (%)', 'Minimum Temperature (degF)', 'Date time',\n",
       "       'Precipitation (in)', 'Solar Radiation (W/m^2)', 'Dew Point (degF)',\n",
       "       'Relative Humidity (%)', 'ID', 'Precipitation Cover (%)', 'Longitude',\n",
       "       'Info', 'Temperature (degF)', 'Maximum Temperature (degF)',\n",
       "       'Visibility (mi)', 'Wind Speed (mph)', 'Solar Energy (J/m^2)',\n",
       "       'Heat Index (degF)', 'Weather Type', 'Snow Depth (in)',\n",
       "       'Sea Level Pressure (mb)', 'Snow (in)', 'Name.1', 'Wind Gust (mph)',\n",
       "       'Conditions', 'Wind Chill (degF)'],\n",
       "      dtype='object')"
      ]
     },
     "execution_count": 12,
     "metadata": {},
     "output_type": "execute_result"
    }
   ],
   "source": [
    "print(df.shape)\n",
    "df.columns"
   ]
  },
  {
   "cell_type": "code",
   "execution_count": 13,
   "id": "worth-queue",
   "metadata": {},
   "outputs": [
    {
     "data": {
      "text/plain": [
       "City                          object\n",
       "State                         object\n",
       "Country                       object\n",
       "Wind Direction                object\n",
       "Latitude                      object\n",
       "Cloud Cover (%)               object\n",
       "Minimum Temperature (degF)    object\n",
       "Date time                     object\n",
       "Precipitation (in)            object\n",
       "Solar Radiation (W/m^2)       object\n",
       "Dew Point (degF)              object\n",
       "Relative Humidity (%)         object\n",
       "ID                            object\n",
       "Precipitation Cover (%)       object\n",
       "Longitude                     object\n",
       "Info                          object\n",
       "Temperature (degF)            object\n",
       "Maximum Temperature (degF)    object\n",
       "Visibility (mi)               object\n",
       "Wind Speed (mph)              object\n",
       "Solar Energy (J/m^2)          object\n",
       "Heat Index (degF)             object\n",
       "Weather Type                  object\n",
       "Snow Depth (in)               object\n",
       "Sea Level Pressure (mb)       object\n",
       "Snow (in)                     object\n",
       "Name.1                        object\n",
       "Wind Gust (mph)               object\n",
       "Conditions                    object\n",
       "Wind Chill (degF)             object\n",
       "dtype: object"
      ]
     },
     "execution_count": 13,
     "metadata": {},
     "output_type": "execute_result"
    }
   ],
   "source": [
    "df.dtypes"
   ]
  },
  {
   "cell_type": "markdown",
   "id": "lesser-messaging",
   "metadata": {},
   "source": [
    "### Cleaning Data"
   ]
  },
  {
   "cell_type": "code",
   "execution_count": 14,
   "id": "pharmaceutical-daily",
   "metadata": {},
   "outputs": [],
   "source": [
    "# remove wrong country info\n",
    "df = df[~(df['Country'] == 'Uruguay') & ~(df['Country'] == 'Name')]"
   ]
  },
  {
   "cell_type": "code",
   "execution_count": 15,
   "id": "blond-balance",
   "metadata": {},
   "outputs": [
    {
     "data": {
      "text/plain": [
       "United States    609853\n",
       "\u001a                     1\n",
       "Name: Country, dtype: int64"
      ]
     },
     "execution_count": 15,
     "metadata": {},
     "output_type": "execute_result"
    }
   ],
   "source": [
    "df['Country'].value_counts()"
   ]
  },
  {
   "cell_type": "code",
   "execution_count": 16,
   "id": "static-identification",
   "metadata": {},
   "outputs": [
    {
     "data": {
      "text/plain": [
       "Springfield           6144\n",
       "Albany                4611\n",
       "Warren                4608\n",
       "Ashland               3074\n",
       "Washington            3072\n",
       "Longview              3072\n",
       "Jackson               3072\n",
       "Greenville            3072\n",
       "Lewiston              3072\n",
       "Portland              3072\n",
       "Fayetteville          3072\n",
       "Columbus              3072\n",
       "Columbia              3072\n",
       "Conway                3072\n",
       "Lafayette             3072\n",
       "Wilmington            3072\n",
       "Rochester             3072\n",
       "Bakersfield           1537\n",
       "Asheville             1537\n",
       "Arroyo Grande         1537\n",
       "Austin                1537\n",
       "Bridgeton             1537\n",
       "Akron                 1537\n",
       "Auburn                1537\n",
       "Bristol               1537\n",
       "Bellevue              1537\n",
       "Tucson                1537\n",
       "Bloomington           1537\n",
       "Benton Harbor         1537\n",
       "Anderson              1537\n",
       "Bend                  1537\n",
       "Allentown             1537\n",
       "Alexandria            1537\n",
       "Bay City              1537\n",
       "Boulder               1537\n",
       "Prescott              1537\n",
       "Billings              1537\n",
       "Phoenix               1537\n",
       "Anacortes             1537\n",
       "Ann Arbor             1537\n",
       "Bossier City          1537\n",
       "Mesa                  1537\n",
       "Yuma                  1537\n",
       "Lake Havasu City      1537\n",
       "Bismarck              1537\n",
       "Albuquerque           1537\n",
       "Scottsdale            1537\n",
       "Athens                1537\n",
       "Bangor                1537\n",
       "Kingman               1537\n",
       "Arlington             1537\n",
       "Baltimore             1537\n",
       "Bridgeport            1537\n",
       "Biloxi                1537\n",
       "Beaumont              1537\n",
       "Anchorage             1537\n",
       "Blacksburg            1537\n",
       "Boston                1537\n",
       "Anaheim               1537\n",
       "Baton Rouge           1537\n",
       "Amarillo              1537\n",
       "Aurora                1537\n",
       "Bremerton             1537\n",
       "Honolulu              1537\n",
       "Beloit                1537\n",
       "Altoona               1537\n",
       "Bradenton             1537\n",
       "Bowling Green         1537\n",
       "Flagstaff             1537\n",
       "Bellingham            1537\n",
       "Atlantic City         1537\n",
       "Appleton              1537\n",
       "Sierra Vista          1537\n",
       "Salinas               1536\n",
       "Sheridan              1536\n",
       "North Myrtle Beach    1536\n",
       "Kissimmee             1536\n",
       "Winchester            1536\n",
       "Henderson             1536\n",
       "Hanford               1536\n",
       "Juneau                1536\n",
       "Scottsbluff           1536\n",
       "Lynchburg             1536\n",
       "Gulfport              1536\n",
       "Massillon             1536\n",
       "Redmond               1536\n",
       "Wyoming               1536\n",
       "Corpus Christi        1536\n",
       "Moline                1536\n",
       "Sarasota              1536\n",
       "Tampa                 1536\n",
       "Grants Pass           1536\n",
       "Watertown             1536\n",
       "Council Bluffs        1536\n",
       "Naples                1536\n",
       "Bryan                 1536\n",
       "Rome                  1536\n",
       "Corcoran              1536\n",
       "Owensboro             1536\n",
       "New Braunfels         1536\n",
       "Douglas               1536\n",
       "Tacoma                1536\n",
       "Taos                  1536\n",
       "Elko                  1536\n",
       "Kokomo                1536\n",
       "Norwich               1536\n",
       "Holland               1536\n",
       "Fort Lauderdale       1536\n",
       "Hammonton             1536\n",
       "North Port            1536\n",
       "Rocky Mount           1536\n",
       "San Francisco         1536\n",
       "Christiansburg        1536\n",
       "Provo                 1536\n",
       "Denver                1536\n",
       "Seattle               1536\n",
       "Oakland               1536\n",
       "Lake Charles          1536\n",
       "Raleigh               1536\n",
       "Pocatello             1536\n",
       "Grand Junction        1536\n",
       "Manchester            1536\n",
       "Urbana                1536\n",
       "Greeley               1536\n",
       "State College         1536\n",
       "Mt Vernon             1536\n",
       "Greensboro            1536\n",
       "La Porte              1536\n",
       "Stockton              1536\n",
       "Oklahoma City         1536\n",
       "Chapel Hill           1536\n",
       "Little Rock           1536\n",
       "Lubbock               1536\n",
       "Harrisburg            1536\n",
       "Muskegon              1536\n",
       "Lancaster             1536\n",
       "Brookings             1536\n",
       "Missoula              1536\n",
       "Clearwater            1536\n",
       "Norwalk               1536\n",
       "Waco                  1536\n",
       "Charlottesville       1536\n",
       "Knoxville             1536\n",
       "Morganton             1536\n",
       "Hartford              1536\n",
       "Lenoir                1536\n",
       "Concord               1536\n",
       "Pittsfield            1536\n",
       "Effingham             1536\n",
       "Houston               1536\n",
       "Milford               1536\n",
       "San Diego             1536\n",
       "Victoria              1536\n",
       "Lansing               1536\n",
       "Sebring               1536\n",
       "Colorado Springs      1536\n",
       "Visalia               1536\n",
       "Winona                1536\n",
       "Vallejo               1536\n",
       "Killeen               1536\n",
       "Hagerstown            1536\n",
       "Sanford               1536\n",
       "Clinton               1536\n",
       "Steubenville          1536\n",
       "Warner Robins         1536\n",
       "Evansville            1536\n",
       "Decatur               1536\n",
       "Sioux Falls           1536\n",
       "Cheyenne              1536\n",
       "Orem                  1536\n",
       "Burlington            1536\n",
       "Porterville           1536\n",
       "Niagara Falls         1536\n",
       "Miami                 1536\n",
       "Temple                1536\n",
       "Iowa City             1536\n",
       "Tulsa                 1536\n",
       "Brownsville           1536\n",
       "Roseville             1536\n",
       "Elizabethtown         1536\n",
       "El Paso               1536\n",
       "Olympia               1536\n",
       "Carmel                1536\n",
       "Cedar Rapids          1536\n",
       "Lima                  1536\n",
       "Sacramento            1536\n",
       "Peoria                1536\n",
       "Minneapolis           1536\n",
       "Fairfield             1536\n",
       "Vineland              1536\n",
       "Dover                 1536\n",
       "Topeka                1536\n",
       "Eugene                1536\n",
       "Cambridge             1536\n",
       "Cape Coral            1536\n",
       "Los Alamos            1536\n",
       "Lakeland              1536\n",
       "Rogers                1536\n",
       "Sunnyvale             1536\n",
       "Oxnard                1536\n",
       "Troy                  1536\n",
       "Buffalo               1536\n",
       "Chicago               1536\n",
       "Mission               1536\n",
       "Dayton                1536\n",
       "Roanoke               1536\n",
       "Sheboygan             1536\n",
       "San Antonio           1536\n",
       "Hickory               1536\n",
       "Fairbanks             1536\n",
       "Rapid City            1536\n",
       "Salem                 1536\n",
       "East Lansing          1536\n",
       "Utica                 1536\n",
       "Reno                  1536\n",
       "Palm Bay              1536\n",
       "Titusville            1536\n",
       "Fort Wayne            1536\n",
       "Great Falls           1536\n",
       "Muskogee              1536\n",
       "Round Rock            1536\n",
       "Flint                 1536\n",
       "New Haven             1536\n",
       "Gainesville           1536\n",
       "Dallas                1536\n",
       "Fort Collins          1536\n",
       "Syracuse              1536\n",
       "Chico                 1536\n",
       "Riverside             1536\n",
       "Yakima                1536\n",
       "Cleveland             1536\n",
       "Houma                 1536\n",
       "Pascagoula            1536\n",
       "Thousand Oaks         1536\n",
       "College Station       1536\n",
       "Racine                1536\n",
       "Salisbury             1536\n",
       "Myrtle Beach          1536\n",
       "San Bernardino        1536\n",
       "Schenectady           1536\n",
       "Morgantown            1536\n",
       "Radford               1536\n",
       "Ogden                 1536\n",
       "Ormond Beach          1536\n",
       "Wichita               1536\n",
       "Winter Haven          1536\n",
       "Kingsport             1536\n",
       "Durham                1536\n",
       "Lincoln               1536\n",
       "Marco Island          1536\n",
       "Lebanon               1536\n",
       "Champaign             1536\n",
       "Stamford              1536\n",
       "Green Bay             1536\n",
       "San Jose              1536\n",
       "Wausau                1536\n",
       "Spokane               1536\n",
       "Trenton               1536\n",
       "Ithaca                1536\n",
       "Elyria                1536\n",
       "Vero Beach            1536\n",
       "West Palm Beach       1536\n",
       "Salt Lake City        1536\n",
       "Pensacola             1536\n",
       "Fort Smith            1536\n",
       "Hanover               1536\n",
       "Napa                  1536\n",
       "Jacksonville          1536\n",
       "Waukesha              1536\n",
       "Laredo                1536\n",
       "Chambersburg          1536\n",
       "Panama City           1536\n",
       "Nashua                1536\n",
       "Canton                1536\n",
       "Fort Walton Beach     1536\n",
       "New London            1536\n",
       "El Centro             1536\n",
       "Santa Clara           1536\n",
       "San Luis Obispo       1536\n",
       "Madison               1536\n",
       "Idaho Falls           1536\n",
       "Indiana               1536\n",
       "Richmond              1536\n",
       "Daytona Beach         1536\n",
       "Casper                1536\n",
       "Wenatchee             1536\n",
       "Scranton              1536\n",
       "Carlsbad              1536\n",
       "Florence              1536\n",
       "Fort Worth            1536\n",
       "Texarkana             1536\n",
       "Toledo                1536\n",
       "Cumberland            1536\n",
       "Walla Walla           1536\n",
       "Ontario               1536\n",
       "Fort Myers            1536\n",
       "Joplin                1536\n",
       "Edinburg              1536\n",
       "Melbourne             1536\n",
       "Rutland               1536\n",
       "Milwaukee             1536\n",
       "Lodi                  1536\n",
       "Modesto               1536\n",
       "Sioux City            1536\n",
       "Franklin              1536\n",
       "Enid                  1536\n",
       "Erie                  1536\n",
       "Janesville            1536\n",
       "Tallahassee           1536\n",
       "Santa Barbara         1536\n",
       "Muscatine             1536\n",
       "Clearfield            1536\n",
       "Worcester             1536\n",
       "Sebastian             1536\n",
       "Rockford              1536\n",
       "Odessa                1536\n",
       "Port Arthur           1536\n",
       "Tyler                 1536\n",
       "Twin Falls            1536\n",
       "North Little Rock     1536\n",
       "High Point            1536\n",
       "Harlingen             1536\n",
       "Des Moines            1536\n",
       "Nashville             1536\n",
       "Los Angeles           1536\n",
       "Lawton                1536\n",
       "Spartanburg           1536\n",
       "Marshall              1536\n",
       "Monroe                1536\n",
       "Charleston            1536\n",
       "Niles                 1536\n",
       "Eau Claire            1536\n",
       "New Orleans           1536\n",
       "Jasper                1536\n",
       "Thibodaux             1536\n",
       "Detroit               1536\n",
       "Santa Rosa            1536\n",
       "New York              1536\n",
       "Waterloo              1536\n",
       "Las Cruces            1536\n",
       "Madera                1536\n",
       "West Lafayette        1536\n",
       "Pueblo                1536\n",
       "Shreveport            1536\n",
       "Mauldin               1536\n",
       "South Bend            1536\n",
       "Long Beach            1536\n",
       "Jefferson City        1536\n",
       "Manitowoc             1536\n",
       "Portage               1536\n",
       "Houghton              1536\n",
       "Richland              1536\n",
       "Kalamazoo             1536\n",
       "Ocala                 1536\n",
       "Watsonville           1536\n",
       "South Burlington      1536\n",
       "Grand Rapids          1536\n",
       "Newark                1536\n",
       "Murfreesboro          1536\n",
       "Morristown            1536\n",
       "Duluth                1536\n",
       "Hillsboro             1536\n",
       "Rock Island           1536\n",
       "Orlando               1536\n",
       "Hattiesburg           1536\n",
       "Merced                1536\n",
       "Lexington             1536\n",
       "Charlotte             1536\n",
       "Yuba City             1536\n",
       "Santa Cruz            1536\n",
       "Jersey City           1536\n",
       "Kennewick             1536\n",
       "North Charleston      1536\n",
       "Las Vegas             1536\n",
       "Crestview             1536\n",
       "Harrisonburg          1536\n",
       "\u001a                        1\n",
       "Name: City, dtype: int64"
      ]
     },
     "execution_count": 16,
     "metadata": {},
     "output_type": "execute_result"
    }
   ],
   "source": [
    "df[\"City\"].value_counts()"
   ]
  },
  {
   "cell_type": "code",
   "execution_count": 17,
   "id": "postal-peace",
   "metadata": {},
   "outputs": [
    {
     "data": {
      "text/html": [
       "<div>\n",
       "<style scoped>\n",
       "    .dataframe tbody tr th:only-of-type {\n",
       "        vertical-align: middle;\n",
       "    }\n",
       "\n",
       "    .dataframe tbody tr th {\n",
       "        vertical-align: top;\n",
       "    }\n",
       "\n",
       "    .dataframe thead th {\n",
       "        text-align: right;\n",
       "    }\n",
       "</style>\n",
       "<table border=\"1\" class=\"dataframe\">\n",
       "  <thead>\n",
       "    <tr style=\"text-align: right;\">\n",
       "      <th></th>\n",
       "      <th>City</th>\n",
       "      <th>State</th>\n",
       "      <th>Country</th>\n",
       "      <th>Wind Direction</th>\n",
       "      <th>Latitude</th>\n",
       "      <th>Cloud Cover (%)</th>\n",
       "      <th>Minimum Temperature (degF)</th>\n",
       "      <th>Date time</th>\n",
       "      <th>Precipitation (in)</th>\n",
       "      <th>Solar Radiation (W/m^2)</th>\n",
       "      <th>Dew Point (degF)</th>\n",
       "      <th>Relative Humidity (%)</th>\n",
       "      <th>ID</th>\n",
       "      <th>Precipitation Cover (%)</th>\n",
       "      <th>Longitude</th>\n",
       "      <th>Info</th>\n",
       "      <th>Temperature (degF)</th>\n",
       "      <th>Maximum Temperature (degF)</th>\n",
       "      <th>Visibility (mi)</th>\n",
       "      <th>Wind Speed (mph)</th>\n",
       "      <th>Solar Energy (J/m^2)</th>\n",
       "      <th>Heat Index (degF)</th>\n",
       "      <th>Weather Type</th>\n",
       "      <th>Snow Depth (in)</th>\n",
       "      <th>Sea Level Pressure (mb)</th>\n",
       "      <th>Snow (in)</th>\n",
       "      <th>Name.1</th>\n",
       "      <th>Wind Gust (mph)</th>\n",
       "      <th>Conditions</th>\n",
       "      <th>Wind Chill (degF)</th>\n",
       "    </tr>\n",
       "  </thead>\n",
       "  <tbody>\n",
       "  </tbody>\n",
       "</table>\n",
       "</div>"
      ],
      "text/plain": [
       "Empty DataFrame\n",
       "Columns: [City, State, Country, Wind Direction, Latitude, Cloud Cover (%), Minimum Temperature (degF), Date time, Precipitation (in), Solar Radiation (W/m^2), Dew Point (degF), Relative Humidity (%), ID, Precipitation Cover (%), Longitude, Info, Temperature (degF), Maximum Temperature (degF), Visibility (mi), Wind Speed (mph), Solar Energy (J/m^2), Heat Index (degF), Weather Type, Snow Depth (in), Sea Level Pressure (mb), Snow (in), Name.1, Wind Gust (mph), Conditions, Wind Chill (degF)]\n",
       "Index: []"
      ]
     },
     "execution_count": 17,
     "metadata": {},
     "output_type": "execute_result"
    }
   ],
   "source": [
    "# because of concatenating data \n",
    "df[df[\"City\"] == 'Name']"
   ]
  },
  {
   "cell_type": "code",
   "execution_count": 18,
   "id": "pediatric-throat",
   "metadata": {},
   "outputs": [
    {
     "data": {
      "text/html": [
       "<div>\n",
       "<style scoped>\n",
       "    .dataframe tbody tr th:only-of-type {\n",
       "        vertical-align: middle;\n",
       "    }\n",
       "\n",
       "    .dataframe tbody tr th {\n",
       "        vertical-align: top;\n",
       "    }\n",
       "\n",
       "    .dataframe thead th {\n",
       "        text-align: right;\n",
       "    }\n",
       "</style>\n",
       "<table border=\"1\" class=\"dataframe\">\n",
       "  <thead>\n",
       "    <tr style=\"text-align: right;\">\n",
       "      <th></th>\n",
       "      <th>City</th>\n",
       "      <th>State</th>\n",
       "      <th>Country</th>\n",
       "      <th>Wind Direction</th>\n",
       "      <th>Latitude</th>\n",
       "      <th>Cloud Cover (%)</th>\n",
       "      <th>Minimum Temperature (degF)</th>\n",
       "      <th>Date time</th>\n",
       "      <th>Precipitation (in)</th>\n",
       "      <th>Solar Radiation (W/m^2)</th>\n",
       "      <th>Dew Point (degF)</th>\n",
       "      <th>Relative Humidity (%)</th>\n",
       "      <th>ID</th>\n",
       "      <th>Precipitation Cover (%)</th>\n",
       "      <th>Longitude</th>\n",
       "      <th>Info</th>\n",
       "      <th>Temperature (degF)</th>\n",
       "      <th>Maximum Temperature (degF)</th>\n",
       "      <th>Visibility (mi)</th>\n",
       "      <th>Wind Speed (mph)</th>\n",
       "      <th>Solar Energy (J/m^2)</th>\n",
       "      <th>Heat Index (degF)</th>\n",
       "      <th>Weather Type</th>\n",
       "      <th>Snow Depth (in)</th>\n",
       "      <th>Sea Level Pressure (mb)</th>\n",
       "      <th>Snow (in)</th>\n",
       "      <th>Name.1</th>\n",
       "      <th>Wind Gust (mph)</th>\n",
       "      <th>Conditions</th>\n",
       "      <th>Wind Chill (degF)</th>\n",
       "    </tr>\n",
       "  </thead>\n",
       "  <tbody>\n",
       "    <tr>\n",
       "      <th>0</th>\n",
       "      <td>\u001a</td>\n",
       "      <td></td>\n",
       "      <td>\u001a</td>\n",
       "      <td>NaN</td>\n",
       "      <td>NaN</td>\n",
       "      <td>NaN</td>\n",
       "      <td>NaN</td>\n",
       "      <td>NaN</td>\n",
       "      <td>NaN</td>\n",
       "      <td>NaN</td>\n",
       "      <td>NaN</td>\n",
       "      <td>NaN</td>\n",
       "      <td>NaN</td>\n",
       "      <td>NaN</td>\n",
       "      <td>NaN</td>\n",
       "      <td>NaN</td>\n",
       "      <td>NaN</td>\n",
       "      <td>NaN</td>\n",
       "      <td>NaN</td>\n",
       "      <td>NaN</td>\n",
       "      <td>NaN</td>\n",
       "      <td>NaN</td>\n",
       "      <td>NaN</td>\n",
       "      <td>NaN</td>\n",
       "      <td>NaN</td>\n",
       "      <td>NaN</td>\n",
       "      <td>NaN</td>\n",
       "      <td>NaN</td>\n",
       "      <td>NaN</td>\n",
       "      <td>NaN</td>\n",
       "    </tr>\n",
       "  </tbody>\n",
       "</table>\n",
       "</div>"
      ],
      "text/plain": [
       "  City State Country Wind Direction Latitude Cloud Cover (%)  \\\n",
       "0    \u001a             \u001a            NaN      NaN             NaN   \n",
       "\n",
       "  Minimum Temperature (degF) Date time Precipitation (in)  \\\n",
       "0                        NaN       NaN                NaN   \n",
       "\n",
       "  Solar Radiation (W/m^2) Dew Point (degF) Relative Humidity (%)   ID  \\\n",
       "0                     NaN              NaN                   NaN  NaN   \n",
       "\n",
       "  Precipitation Cover (%) Longitude Info Temperature (degF)  \\\n",
       "0                     NaN       NaN  NaN                NaN   \n",
       "\n",
       "  Maximum Temperature (degF) Visibility (mi) Wind Speed (mph)  \\\n",
       "0                        NaN             NaN              NaN   \n",
       "\n",
       "  Solar Energy (J/m^2) Heat Index (degF) Weather Type Snow Depth (in)  \\\n",
       "0                  NaN               NaN          NaN             NaN   \n",
       "\n",
       "  Sea Level Pressure (mb) Snow (in) Name.1 Wind Gust (mph) Conditions  \\\n",
       "0                     NaN       NaN    NaN             NaN        NaN   \n",
       "\n",
       "  Wind Chill (degF)  \n",
       "0               NaN  "
      ]
     },
     "execution_count": 18,
     "metadata": {},
     "output_type": "execute_result"
    }
   ],
   "source": [
    "df[df['City'] == '\u001a']"
   ]
  },
  {
   "cell_type": "code",
   "execution_count": 19,
   "id": "infrared-warner",
   "metadata": {},
   "outputs": [],
   "source": [
    "df = df[~(df[\"City\"] == 'Name') & ~(df['City'] == '\u001a')]"
   ]
  },
  {
   "cell_type": "code",
   "execution_count": 20,
   "id": "vocal-margin",
   "metadata": {},
   "outputs": [
    {
     "data": {
      "text/plain": [
       "Springfield           6144\n",
       "Albany                4611\n",
       "Warren                4608\n",
       "Ashland               3074\n",
       "Washington            3072\n",
       "Longview              3072\n",
       "Jackson               3072\n",
       "Greenville            3072\n",
       "Lewiston              3072\n",
       "Portland              3072\n",
       "Fayetteville          3072\n",
       "Columbus              3072\n",
       "Columbia              3072\n",
       "Conway                3072\n",
       "Lafayette             3072\n",
       "Wilmington            3072\n",
       "Rochester             3072\n",
       "Bakersfield           1537\n",
       "Asheville             1537\n",
       "Arroyo Grande         1537\n",
       "Austin                1537\n",
       "Bridgeton             1537\n",
       "Akron                 1537\n",
       "Auburn                1537\n",
       "Bristol               1537\n",
       "Bellevue              1537\n",
       "Tucson                1537\n",
       "Bloomington           1537\n",
       "Benton Harbor         1537\n",
       "Anderson              1537\n",
       "Bend                  1537\n",
       "Allentown             1537\n",
       "Alexandria            1537\n",
       "Bay City              1537\n",
       "Boulder               1537\n",
       "Prescott              1537\n",
       "Billings              1537\n",
       "Phoenix               1537\n",
       "Anacortes             1537\n",
       "Ann Arbor             1537\n",
       "Bossier City          1537\n",
       "Mesa                  1537\n",
       "Yuma                  1537\n",
       "Lake Havasu City      1537\n",
       "Bismarck              1537\n",
       "Albuquerque           1537\n",
       "Scottsdale            1537\n",
       "Athens                1537\n",
       "Bangor                1537\n",
       "Kingman               1537\n",
       "Arlington             1537\n",
       "Baltimore             1537\n",
       "Bridgeport            1537\n",
       "Biloxi                1537\n",
       "Beaumont              1537\n",
       "Anchorage             1537\n",
       "Blacksburg            1537\n",
       "Boston                1537\n",
       "Anaheim               1537\n",
       "Baton Rouge           1537\n",
       "Amarillo              1537\n",
       "Aurora                1537\n",
       "Bremerton             1537\n",
       "Honolulu              1537\n",
       "Beloit                1537\n",
       "Altoona               1537\n",
       "Bradenton             1537\n",
       "Bowling Green         1537\n",
       "Flagstaff             1537\n",
       "Bellingham            1537\n",
       "Atlantic City         1537\n",
       "Appleton              1537\n",
       "Sierra Vista          1537\n",
       "Salinas               1536\n",
       "Sheridan              1536\n",
       "North Myrtle Beach    1536\n",
       "Kissimmee             1536\n",
       "Winchester            1536\n",
       "Henderson             1536\n",
       "Hanford               1536\n",
       "Juneau                1536\n",
       "Scottsbluff           1536\n",
       "Lynchburg             1536\n",
       "Gulfport              1536\n",
       "Massillon             1536\n",
       "Redmond               1536\n",
       "Wyoming               1536\n",
       "Corpus Christi        1536\n",
       "Moline                1536\n",
       "Sarasota              1536\n",
       "Tampa                 1536\n",
       "Grants Pass           1536\n",
       "Watertown             1536\n",
       "Council Bluffs        1536\n",
       "Naples                1536\n",
       "Bryan                 1536\n",
       "Rome                  1536\n",
       "Corcoran              1536\n",
       "Owensboro             1536\n",
       "New Braunfels         1536\n",
       "Douglas               1536\n",
       "Tacoma                1536\n",
       "Taos                  1536\n",
       "Elko                  1536\n",
       "Kokomo                1536\n",
       "Norwich               1536\n",
       "Holland               1536\n",
       "Fort Lauderdale       1536\n",
       "Hammonton             1536\n",
       "North Port            1536\n",
       "Rocky Mount           1536\n",
       "San Francisco         1536\n",
       "Christiansburg        1536\n",
       "Provo                 1536\n",
       "Denver                1536\n",
       "Seattle               1536\n",
       "Oakland               1536\n",
       "Lake Charles          1536\n",
       "Raleigh               1536\n",
       "Pocatello             1536\n",
       "Grand Junction        1536\n",
       "Manchester            1536\n",
       "Urbana                1536\n",
       "Greeley               1536\n",
       "State College         1536\n",
       "Mt Vernon             1536\n",
       "Greensboro            1536\n",
       "La Porte              1536\n",
       "Stockton              1536\n",
       "Oklahoma City         1536\n",
       "Chapel Hill           1536\n",
       "Little Rock           1536\n",
       "Lubbock               1536\n",
       "Harrisburg            1536\n",
       "Muskegon              1536\n",
       "Lancaster             1536\n",
       "Brookings             1536\n",
       "Missoula              1536\n",
       "Clearwater            1536\n",
       "Norwalk               1536\n",
       "Waco                  1536\n",
       "Charlottesville       1536\n",
       "Knoxville             1536\n",
       "Morganton             1536\n",
       "Hartford              1536\n",
       "Lenoir                1536\n",
       "Concord               1536\n",
       "Pittsfield            1536\n",
       "Effingham             1536\n",
       "Houston               1536\n",
       "Milford               1536\n",
       "San Diego             1536\n",
       "Victoria              1536\n",
       "Lansing               1536\n",
       "Sebring               1536\n",
       "Colorado Springs      1536\n",
       "Visalia               1536\n",
       "Winona                1536\n",
       "Vallejo               1536\n",
       "Killeen               1536\n",
       "Hagerstown            1536\n",
       "Sanford               1536\n",
       "Clinton               1536\n",
       "Steubenville          1536\n",
       "Warner Robins         1536\n",
       "Evansville            1536\n",
       "Decatur               1536\n",
       "Sioux Falls           1536\n",
       "Cheyenne              1536\n",
       "Orem                  1536\n",
       "Burlington            1536\n",
       "Porterville           1536\n",
       "Niagara Falls         1536\n",
       "Miami                 1536\n",
       "Temple                1536\n",
       "Iowa City             1536\n",
       "Tulsa                 1536\n",
       "Brownsville           1536\n",
       "Roseville             1536\n",
       "Elizabethtown         1536\n",
       "El Paso               1536\n",
       "Olympia               1536\n",
       "Carmel                1536\n",
       "Cedar Rapids          1536\n",
       "Lima                  1536\n",
       "Sacramento            1536\n",
       "Peoria                1536\n",
       "Minneapolis           1536\n",
       "Fairfield             1536\n",
       "Vineland              1536\n",
       "Dover                 1536\n",
       "Topeka                1536\n",
       "Eugene                1536\n",
       "Cambridge             1536\n",
       "Cape Coral            1536\n",
       "Los Alamos            1536\n",
       "Lakeland              1536\n",
       "Rogers                1536\n",
       "Sunnyvale             1536\n",
       "Oxnard                1536\n",
       "Troy                  1536\n",
       "Buffalo               1536\n",
       "Chicago               1536\n",
       "Mission               1536\n",
       "Dayton                1536\n",
       "Roanoke               1536\n",
       "Sheboygan             1536\n",
       "San Antonio           1536\n",
       "Hickory               1536\n",
       "Fairbanks             1536\n",
       "Rapid City            1536\n",
       "Salem                 1536\n",
       "East Lansing          1536\n",
       "Utica                 1536\n",
       "San Jose              1536\n",
       "Palm Bay              1536\n",
       "Titusville            1536\n",
       "Fort Wayne            1536\n",
       "Great Falls           1536\n",
       "Muskogee              1536\n",
       "Round Rock            1536\n",
       "Flint                 1536\n",
       "New Haven             1536\n",
       "Gainesville           1536\n",
       "Dallas                1536\n",
       "Fort Collins          1536\n",
       "Syracuse              1536\n",
       "Chico                 1536\n",
       "Riverside             1536\n",
       "Yakima                1536\n",
       "Cleveland             1536\n",
       "Houma                 1536\n",
       "Pascagoula            1536\n",
       "Reno                  1536\n",
       "Thousand Oaks         1536\n",
       "Wichita               1536\n",
       "Myrtle Beach          1536\n",
       "San Bernardino        1536\n",
       "Schenectady           1536\n",
       "Morgantown            1536\n",
       "Radford               1536\n",
       "Ogden                 1536\n",
       "Ormond Beach          1536\n",
       "Winter Haven          1536\n",
       "Racine                1536\n",
       "Kingsport             1536\n",
       "Durham                1536\n",
       "Lincoln               1536\n",
       "Marco Island          1536\n",
       "Lebanon               1536\n",
       "Champaign             1536\n",
       "Stamford              1536\n",
       "Green Bay             1536\n",
       "Wausau                1536\n",
       "Ontario               1536\n",
       "Spokane               1536\n",
       "Trenton               1536\n",
       "Ithaca                1536\n",
       "Elyria                1536\n",
       "Vero Beach            1536\n",
       "West Palm Beach       1536\n",
       "Salt Lake City        1536\n",
       "Pensacola             1536\n",
       "Fort Smith            1536\n",
       "Hanover               1536\n",
       "Napa                  1536\n",
       "Jacksonville          1536\n",
       "Waukesha              1536\n",
       "Laredo                1536\n",
       "Chambersburg          1536\n",
       "Panama City           1536\n",
       "Nashua                1536\n",
       "Canton                1536\n",
       "Fort Walton Beach     1536\n",
       "New London            1536\n",
       "El Centro             1536\n",
       "Santa Clara           1536\n",
       "San Luis Obispo       1536\n",
       "Madison               1536\n",
       "Idaho Falls           1536\n",
       "Indiana               1536\n",
       "Richmond              1536\n",
       "Daytona Beach         1536\n",
       "Casper                1536\n",
       "Wenatchee             1536\n",
       "Scranton              1536\n",
       "Carlsbad              1536\n",
       "Florence              1536\n",
       "Fort Worth            1536\n",
       "Texarkana             1536\n",
       "Toledo                1536\n",
       "Cumberland            1536\n",
       "Walla Walla           1536\n",
       "Salisbury             1536\n",
       "Fort Myers            1536\n",
       "College Station       1536\n",
       "Santa Rosa            1536\n",
       "Melbourne             1536\n",
       "Rutland               1536\n",
       "Milwaukee             1536\n",
       "Lodi                  1536\n",
       "Modesto               1536\n",
       "Sioux City            1536\n",
       "Franklin              1536\n",
       "Enid                  1536\n",
       "Erie                  1536\n",
       "Janesville            1536\n",
       "Tallahassee           1536\n",
       "Santa Barbara         1536\n",
       "Muscatine             1536\n",
       "Clearfield            1536\n",
       "Worcester             1536\n",
       "Sebastian             1536\n",
       "Rockford              1536\n",
       "Odessa                1536\n",
       "Port Arthur           1536\n",
       "Tyler                 1536\n",
       "Twin Falls            1536\n",
       "North Little Rock     1536\n",
       "High Point            1536\n",
       "Harlingen             1536\n",
       "Des Moines            1536\n",
       "Nashville             1536\n",
       "Los Angeles           1536\n",
       "Lawton                1536\n",
       "Spartanburg           1536\n",
       "Marshall              1536\n",
       "Monroe                1536\n",
       "Charleston            1536\n",
       "Niles                 1536\n",
       "Eau Claire            1536\n",
       "New Orleans           1536\n",
       "Jasper                1536\n",
       "Thibodaux             1536\n",
       "Detroit               1536\n",
       "New York              1536\n",
       "Joplin                1536\n",
       "Jefferson City        1536\n",
       "Las Cruces            1536\n",
       "Madera                1536\n",
       "West Lafayette        1536\n",
       "Pueblo                1536\n",
       "Shreveport            1536\n",
       "Mauldin               1536\n",
       "South Bend            1536\n",
       "Waterloo              1536\n",
       "Long Beach            1536\n",
       "Manitowoc             1536\n",
       "Portage               1536\n",
       "Houghton              1536\n",
       "Richland              1536\n",
       "Kalamazoo             1536\n",
       "Ocala                 1536\n",
       "Watsonville           1536\n",
       "Edinburg              1536\n",
       "South Burlington      1536\n",
       "Grand Rapids          1536\n",
       "Newark                1536\n",
       "Lexington             1536\n",
       "Morristown            1536\n",
       "Duluth                1536\n",
       "Hillsboro             1536\n",
       "Rock Island           1536\n",
       "Orlando               1536\n",
       "Hattiesburg           1536\n",
       "Merced                1536\n",
       "Charlotte             1536\n",
       "Murfreesboro          1536\n",
       "Yuba City             1536\n",
       "Santa Cruz            1536\n",
       "Jersey City           1536\n",
       "Kennewick             1536\n",
       "North Charleston      1536\n",
       "Las Vegas             1536\n",
       "Crestview             1536\n",
       "Harrisonburg          1536\n",
       "Name: City, dtype: int64"
      ]
     },
     "execution_count": 20,
     "metadata": {},
     "output_type": "execute_result"
    }
   ],
   "source": [
    "df['City'].value_counts()"
   ]
  },
  {
   "cell_type": "code",
   "execution_count": 21,
   "id": "starting-dependence",
   "metadata": {},
   "outputs": [
    {
     "data": {
      "text/plain": [
       "City                               0\n",
       "State                              0\n",
       "Country                            0\n",
       "Wind Direction                     1\n",
       "Latitude                           0\n",
       "Cloud Cover (%)                    1\n",
       "Minimum Temperature (degF)         1\n",
       "Date time                          0\n",
       "Precipitation (in)                 0\n",
       "Solar Radiation (W/m^2)       350006\n",
       "Dew Point (degF)                   1\n",
       "Relative Humidity (%)              1\n",
       "ID                             40350\n",
       "Precipitation Cover (%)            1\n",
       "Longitude                          0\n",
       "Info                          609853\n",
       "Temperature (degF)                 1\n",
       "Maximum Temperature (degF)         1\n",
       "Visibility (mi)                    4\n",
       "Wind Speed (mph)                   1\n",
       "Solar Energy (J/m^2)          350006\n",
       "Heat Index (degF)             417127\n",
       "Weather Type                  214363\n",
       "Snow Depth (in)                    1\n",
       "Sea Level Pressure (mb)         3332\n",
       "Snow (in)                          1\n",
       "Name.1                             0\n",
       "Wind Gust (mph)               178939\n",
       "Conditions                         1\n",
       "Wind Chill (degF)             316463\n",
       "dtype: int64"
      ]
     },
     "execution_count": 21,
     "metadata": {},
     "output_type": "execute_result"
    }
   ],
   "source": [
    "df.isnull().sum()"
   ]
  },
  {
   "cell_type": "code",
   "execution_count": 22,
   "id": "rural-vocabulary",
   "metadata": {},
   "outputs": [
    {
     "data": {
      "text/html": [
       "<div>\n",
       "<style scoped>\n",
       "    .dataframe tbody tr th:only-of-type {\n",
       "        vertical-align: middle;\n",
       "    }\n",
       "\n",
       "    .dataframe tbody tr th {\n",
       "        vertical-align: top;\n",
       "    }\n",
       "\n",
       "    .dataframe thead th {\n",
       "        text-align: right;\n",
       "    }\n",
       "</style>\n",
       "<table border=\"1\" class=\"dataframe\">\n",
       "  <thead>\n",
       "    <tr style=\"text-align: right;\">\n",
       "      <th></th>\n",
       "      <th>City</th>\n",
       "      <th>State</th>\n",
       "      <th>Country</th>\n",
       "      <th>Wind Direction</th>\n",
       "      <th>Latitude</th>\n",
       "      <th>Cloud Cover (%)</th>\n",
       "      <th>Minimum Temperature (degF)</th>\n",
       "      <th>Date time</th>\n",
       "      <th>Precipitation (in)</th>\n",
       "      <th>Solar Radiation (W/m^2)</th>\n",
       "      <th>Dew Point (degF)</th>\n",
       "      <th>Relative Humidity (%)</th>\n",
       "      <th>ID</th>\n",
       "      <th>Precipitation Cover (%)</th>\n",
       "      <th>Longitude</th>\n",
       "      <th>Info</th>\n",
       "      <th>Temperature (degF)</th>\n",
       "      <th>Maximum Temperature (degF)</th>\n",
       "      <th>Visibility (mi)</th>\n",
       "      <th>Wind Speed (mph)</th>\n",
       "      <th>Solar Energy (J/m^2)</th>\n",
       "      <th>Heat Index (degF)</th>\n",
       "      <th>Weather Type</th>\n",
       "      <th>Snow Depth (in)</th>\n",
       "      <th>Sea Level Pressure (mb)</th>\n",
       "      <th>Snow (in)</th>\n",
       "      <th>Name.1</th>\n",
       "      <th>Wind Gust (mph)</th>\n",
       "      <th>Conditions</th>\n",
       "      <th>Wind Chill (degF)</th>\n",
       "    </tr>\n",
       "  </thead>\n",
       "  <tbody>\n",
       "    <tr>\n",
       "      <th>150554</th>\n",
       "      <td>Douglas</td>\n",
       "      <td>AZ</td>\n",
       "      <td>United States</td>\n",
       "      <td>NaN</td>\n",
       "      <td>31.3445</td>\n",
       "      <td>NaN</td>\n",
       "      <td>NaN</td>\n",
       "      <td>2/20/2021</td>\n",
       "      <td>0.0</td>\n",
       "      <td>NaN</td>\n",
       "      <td>NaN</td>\n",
       "      <td>NaN</td>\n",
       "      <td>Douglas\\tAZ</td>\n",
       "      <td>NaN</td>\n",
       "      <td>-109.552</td>\n",
       "      <td>NaN</td>\n",
       "      <td>NaN</td>\n",
       "      <td>NaN</td>\n",
       "      <td>NaN</td>\n",
       "      <td>NaN</td>\n",
       "      <td>NaN</td>\n",
       "      <td>NaN</td>\n",
       "      <td>NaN</td>\n",
       "      <td>NaN</td>\n",
       "      <td>NaN</td>\n",
       "      <td>NaN</td>\n",
       "      <td>Douglas, AZ, United States</td>\n",
       "      <td>NaN</td>\n",
       "      <td>NaN</td>\n",
       "      <td>NaN</td>\n",
       "    </tr>\n",
       "  </tbody>\n",
       "</table>\n",
       "</div>"
      ],
      "text/plain": [
       "           City State        Country Wind Direction Latitude Cloud Cover (%)  \\\n",
       "150554  Douglas    AZ  United States            NaN  31.3445             NaN   \n",
       "\n",
       "       Minimum Temperature (degF)  Date time Precipitation (in)  \\\n",
       "150554                        NaN  2/20/2021                0.0   \n",
       "\n",
       "       Solar Radiation (W/m^2) Dew Point (degF) Relative Humidity (%)  \\\n",
       "150554                     NaN              NaN                   NaN   \n",
       "\n",
       "                 ID Precipitation Cover (%) Longitude Info Temperature (degF)  \\\n",
       "150554  Douglas\\tAZ                     NaN  -109.552  NaN                NaN   \n",
       "\n",
       "       Maximum Temperature (degF) Visibility (mi) Wind Speed (mph)  \\\n",
       "150554                        NaN             NaN              NaN   \n",
       "\n",
       "       Solar Energy (J/m^2) Heat Index (degF) Weather Type Snow Depth (in)  \\\n",
       "150554                  NaN               NaN          NaN             NaN   \n",
       "\n",
       "       Sea Level Pressure (mb) Snow (in)                      Name.1  \\\n",
       "150554                     NaN       NaN  Douglas, AZ, United States   \n",
       "\n",
       "       Wind Gust (mph) Conditions Wind Chill (degF)  \n",
       "150554             NaN        NaN               NaN  "
      ]
     },
     "execution_count": 22,
     "metadata": {},
     "output_type": "execute_result"
    }
   ],
   "source": [
    "# check for nan values where nan is 1\n",
    "df[df['Wind Direction'].isna()]"
   ]
  },
  {
   "cell_type": "code",
   "execution_count": 23,
   "id": "minimal-sessions",
   "metadata": {},
   "outputs": [],
   "source": [
    "# remove almost empty row\n",
    "df = df[~df['Wind Direction'].isna()]"
   ]
  },
  {
   "cell_type": "code",
   "execution_count": 24,
   "id": "smaller-savage",
   "metadata": {},
   "outputs": [
    {
     "data": {
      "text/plain": [
       "City                               0\n",
       "State                              0\n",
       "Country                            0\n",
       "Wind Direction                     0\n",
       "Latitude                           0\n",
       "Cloud Cover (%)                    0\n",
       "Minimum Temperature (degF)         0\n",
       "Date time                          0\n",
       "Precipitation (in)                 0\n",
       "Solar Radiation (W/m^2)       350005\n",
       "Dew Point (degF)                   0\n",
       "Relative Humidity (%)              0\n",
       "ID                             40350\n",
       "Precipitation Cover (%)            0\n",
       "Longitude                          0\n",
       "Info                          609852\n",
       "Temperature (degF)                 0\n",
       "Maximum Temperature (degF)         0\n",
       "Visibility (mi)                    3\n",
       "Wind Speed (mph)                   0\n",
       "Solar Energy (J/m^2)          350005\n",
       "Heat Index (degF)             417126\n",
       "Weather Type                  214362\n",
       "Snow Depth (in)                    0\n",
       "Sea Level Pressure (mb)         3331\n",
       "Snow (in)                          0\n",
       "Name.1                             0\n",
       "Wind Gust (mph)               178938\n",
       "Conditions                         0\n",
       "Wind Chill (degF)             316462\n",
       "dtype: int64"
      ]
     },
     "execution_count": 24,
     "metadata": {},
     "output_type": "execute_result"
    }
   ],
   "source": [
    "# missing values\n",
    "df.isnull().sum()"
   ]
  },
  {
   "cell_type": "code",
   "execution_count": 25,
   "id": "super-brave",
   "metadata": {},
   "outputs": [
    {
     "data": {
      "text/plain": [
       "City                            0.000000\n",
       "State                           0.000000\n",
       "Country                         0.000000\n",
       "Wind Direction                  0.000000\n",
       "Latitude                        0.000000\n",
       "Cloud Cover (%)                 0.000000\n",
       "Minimum Temperature (degF)      0.000000\n",
       "Date time                       0.000000\n",
       "Precipitation (in)              0.000000\n",
       "Solar Radiation (W/m^2)        57.391793\n",
       "Dew Point (degF)                0.000000\n",
       "Relative Humidity (%)           0.000000\n",
       "ID                              6.616359\n",
       "Precipitation Cover (%)         0.000000\n",
       "Longitude                       0.000000\n",
       "Info                          100.000000\n",
       "Temperature (degF)              0.000000\n",
       "Maximum Temperature (degF)      0.000000\n",
       "Visibility (mi)                 0.000492\n",
       "Wind Speed (mph)                0.000000\n",
       "Solar Energy (J/m^2)           57.391793\n",
       "Heat Index (degF)              68.397906\n",
       "Weather Type                   35.149840\n",
       "Snow Depth (in)                 0.000000\n",
       "Sea Level Pressure (mb)         0.546198\n",
       "Snow (in)                       0.000000\n",
       "Name.1                          0.000000\n",
       "Wind Gust (mph)                29.341217\n",
       "Conditions                      0.000000\n",
       "Wind Chill (degF)              51.891606\n",
       "dtype: float64"
      ]
     },
     "execution_count": 25,
     "metadata": {},
     "output_type": "execute_result"
    }
   ],
   "source": [
    "# missing value percentage\n",
    "df.isnull().mean() * 100"
   ]
  },
  {
   "cell_type": "code",
   "execution_count": 26,
   "id": "after-characterization",
   "metadata": {},
   "outputs": [],
   "source": [
    "# columns to remove which have more than 50% of missing values and with high cardinality\n",
    "columns_to_remove = ['Country', 'ID', 'Info', 'Heat Index (degF)', 'Wind Chill (degF)', 'Solar Radiation (W/m^2)', 'Solar Energy (J/m^2)', 'Name.1']\n",
    "data = df.drop(columns=columns_to_remove)"
   ]
  },
  {
   "cell_type": "code",
   "execution_count": 27,
   "id": "compressed-worry",
   "metadata": {},
   "outputs": [],
   "source": [
    "numeric_features = ['Wind Direction', 'Latitude',\n",
    "       'Cloud Cover (%)', 'Minimum Temperature (degF)',\n",
    "       'Precipitation (in)', 'Dew Point (degF)',\n",
    "       'Relative Humidity (%)', 'Precipitation Cover (%)', 'Longitude',\n",
    "       'Temperature (degF)', 'Maximum Temperature (degF)',\n",
    "       'Visibility (mi)', 'Wind Speed (mph)',\n",
    "       'Snow Depth (in)', 'Sea Level Pressure (mb)', 'Snow (in)', 'Wind Gust (mph)']"
   ]
  },
  {
   "cell_type": "code",
   "execution_count": 28,
   "id": "informative-combining",
   "metadata": {},
   "outputs": [],
   "source": [
    "# convert all strings to numbers \n",
    "data[numeric_features] = data[numeric_features].astype(float)"
   ]
  },
  {
   "cell_type": "code",
   "execution_count": 29,
   "id": "realistic-senate",
   "metadata": {},
   "outputs": [],
   "source": [
    "# convert string to datetime\n",
    "data['Date time'] =  pd.to_datetime(data['Date time'], infer_datetime_format=True)"
   ]
  },
  {
   "cell_type": "code",
   "execution_count": 30,
   "id": "tracked-supplement",
   "metadata": {},
   "outputs": [
    {
     "data": {
      "text/plain": [
       "City                                  object\n",
       "State                                 object\n",
       "Wind Direction                       float64\n",
       "Latitude                             float64\n",
       "Cloud Cover (%)                      float64\n",
       "Minimum Temperature (degF)           float64\n",
       "Date time                     datetime64[ns]\n",
       "Precipitation (in)                   float64\n",
       "Dew Point (degF)                     float64\n",
       "Relative Humidity (%)                float64\n",
       "Precipitation Cover (%)              float64\n",
       "Longitude                            float64\n",
       "Temperature (degF)                   float64\n",
       "Maximum Temperature (degF)           float64\n",
       "Visibility (mi)                      float64\n",
       "Wind Speed (mph)                     float64\n",
       "Weather Type                          object\n",
       "Snow Depth (in)                      float64\n",
       "Sea Level Pressure (mb)              float64\n",
       "Snow (in)                            float64\n",
       "Wind Gust (mph)                      float64\n",
       "Conditions                            object\n",
       "dtype: object"
      ]
     },
     "execution_count": 30,
     "metadata": {},
     "output_type": "execute_result"
    }
   ],
   "source": [
    "data.dtypes"
   ]
  },
  {
   "cell_type": "code",
   "execution_count": 31,
   "id": "framed-cabinet",
   "metadata": {},
   "outputs": [
    {
     "name": "stdout",
     "output_type": "stream",
     "text": [
      "<class 'pandas.core.frame.DataFrame'>\n",
      "Int64Index: 609852 entries, 1 to 613669\n",
      "Data columns (total 30 columns):\n",
      " #   Column                      Non-Null Count   Dtype \n",
      "---  ------                      --------------   ----- \n",
      " 0   City                        609852 non-null  object\n",
      " 1   State                       609852 non-null  object\n",
      " 2   Country                     609852 non-null  object\n",
      " 3   Wind Direction              609852 non-null  object\n",
      " 4   Latitude                    609852 non-null  object\n",
      " 5   Cloud Cover (%)             609852 non-null  object\n",
      " 6   Minimum Temperature (degF)  609852 non-null  object\n",
      " 7   Date time                   609852 non-null  object\n",
      " 8   Precipitation (in)          609852 non-null  object\n",
      " 9   Solar Radiation (W/m^2)     259847 non-null  object\n",
      " 10  Dew Point (degF)            609852 non-null  object\n",
      " 11  Relative Humidity (%)       609852 non-null  object\n",
      " 12  ID                          569502 non-null  object\n",
      " 13  Precipitation Cover (%)     609852 non-null  object\n",
      " 14  Longitude                   609852 non-null  object\n",
      " 15  Info                        0 non-null       object\n",
      " 16  Temperature (degF)          609852 non-null  object\n",
      " 17  Maximum Temperature (degF)  609852 non-null  object\n",
      " 18  Visibility (mi)             609849 non-null  object\n",
      " 19  Wind Speed (mph)            609852 non-null  object\n",
      " 20  Solar Energy (J/m^2)        259847 non-null  object\n",
      " 21  Heat Index (degF)           192726 non-null  object\n",
      " 22  Weather Type                395490 non-null  object\n",
      " 23  Snow Depth (in)             609852 non-null  object\n",
      " 24  Sea Level Pressure (mb)     606521 non-null  object\n",
      " 25  Snow (in)                   609852 non-null  object\n",
      " 26  Name.1                      609852 non-null  object\n",
      " 27  Wind Gust (mph)             430914 non-null  object\n",
      " 28  Conditions                  609852 non-null  object\n",
      " 29  Wind Chill (degF)           293390 non-null  object\n",
      "dtypes: object(30)\n",
      "memory usage: 144.2+ MB\n"
     ]
    }
   ],
   "source": [
    "df.info()"
   ]
  },
  {
   "cell_type": "code",
   "execution_count": 32,
   "id": "tested-steps",
   "metadata": {},
   "outputs": [
    {
     "data": {
      "text/html": [
       "<div>\n",
       "<style scoped>\n",
       "    .dataframe tbody tr th:only-of-type {\n",
       "        vertical-align: middle;\n",
       "    }\n",
       "\n",
       "    .dataframe tbody tr th {\n",
       "        vertical-align: top;\n",
       "    }\n",
       "\n",
       "    .dataframe thead th {\n",
       "        text-align: right;\n",
       "    }\n",
       "</style>\n",
       "<table border=\"1\" class=\"dataframe\">\n",
       "  <thead>\n",
       "    <tr style=\"text-align: right;\">\n",
       "      <th></th>\n",
       "      <th>Wind Direction</th>\n",
       "      <th>Latitude</th>\n",
       "      <th>Cloud Cover (%)</th>\n",
       "      <th>Minimum Temperature (degF)</th>\n",
       "      <th>Precipitation (in)</th>\n",
       "      <th>Dew Point (degF)</th>\n",
       "      <th>Relative Humidity (%)</th>\n",
       "      <th>Precipitation Cover (%)</th>\n",
       "      <th>Longitude</th>\n",
       "      <th>Temperature (degF)</th>\n",
       "      <th>Maximum Temperature (degF)</th>\n",
       "      <th>Visibility (mi)</th>\n",
       "      <th>Wind Speed (mph)</th>\n",
       "      <th>Snow Depth (in)</th>\n",
       "      <th>Sea Level Pressure (mb)</th>\n",
       "      <th>Snow (in)</th>\n",
       "      <th>Wind Gust (mph)</th>\n",
       "    </tr>\n",
       "  </thead>\n",
       "  <tbody>\n",
       "    <tr>\n",
       "      <th>count</th>\n",
       "      <td>609852.000000</td>\n",
       "      <td>609852.000000</td>\n",
       "      <td>609852.000000</td>\n",
       "      <td>609852.000000</td>\n",
       "      <td>609852.000000</td>\n",
       "      <td>609852.000000</td>\n",
       "      <td>609852.000000</td>\n",
       "      <td>609852.000000</td>\n",
       "      <td>609852.000000</td>\n",
       "      <td>609852.000000</td>\n",
       "      <td>609852.000000</td>\n",
       "      <td>609849.000000</td>\n",
       "      <td>609852.000000</td>\n",
       "      <td>609852.000000</td>\n",
       "      <td>606521.000000</td>\n",
       "      <td>609852.000000</td>\n",
       "      <td>430914.000000</td>\n",
       "    </tr>\n",
       "    <tr>\n",
       "      <th>mean</th>\n",
       "      <td>181.516585</td>\n",
       "      <td>37.922511</td>\n",
       "      <td>39.802312</td>\n",
       "      <td>48.372284</td>\n",
       "      <td>0.109192</td>\n",
       "      <td>45.103467</td>\n",
       "      <td>68.069119</td>\n",
       "      <td>10.216313</td>\n",
       "      <td>-93.950982</td>\n",
       "      <td>57.427109</td>\n",
       "      <td>66.996064</td>\n",
       "      <td>9.280348</td>\n",
       "      <td>13.980637</td>\n",
       "      <td>0.800962</td>\n",
       "      <td>1016.837796</td>\n",
       "      <td>0.095250</td>\n",
       "      <td>26.611108</td>\n",
       "    </tr>\n",
       "    <tr>\n",
       "      <th>std</th>\n",
       "      <td>69.257121</td>\n",
       "      <td>5.829768</td>\n",
       "      <td>30.171840</td>\n",
       "      <td>18.279936</td>\n",
       "      <td>0.349002</td>\n",
       "      <td>18.722722</td>\n",
       "      <td>16.630387</td>\n",
       "      <td>18.379065</td>\n",
       "      <td>16.690148</td>\n",
       "      <td>18.485326</td>\n",
       "      <td>19.879790</td>\n",
       "      <td>2.761878</td>\n",
       "      <td>5.482532</td>\n",
       "      <td>4.786049</td>\n",
       "      <td>6.645085</td>\n",
       "      <td>0.953921</td>\n",
       "      <td>8.153991</td>\n",
       "    </tr>\n",
       "    <tr>\n",
       "      <th>min</th>\n",
       "      <td>0.000000</td>\n",
       "      <td>21.304900</td>\n",
       "      <td>0.000000</td>\n",
       "      <td>-49.000000</td>\n",
       "      <td>0.000000</td>\n",
       "      <td>-54.400000</td>\n",
       "      <td>3.830000</td>\n",
       "      <td>0.000000</td>\n",
       "      <td>-157.858000</td>\n",
       "      <td>-45.900000</td>\n",
       "      <td>-43.000000</td>\n",
       "      <td>0.000000</td>\n",
       "      <td>0.000000</td>\n",
       "      <td>0.000000</td>\n",
       "      <td>967.700000</td>\n",
       "      <td>0.000000</td>\n",
       "      <td>0.000000</td>\n",
       "    </tr>\n",
       "    <tr>\n",
       "      <th>25%</th>\n",
       "      <td>131.170000</td>\n",
       "      <td>34.053600</td>\n",
       "      <td>12.300000</td>\n",
       "      <td>34.900000</td>\n",
       "      <td>0.000000</td>\n",
       "      <td>31.000000</td>\n",
       "      <td>59.050000</td>\n",
       "      <td>0.000000</td>\n",
       "      <td>-106.328000</td>\n",
       "      <td>43.900000</td>\n",
       "      <td>52.900000</td>\n",
       "      <td>9.000000</td>\n",
       "      <td>10.100000</td>\n",
       "      <td>0.000000</td>\n",
       "      <td>1012.700000</td>\n",
       "      <td>0.000000</td>\n",
       "      <td>20.800000</td>\n",
       "    </tr>\n",
       "    <tr>\n",
       "      <th>50%</th>\n",
       "      <td>181.540000</td>\n",
       "      <td>38.577500</td>\n",
       "      <td>36.600000</td>\n",
       "      <td>49.800000</td>\n",
       "      <td>0.000000</td>\n",
       "      <td>46.200000</td>\n",
       "      <td>70.770000</td>\n",
       "      <td>0.000000</td>\n",
       "      <td>-88.952100</td>\n",
       "      <td>59.600000</td>\n",
       "      <td>70.100000</td>\n",
       "      <td>9.800000</td>\n",
       "      <td>13.200000</td>\n",
       "      <td>0.000000</td>\n",
       "      <td>1016.500000</td>\n",
       "      <td>0.000000</td>\n",
       "      <td>25.300000</td>\n",
       "    </tr>\n",
       "    <tr>\n",
       "      <th>75%</th>\n",
       "      <td>233.250000</td>\n",
       "      <td>42.101200</td>\n",
       "      <td>64.000000</td>\n",
       "      <td>63.000000</td>\n",
       "      <td>0.040000</td>\n",
       "      <td>60.600000</td>\n",
       "      <td>79.910000</td>\n",
       "      <td>12.500000</td>\n",
       "      <td>-81.045370</td>\n",
       "      <td>72.600000</td>\n",
       "      <td>83.000000</td>\n",
       "      <td>9.900000</td>\n",
       "      <td>17.100000</td>\n",
       "      <td>0.000000</td>\n",
       "      <td>1020.800000</td>\n",
       "      <td>0.000000</td>\n",
       "      <td>31.100000</td>\n",
       "    </tr>\n",
       "    <tr>\n",
       "      <th>max</th>\n",
       "      <td>357.920000</td>\n",
       "      <td>64.845300</td>\n",
       "      <td>100.000000</td>\n",
       "      <td>98.100000</td>\n",
       "      <td>30.080000</td>\n",
       "      <td>82.000000</td>\n",
       "      <td>100.000000</td>\n",
       "      <td>100.000000</td>\n",
       "      <td>-68.770770</td>\n",
       "      <td>108.100000</td>\n",
       "      <td>121.600000</td>\n",
       "      <td>627.400000</td>\n",
       "      <td>134.400000</td>\n",
       "      <td>133.070000</td>\n",
       "      <td>1054.600000</td>\n",
       "      <td>116.930000</td>\n",
       "      <td>340.900000</td>\n",
       "    </tr>\n",
       "  </tbody>\n",
       "</table>\n",
       "</div>"
      ],
      "text/plain": [
       "       Wind Direction       Latitude  Cloud Cover (%)  \\\n",
       "count   609852.000000  609852.000000    609852.000000   \n",
       "mean       181.516585      37.922511        39.802312   \n",
       "std         69.257121       5.829768        30.171840   \n",
       "min          0.000000      21.304900         0.000000   \n",
       "25%        131.170000      34.053600        12.300000   \n",
       "50%        181.540000      38.577500        36.600000   \n",
       "75%        233.250000      42.101200        64.000000   \n",
       "max        357.920000      64.845300       100.000000   \n",
       "\n",
       "       Minimum Temperature (degF)  Precipitation (in)  Dew Point (degF)  \\\n",
       "count               609852.000000       609852.000000     609852.000000   \n",
       "mean                    48.372284            0.109192         45.103467   \n",
       "std                     18.279936            0.349002         18.722722   \n",
       "min                    -49.000000            0.000000        -54.400000   \n",
       "25%                     34.900000            0.000000         31.000000   \n",
       "50%                     49.800000            0.000000         46.200000   \n",
       "75%                     63.000000            0.040000         60.600000   \n",
       "max                     98.100000           30.080000         82.000000   \n",
       "\n",
       "       Relative Humidity (%)  Precipitation Cover (%)      Longitude  \\\n",
       "count          609852.000000            609852.000000  609852.000000   \n",
       "mean               68.069119                10.216313     -93.950982   \n",
       "std                16.630387                18.379065      16.690148   \n",
       "min                 3.830000                 0.000000    -157.858000   \n",
       "25%                59.050000                 0.000000    -106.328000   \n",
       "50%                70.770000                 0.000000     -88.952100   \n",
       "75%                79.910000                12.500000     -81.045370   \n",
       "max               100.000000               100.000000     -68.770770   \n",
       "\n",
       "       Temperature (degF)  Maximum Temperature (degF)  Visibility (mi)  \\\n",
       "count       609852.000000               609852.000000    609849.000000   \n",
       "mean            57.427109                   66.996064         9.280348   \n",
       "std             18.485326                   19.879790         2.761878   \n",
       "min            -45.900000                  -43.000000         0.000000   \n",
       "25%             43.900000                   52.900000         9.000000   \n",
       "50%             59.600000                   70.100000         9.800000   \n",
       "75%             72.600000                   83.000000         9.900000   \n",
       "max            108.100000                  121.600000       627.400000   \n",
       "\n",
       "       Wind Speed (mph)  Snow Depth (in)  Sea Level Pressure (mb)  \\\n",
       "count     609852.000000    609852.000000            606521.000000   \n",
       "mean          13.980637         0.800962              1016.837796   \n",
       "std            5.482532         4.786049                 6.645085   \n",
       "min            0.000000         0.000000               967.700000   \n",
       "25%           10.100000         0.000000              1012.700000   \n",
       "50%           13.200000         0.000000              1016.500000   \n",
       "75%           17.100000         0.000000              1020.800000   \n",
       "max          134.400000       133.070000              1054.600000   \n",
       "\n",
       "           Snow (in)  Wind Gust (mph)  \n",
       "count  609852.000000    430914.000000  \n",
       "mean        0.095250        26.611108  \n",
       "std         0.953921         8.153991  \n",
       "min         0.000000         0.000000  \n",
       "25%         0.000000        20.800000  \n",
       "50%         0.000000        25.300000  \n",
       "75%         0.000000        31.100000  \n",
       "max       116.930000       340.900000  "
      ]
     },
     "execution_count": 32,
     "metadata": {},
     "output_type": "execute_result"
    }
   ],
   "source": [
    "data.describe()"
   ]
  },
  {
   "cell_type": "code",
   "execution_count": 33,
   "id": "curious-measurement",
   "metadata": {},
   "outputs": [
    {
     "name": "stderr",
     "output_type": "stream",
     "text": [
      "C:\\Users\\tigju\\Anaconda3\\envs\\datascience\\lib\\site-packages\\ipykernel_launcher.py:1: FutureWarning: Treating datetime data as categorical rather than numeric in `.describe` is deprecated and will be removed in a future version of pandas. Specify `datetime_is_numeric=True` to silence this warning and adopt the future behavior now.\n",
      "  \"\"\"Entry point for launching an IPython kernel.\n"
     ]
    },
    {
     "data": {
      "text/html": [
       "<div>\n",
       "<style scoped>\n",
       "    .dataframe tbody tr th:only-of-type {\n",
       "        vertical-align: middle;\n",
       "    }\n",
       "\n",
       "    .dataframe tbody tr th {\n",
       "        vertical-align: top;\n",
       "    }\n",
       "\n",
       "    .dataframe thead th {\n",
       "        text-align: right;\n",
       "    }\n",
       "</style>\n",
       "<table border=\"1\" class=\"dataframe\">\n",
       "  <thead>\n",
       "    <tr style=\"text-align: right;\">\n",
       "      <th></th>\n",
       "      <th>City</th>\n",
       "      <th>State</th>\n",
       "      <th>Date time</th>\n",
       "      <th>Weather Type</th>\n",
       "      <th>Conditions</th>\n",
       "    </tr>\n",
       "  </thead>\n",
       "  <tbody>\n",
       "    <tr>\n",
       "      <th>count</th>\n",
       "      <td>609852</td>\n",
       "      <td>609852</td>\n",
       "      <td>609852</td>\n",
       "      <td>395490</td>\n",
       "      <td>609852</td>\n",
       "    </tr>\n",
       "    <tr>\n",
       "      <th>unique</th>\n",
       "      <td>376</td>\n",
       "      <td>49</td>\n",
       "      <td>1537</td>\n",
       "      <td>5834</td>\n",
       "      <td>9</td>\n",
       "    </tr>\n",
       "    <tr>\n",
       "      <th>top</th>\n",
       "      <td>Springfield</td>\n",
       "      <td>CA</td>\n",
       "      <td>2020-02-04 00:00:00</td>\n",
       "      <td>Mist</td>\n",
       "      <td>Clear</td>\n",
       "    </tr>\n",
       "    <tr>\n",
       "      <th>freq</th>\n",
       "      <td>6144</td>\n",
       "      <td>61443</td>\n",
       "      <td>397</td>\n",
       "      <td>41077</td>\n",
       "      <td>206914</td>\n",
       "    </tr>\n",
       "    <tr>\n",
       "      <th>first</th>\n",
       "      <td>NaN</td>\n",
       "      <td>NaN</td>\n",
       "      <td>2017-01-01 00:00:00</td>\n",
       "      <td>NaN</td>\n",
       "      <td>NaN</td>\n",
       "    </tr>\n",
       "    <tr>\n",
       "      <th>last</th>\n",
       "      <td>NaN</td>\n",
       "      <td>NaN</td>\n",
       "      <td>2021-03-17 00:00:00</td>\n",
       "      <td>NaN</td>\n",
       "      <td>NaN</td>\n",
       "    </tr>\n",
       "  </tbody>\n",
       "</table>\n",
       "</div>"
      ],
      "text/plain": [
       "               City   State            Date time Weather Type Conditions\n",
       "count        609852  609852               609852       395490     609852\n",
       "unique          376      49                 1537         5834          9\n",
       "top     Springfield      CA  2020-02-04 00:00:00         Mist      Clear\n",
       "freq           6144   61443                  397        41077     206914\n",
       "first           NaN     NaN  2017-01-01 00:00:00          NaN        NaN\n",
       "last            NaN     NaN  2021-03-17 00:00:00          NaN        NaN"
      ]
     },
     "execution_count": 33,
     "metadata": {},
     "output_type": "execute_result"
    }
   ],
   "source": [
    "data.describe(exclude='number')"
   ]
  },
  {
   "cell_type": "code",
   "execution_count": 34,
   "id": "exempt-cigarette",
   "metadata": {},
   "outputs": [
    {
     "name": "stdout",
     "output_type": "stream",
     "text": [
      "Total Numerical Features Count 18\n",
      "Discrete feature Count 0\n",
      "Continuous feature Count 18\n",
      "Categorical feature Count 4\n"
     ]
    }
   ],
   "source": [
    "# check total feature types in data \n",
    "numerical_feature = [feature for feature in data.columns if data[feature].dtypes != 'O']\n",
    "discrete_feature=[feature for feature in numerical_feature if len(data[feature].unique())<25]\n",
    "continuous_feature = [feature for feature in numerical_feature if feature not in discrete_feature]\n",
    "categorical_feature = [feature for feature in data.columns if feature not in numerical_feature]\n",
    "print(\"Total Numerical Features Count {}\".format(len(numerical_feature)))\n",
    "print(\"Discrete feature Count {}\".format(len(discrete_feature)))\n",
    "print(\"Continuous feature Count {}\".format(len(continuous_feature)))\n",
    "print(\"Categorical feature Count {}\".format(len(categorical_feature)))"
   ]
  },
  {
   "cell_type": "code",
   "execution_count": 35,
   "id": "considered-abuse",
   "metadata": {},
   "outputs": [
    {
     "name": "stderr",
     "output_type": "stream",
     "text": [
      "C:\\Users\\tigju\\Anaconda3\\envs\\datascience\\lib\\site-packages\\seaborn\\distributions.py:2551: FutureWarning: `distplot` is a deprecated function and will be removed in a future version. Please adapt your code to use either `displot` (a figure-level function with similar flexibility) or `histplot` (an axes-level function for histograms).\n",
      "  warnings.warn(msg, FutureWarning)\n"
     ]
    },
    {
     "data": {
      "image/png": "[encoded data removed]",
      "text/plain": [
       "<Figure size 432x288 with 1 Axes>"
      ]
     },
     "metadata": {
      "needs_background": "light"
     },
     "output_type": "display_data"
    },
    {
     "data": {
      "text/plain": [
       "<Figure size 1080x1080 with 0 Axes>"
      ]
     },
     "metadata": {},
     "output_type": "display_data"
    },
    {
     "name": "stderr",
     "output_type": "stream",
     "text": [
      "C:\\Users\\tigju\\Anaconda3\\envs\\datascience\\lib\\site-packages\\seaborn\\distributions.py:2551: FutureWarning: `distplot` is a deprecated function and will be removed in a future version. Please adapt your code to use either `displot` (a figure-level function with similar flexibility) or `histplot` (an axes-level function for histograms).\n",
      "  warnings.warn(msg, FutureWarning)\n"
     ]
    },
    {
     "data": {
      "image/png": "[encoded data removed]",
      "text/plain": [
       "<Figure size 432x288 with 1 Axes>"
      ]
     },
     "metadata": {
      "needs_background": "light"
     },
     "output_type": "display_data"
    },
    {
     "data": {
      "text/plain": [
       "<Figure size 1080x1080 with 0 Axes>"
      ]
     },
     "metadata": {},
     "output_type": "display_data"
    },
    {
     "name": "stderr",
     "output_type": "stream",
     "text": [
      "C:\\Users\\tigju\\Anaconda3\\envs\\datascience\\lib\\site-packages\\seaborn\\distributions.py:2551: FutureWarning: `distplot` is a deprecated function and will be removed in a future version. Please adapt your code to use either `displot` (a figure-level function with similar flexibility) or `histplot` (an axes-level function for histograms).\n",
      "  warnings.warn(msg, FutureWarning)\n"
     ]
    },
    {
     "data": {
      "image/png": "[encoded data removed]",
      "text/plain": [
       "<Figure size 432x288 with 1 Axes>"
      ]
     },
     "metadata": {
      "needs_background": "light"
     },
     "output_type": "display_data"
    },
    {
     "data": {
      "text/plain": [
       "<Figure size 1080x1080 with 0 Axes>"
      ]
     },
     "metadata": {},
     "output_type": "display_data"
    },
    {
     "name": "stderr",
     "output_type": "stream",
     "text": [
      "C:\\Users\\tigju\\Anaconda3\\envs\\datascience\\lib\\site-packages\\seaborn\\distributions.py:2551: FutureWarning: `distplot` is a deprecated function and will be removed in a future version. Please adapt your code to use either `displot` (a figure-level function with similar flexibility) or `histplot` (an axes-level function for histograms).\n",
      "  warnings.warn(msg, FutureWarning)\n"
     ]
    },
    {
     "data": {
      "image/png": "[encoded data removed]",
      "text/plain": [
       "<Figure size 432x288 with 1 Axes>"
      ]
     },
     "metadata": {
      "needs_background": "light"
     },
     "output_type": "display_data"
    },
    {
     "data": {
      "text/plain": [
       "<Figure size 1080x1080 with 0 Axes>"
      ]
     },
     "metadata": {},
     "output_type": "display_data"
    },
    {
     "name": "stderr",
     "output_type": "stream",
     "text": [
      "C:\\Users\\tigju\\Anaconda3\\envs\\datascience\\lib\\site-packages\\seaborn\\distributions.py:2551: FutureWarning: `distplot` is a deprecated function and will be removed in a future version. Please adapt your code to use either `displot` (a figure-level function with similar flexibility) or `histplot` (an axes-level function for histograms).\n",
      "  warnings.warn(msg, FutureWarning)\n"
     ]
    },
    {
     "data": {
      "image/png": "[encoded data removed]",
      "text/plain": [
       "<Figure size 432x288 with 1 Axes>"
      ]
     },
     "metadata": {
      "needs_background": "light"
     },
     "output_type": "display_data"
    },
    {
     "data": {
      "text/plain": [
       "<Figure size 1080x1080 with 0 Axes>"
      ]
     },
     "metadata": {},
     "output_type": "display_data"
    },
    {
     "name": "stderr",
     "output_type": "stream",
     "text": [
      "C:\\Users\\tigju\\Anaconda3\\envs\\datascience\\lib\\site-packages\\seaborn\\distributions.py:2551: FutureWarning: `distplot` is a deprecated function and will be removed in a future version. Please adapt your code to use either `displot` (a figure-level function with similar flexibility) or `histplot` (an axes-level function for histograms).\n",
      "  warnings.warn(msg, FutureWarning)\n"
     ]
    },
    {
     "data": {
      "image/png": "[encoded data removed]",
      "text/plain": [
       "<Figure size 432x288 with 1 Axes>"
      ]
     },
     "metadata": {
      "needs_background": "light"
     },
     "output_type": "display_data"
    },
    {
     "data": {
      "text/plain": [
       "<Figure size 1080x1080 with 0 Axes>"
      ]
     },
     "metadata": {},
     "output_type": "display_data"
    },
    {
     "name": "stderr",
     "output_type": "stream",
     "text": [
      "C:\\Users\\tigju\\Anaconda3\\envs\\datascience\\lib\\site-packages\\seaborn\\distributions.py:2551: FutureWarning: `distplot` is a deprecated function and will be removed in a future version. Please adapt your code to use either `displot` (a figure-level function with similar flexibility) or `histplot` (an axes-level function for histograms).\n",
      "  warnings.warn(msg, FutureWarning)\n"
     ]
    },
    {
     "data": {
      "image/png": "[encoded data removed]",
      "text/plain": [
       "<Figure size 432x288 with 1 Axes>"
      ]
     },
     "metadata": {
      "needs_background": "light"
     },
     "output_type": "display_data"
    },
    {
     "data": {
      "text/plain": [
       "<Figure size 1080x1080 with 0 Axes>"
      ]
     },
     "metadata": {},
     "output_type": "display_data"
    },
    {
     "name": "stderr",
     "output_type": "stream",
     "text": [
      "C:\\Users\\tigju\\Anaconda3\\envs\\datascience\\lib\\site-packages\\seaborn\\distributions.py:2551: FutureWarning: `distplot` is a deprecated function and will be removed in a future version. Please adapt your code to use either `displot` (a figure-level function with similar flexibility) or `histplot` (an axes-level function for histograms).\n",
      "  warnings.warn(msg, FutureWarning)\n"
     ]
    },
    {
     "data": {
      "image/png": "[encoded data removed]",
      "text/plain": [
       "<Figure size 432x288 with 1 Axes>"
      ]
     },
     "metadata": {
      "needs_background": "light"
     },
     "output_type": "display_data"
    },
    {
     "data": {
      "text/plain": [
       "<Figure size 1080x1080 with 0 Axes>"
      ]
     },
     "metadata": {},
     "output_type": "display_data"
    },
    {
     "name": "stderr",
     "output_type": "stream",
     "text": [
      "C:\\Users\\tigju\\Anaconda3\\envs\\datascience\\lib\\site-packages\\seaborn\\distributions.py:2551: FutureWarning: `distplot` is a deprecated function and will be removed in a future version. Please adapt your code to use either `displot` (a figure-level function with similar flexibility) or `histplot` (an axes-level function for histograms).\n",
      "  warnings.warn(msg, FutureWarning)\n"
     ]
    },
    {
     "data": {
      "image/png": "[encoded data removed]",
      "text/plain": [
       "<Figure size 432x288 with 1 Axes>"
      ]
     },
     "metadata": {
      "needs_background": "light"
     },
     "output_type": "display_data"
    },
    {
     "data": {
      "text/plain": [
       "<Figure size 1080x1080 with 0 Axes>"
      ]
     },
     "metadata": {},
     "output_type": "display_data"
    },
    {
     "name": "stderr",
     "output_type": "stream",
     "text": [
      "C:\\Users\\tigju\\Anaconda3\\envs\\datascience\\lib\\site-packages\\seaborn\\distributions.py:2551: FutureWarning: `distplot` is a deprecated function and will be removed in a future version. Please adapt your code to use either `displot` (a figure-level function with similar flexibility) or `histplot` (an axes-level function for histograms).\n",
      "  warnings.warn(msg, FutureWarning)\n"
     ]
    },
    {
     "data": {
      "image/png": "[encoded data removed]",
      "text/plain": [
       "<Figure size 432x288 with 1 Axes>"
      ]
     },
     "metadata": {
      "needs_background": "light"
     },
     "output_type": "display_data"
    },
    {
     "data": {
      "text/plain": [
       "<Figure size 1080x1080 with 0 Axes>"
      ]
     },
     "metadata": {},
     "output_type": "display_data"
    },
    {
     "name": "stderr",
     "output_type": "stream",
     "text": [
      "C:\\Users\\tigju\\Anaconda3\\envs\\datascience\\lib\\site-packages\\seaborn\\distributions.py:2551: FutureWarning: `distplot` is a deprecated function and will be removed in a future version. Please adapt your code to use either `displot` (a figure-level function with similar flexibility) or `histplot` (an axes-level function for histograms).\n",
      "  warnings.warn(msg, FutureWarning)\n"
     ]
    },
    {
     "data": {
      "image/png": "[encoded data removed]",
      "text/plain": [
       "<Figure size 432x288 with 1 Axes>"
      ]
     },
     "metadata": {
      "needs_background": "light"
     },
     "output_type": "display_data"
    },
    {
     "data": {
      "text/plain": [
       "<Figure size 1080x1080 with 0 Axes>"
      ]
     },
     "metadata": {},
     "output_type": "display_data"
    },
    {
     "name": "stderr",
     "output_type": "stream",
     "text": [
      "C:\\Users\\tigju\\Anaconda3\\envs\\datascience\\lib\\site-packages\\seaborn\\distributions.py:2551: FutureWarning: `distplot` is a deprecated function and will be removed in a future version. Please adapt your code to use either `displot` (a figure-level function with similar flexibility) or `histplot` (an axes-level function for histograms).\n",
      "  warnings.warn(msg, FutureWarning)\n"
     ]
    },
    {
     "data": {
      "image/png": "[encoded data removed]",
      "text/plain": [
       "<Figure size 432x288 with 1 Axes>"
      ]
     },
     "metadata": {
      "needs_background": "light"
     },
     "output_type": "display_data"
    },
    {
     "data": {
      "text/plain": [
       "<Figure size 1080x1080 with 0 Axes>"
      ]
     },
     "metadata": {},
     "output_type": "display_data"
    },
    {
     "name": "stderr",
     "output_type": "stream",
     "text": [
      "C:\\Users\\tigju\\Anaconda3\\envs\\datascience\\lib\\site-packages\\seaborn\\distributions.py:2551: FutureWarning: `distplot` is a deprecated function and will be removed in a future version. Please adapt your code to use either `displot` (a figure-level function with similar flexibility) or `histplot` (an axes-level function for histograms).\n",
      "  warnings.warn(msg, FutureWarning)\n"
     ]
    },
    {
     "data": {
      "image/png": "[encoded data removed]",
      "text/plain": [
       "<Figure size 432x288 with 1 Axes>"
      ]
     },
     "metadata": {
      "needs_background": "light"
     },
     "output_type": "display_data"
    },
    {
     "data": {
      "text/plain": [
       "<Figure size 1080x1080 with 0 Axes>"
      ]
     },
     "metadata": {},
     "output_type": "display_data"
    },
    {
     "name": "stderr",
     "output_type": "stream",
     "text": [
      "C:\\Users\\tigju\\Anaconda3\\envs\\datascience\\lib\\site-packages\\seaborn\\distributions.py:2551: FutureWarning: `distplot` is a deprecated function and will be removed in a future version. Please adapt your code to use either `displot` (a figure-level function with similar flexibility) or `histplot` (an axes-level function for histograms).\n",
      "  warnings.warn(msg, FutureWarning)\n"
     ]
    },
    {
     "data": {
      "image/png": "[encoded data removed]",
      "text/plain": [
       "<Figure size 432x288 with 1 Axes>"
      ]
     },
     "metadata": {
      "needs_background": "light"
     },
     "output_type": "display_data"
    },
    {
     "data": {
      "text/plain": [
       "<Figure size 1080x1080 with 0 Axes>"
      ]
     },
     "metadata": {},
     "output_type": "display_data"
    },
    {
     "name": "stderr",
     "output_type": "stream",
     "text": [
      "C:\\Users\\tigju\\Anaconda3\\envs\\datascience\\lib\\site-packages\\seaborn\\distributions.py:2551: FutureWarning: `distplot` is a deprecated function and will be removed in a future version. Please adapt your code to use either `displot` (a figure-level function with similar flexibility) or `histplot` (an axes-level function for histograms).\n",
      "  warnings.warn(msg, FutureWarning)\n"
     ]
    },
    {
     "data": {
      "image/png": "[encoded data removed]",
      "text/plain": [
       "<Figure size 432x288 with 1 Axes>"
      ]
     },
     "metadata": {
      "needs_background": "light"
     },
     "output_type": "display_data"
    },
    {
     "data": {
      "text/plain": [
       "<Figure size 1080x1080 with 0 Axes>"
      ]
     },
     "metadata": {},
     "output_type": "display_data"
    },
    {
     "name": "stderr",
     "output_type": "stream",
     "text": [
      "C:\\Users\\tigju\\Anaconda3\\envs\\datascience\\lib\\site-packages\\seaborn\\distributions.py:2551: FutureWarning: `distplot` is a deprecated function and will be removed in a future version. Please adapt your code to use either `displot` (a figure-level function with similar flexibility) or `histplot` (an axes-level function for histograms).\n",
      "  warnings.warn(msg, FutureWarning)\n"
     ]
    },
    {
     "data": {
      "image/png": "[encoded data removed]",
      "text/plain": [
       "<Figure size 432x288 with 1 Axes>"
      ]
     },
     "metadata": {
      "needs_background": "light"
     },
     "output_type": "display_data"
    },
    {
     "data": {
      "text/plain": [
       "<Figure size 1080x1080 with 0 Axes>"
      ]
     },
     "metadata": {},
     "output_type": "display_data"
    },
    {
     "name": "stderr",
     "output_type": "stream",
     "text": [
      "C:\\Users\\tigju\\Anaconda3\\envs\\datascience\\lib\\site-packages\\seaborn\\distributions.py:2551: FutureWarning: `distplot` is a deprecated function and will be removed in a future version. Please adapt your code to use either `displot` (a figure-level function with similar flexibility) or `histplot` (an axes-level function for histograms).\n",
      "  warnings.warn(msg, FutureWarning)\n"
     ]
    },
    {
     "data": {
      "image/png": "[encoded data removed]",
      "text/plain": [
       "<Figure size 432x288 with 1 Axes>"
      ]
     },
     "metadata": {
      "needs_background": "light"
     },
     "output_type": "display_data"
    },
    {
     "data": {
      "text/plain": [
       "<Figure size 1080x1080 with 0 Axes>"
      ]
     },
     "metadata": {},
     "output_type": "display_data"
    },
    {
     "name": "stderr",
     "output_type": "stream",
     "text": [
      "C:\\Users\\tigju\\Anaconda3\\envs\\datascience\\lib\\site-packages\\seaborn\\distributions.py:2551: FutureWarning: `distplot` is a deprecated function and will be removed in a future version. Please adapt your code to use either `displot` (a figure-level function with similar flexibility) or `histplot` (an axes-level function for histograms).\n",
      "  warnings.warn(msg, FutureWarning)\n"
     ]
    },
    {
     "data": {
      "image/png": "[encoded data removed]",
      "text/plain": [
       "<Figure size 432x288 with 1 Axes>"
      ]
     },
     "metadata": {
      "needs_background": "light"
     },
     "output_type": "display_data"
    },
    {
     "data": {
      "text/plain": [
       "<Figure size 1080x1080 with 0 Axes>"
      ]
     },
     "metadata": {},
     "output_type": "display_data"
    }
   ],
   "source": [
    "for feature in continuous_feature:\n",
    "    data=data.copy()\n",
    "    sns.distplot(data[feature])\n",
    "    plt.xlabel(feature)\n",
    "    plt.ylabel(\"Count\")\n",
    "    plt.title(feature)\n",
    "    plt.figure(figsize=(15,15))\n",
    "    plt.show()"
   ]
  },
  {
   "cell_type": "code",
   "execution_count": 36,
   "id": "waiting-estate",
   "metadata": {},
   "outputs": [
    {
     "data": {
      "text/plain": [
       "Clear                     206914\n",
       "Partially cloudy          145839\n",
       "Rain, Partially cloudy    108095\n",
       "Rain, Overcast             58076\n",
       "Overcast                   25491\n",
       "Rain                       23756\n",
       "Snow, Partially cloudy     18739\n",
       "Snow, Overcast             17635\n",
       "Snow                        5307\n",
       "Name: Conditions, dtype: int64"
      ]
     },
     "execution_count": 36,
     "metadata": {},
     "output_type": "execute_result"
    }
   ],
   "source": [
    "data['Conditions'].value_counts()"
   ]
  },
  {
   "cell_type": "code",
   "execution_count": 37,
   "id": "numeric-retrieval",
   "metadata": {},
   "outputs": [
    {
     "data": {
      "text/plain": [
       "Mist                                                                                                   41077\n",
       "Light Rain                                                                                             33363\n",
       "Mist, Fog                                                                                              25241\n",
       "Mist, Light Rain                                                                                       20622\n",
       "Smoke Or Haze                                                                                          19514\n",
       "                                                                                                       ...  \n",
       "Ice, Drizzle, Mist, Light Snow, Rain, Fog, Heavy Rain, Light Rain, Snow                                    1\n",
       "Ice, Mist, Light Snow, Rain, Heavy Rain And Snow, Light Rain And Snow, Heavy Rain, Light Rain, Snow        1\n",
       "Drizzle, Light Snow, Mist, Heavy Drizzle, Light Drizzle, Fog, Light Rain                                   1\n",
       "Drizzle, Mist, Light Drizzle, Rain, Heavy Rain, Light Rain, Light Freezing Drizzle/Freezing Rain           1\n",
       "Snow Showers, Mist, Light Snow, Light Rain And Snow, Fog, Light Rain, Snow                                 1\n",
       "Name: Weather Type, Length: 5834, dtype: int64"
      ]
     },
     "execution_count": 37,
     "metadata": {},
     "output_type": "execute_result"
    }
   ],
   "source": [
    "data['Weather Type'].value_counts()"
   ]
  },
  {
   "cell_type": "code",
   "execution_count": 38,
   "id": "focused-filing",
   "metadata": {},
   "outputs": [
    {
     "data": {
      "image/png": "[encoded data removed]",
      "text/plain": [
       "<Figure size 1440x1440 with 2 Axes>"
      ]
     },
     "metadata": {
      "needs_background": "light"
     },
     "output_type": "display_data"
    }
   ],
   "source": [
    "corrmat = data.corr(method = \"spearman\")\n",
    "plt.figure(figsize=(20,20))\n",
    "#plot heat map\n",
    "g=sns.heatmap(corrmat,annot=True)"
   ]
  },
  {
   "cell_type": "code",
   "execution_count": 39,
   "id": "complimentary-diagram",
   "metadata": {},
   "outputs": [
    {
     "name": "stderr",
     "output_type": "stream",
     "text": [
      "C:\\Users\\tigju\\Anaconda3\\envs\\datascience\\lib\\site-packages\\seaborn\\_decorators.py:43: FutureWarning: Pass the following variable as a keyword arg: x. From version 0.12, the only valid positional argument will be `data`, and passing other arguments without an explicit keyword will result in an error or misinterpretation.\n",
      "  FutureWarning\n"
     ]
    },
    {
     "data": {
      "text/plain": [
       "(array([0, 1, 2, 3, 4, 5, 6, 7, 8]),\n",
       " [Text(0, 0, 'Clear'),\n",
       "  Text(1, 0, 'Overcast'),\n",
       "  Text(2, 0, 'Rain, Overcast'),\n",
       "  Text(3, 0, 'Snow, Partially cloudy'),\n",
       "  Text(4, 0, 'Snow'),\n",
       "  Text(5, 0, 'Partially cloudy'),\n",
       "  Text(6, 0, 'Snow, Overcast'),\n",
       "  Text(7, 0, 'Rain, Partially cloudy'),\n",
       "  Text(8, 0, 'Rain')])"
      ]
     },
     "execution_count": 39,
     "metadata": {},
     "output_type": "execute_result"
    },
    {
     "data": {
      "image/png": "[encoded data removed]",
      "text/plain": [
       "<Figure size 432x288 with 1 Axes>"
      ]
     },
     "metadata": {
      "needs_background": "light"
     },
     "output_type": "display_data"
    }
   ],
   "source": [
    "# \n",
    "sns.countplot(data[\"Conditions\"])\n",
    "plt.xticks(rotation=90)"
   ]
  },
  {
   "cell_type": "markdown",
   "id": "headed-medicare",
   "metadata": {},
   "source": [
    "## Exploring and Handling missing values"
   ]
  },
  {
   "cell_type": "code",
   "execution_count": 40,
   "id": "durable-termination",
   "metadata": {},
   "outputs": [
    {
     "data": {
      "image/png": "[encoded data removed]",
      "text/plain": [
       "<Figure size 864x432 with 1 Axes>"
      ]
     },
     "metadata": {
      "needs_background": "light"
     },
     "output_type": "display_data"
    }
   ],
   "source": [
    "plt.figure(figsize=(12, 6))\n",
    "sns.heatmap(data.isnull(), cbar=False, cmap='viridis')\n",
    "plt.show()"
   ]
  },
  {
   "cell_type": "code",
   "execution_count": 41,
   "id": "searching-ethernet",
   "metadata": {},
   "outputs": [
    {
     "data": {
      "image/png": "[encoded data removed]",
      "text/plain": [
       "<Figure size 936x360 with 1 Axes>"
      ]
     },
     "metadata": {
      "needs_background": "light"
     },
     "output_type": "display_data"
    }
   ],
   "source": [
    "#missing value counts in each of these columns\n",
    "Isnull = data.isnull().sum()/len(data)*100\n",
    "Isnull = Isnull[Isnull>0]\n",
    "Isnull.sort_values(inplace=True, ascending=False)\n",
    "Isnull\n",
    "Isnull = Isnull.to_frame()\n",
    "Isnull.columns = ['Nulls']\n",
    "Isnull.index.names = ['Features']\n",
    "Isnull['Features'] = Isnull.index\n",
    "\n",
    "#plot Missing values\n",
    "plt.figure(figsize=(13, 5))\n",
    "sns.set(style='darkgrid',color_codes=True,)\n",
    "sns.barplot(x='Features', y='Nulls', data=Isnull)\n",
    "plt.xticks(rotation = 90)\n",
    "plt.show()"
   ]
  },
  {
   "cell_type": "markdown",
   "id": "persistent-statement",
   "metadata": {},
   "source": [
    "## Handling Visibility feature"
   ]
  },
  {
   "cell_type": "code",
   "execution_count": 42,
   "id": "bored-payday",
   "metadata": {},
   "outputs": [
    {
     "data": {
      "text/html": [
       "<div>\n",
       "<style scoped>\n",
       "    .dataframe tbody tr th:only-of-type {\n",
       "        vertical-align: middle;\n",
       "    }\n",
       "\n",
       "    .dataframe tbody tr th {\n",
       "        vertical-align: top;\n",
       "    }\n",
       "\n",
       "    .dataframe thead th {\n",
       "        text-align: right;\n",
       "    }\n",
       "</style>\n",
       "<table border=\"1\" class=\"dataframe\">\n",
       "  <thead>\n",
       "    <tr style=\"text-align: right;\">\n",
       "      <th></th>\n",
       "      <th>City</th>\n",
       "      <th>State</th>\n",
       "      <th>Wind Direction</th>\n",
       "      <th>Latitude</th>\n",
       "      <th>Cloud Cover (%)</th>\n",
       "      <th>Minimum Temperature (degF)</th>\n",
       "      <th>Date time</th>\n",
       "      <th>Precipitation (in)</th>\n",
       "      <th>Dew Point (degF)</th>\n",
       "      <th>Relative Humidity (%)</th>\n",
       "      <th>Precipitation Cover (%)</th>\n",
       "      <th>Longitude</th>\n",
       "      <th>Temperature (degF)</th>\n",
       "      <th>Maximum Temperature (degF)</th>\n",
       "      <th>Visibility (mi)</th>\n",
       "      <th>Wind Speed (mph)</th>\n",
       "      <th>Weather Type</th>\n",
       "      <th>Snow Depth (in)</th>\n",
       "      <th>Sea Level Pressure (mb)</th>\n",
       "      <th>Snow (in)</th>\n",
       "      <th>Wind Gust (mph)</th>\n",
       "      <th>Conditions</th>\n",
       "    </tr>\n",
       "  </thead>\n",
       "  <tbody>\n",
       "    <tr>\n",
       "      <th>167163</th>\n",
       "      <td>Elko</td>\n",
       "      <td>NV</td>\n",
       "      <td>79.44</td>\n",
       "      <td>40.8357</td>\n",
       "      <td>0.0</td>\n",
       "      <td>34.1</td>\n",
       "      <td>2020-05-09</td>\n",
       "      <td>0.0</td>\n",
       "      <td>16.4</td>\n",
       "      <td>23.28</td>\n",
       "      <td>0.0</td>\n",
       "      <td>-115.768</td>\n",
       "      <td>59.2</td>\n",
       "      <td>78.2</td>\n",
       "      <td>NaN</td>\n",
       "      <td>9.2</td>\n",
       "      <td>NaN</td>\n",
       "      <td>0.0</td>\n",
       "      <td>1016.6</td>\n",
       "      <td>0.0</td>\n",
       "      <td>NaN</td>\n",
       "      <td>Clear</td>\n",
       "    </tr>\n",
       "    <tr>\n",
       "      <th>167164</th>\n",
       "      <td>Elko</td>\n",
       "      <td>NV</td>\n",
       "      <td>174.55</td>\n",
       "      <td>40.8357</td>\n",
       "      <td>1.1</td>\n",
       "      <td>39.8</td>\n",
       "      <td>2020-05-10</td>\n",
       "      <td>0.0</td>\n",
       "      <td>21.5</td>\n",
       "      <td>23.56</td>\n",
       "      <td>0.0</td>\n",
       "      <td>-115.768</td>\n",
       "      <td>64.9</td>\n",
       "      <td>83.9</td>\n",
       "      <td>NaN</td>\n",
       "      <td>15.0</td>\n",
       "      <td>NaN</td>\n",
       "      <td>0.0</td>\n",
       "      <td>1010.2</td>\n",
       "      <td>0.0</td>\n",
       "      <td>20.8</td>\n",
       "      <td>Clear</td>\n",
       "    </tr>\n",
       "    <tr>\n",
       "      <th>540881</th>\n",
       "      <td>Taos</td>\n",
       "      <td>NM</td>\n",
       "      <td>139.09</td>\n",
       "      <td>36.4120</td>\n",
       "      <td>0.0</td>\n",
       "      <td>69.2</td>\n",
       "      <td>2019-07-31</td>\n",
       "      <td>0.0</td>\n",
       "      <td>46.9</td>\n",
       "      <td>34.02</td>\n",
       "      <td>0.0</td>\n",
       "      <td>-105.574</td>\n",
       "      <td>77.9</td>\n",
       "      <td>88.1</td>\n",
       "      <td>NaN</td>\n",
       "      <td>23.0</td>\n",
       "      <td>Lightning Without Thunder</td>\n",
       "      <td>0.0</td>\n",
       "      <td>1019.1</td>\n",
       "      <td>0.0</td>\n",
       "      <td>35.6</td>\n",
       "      <td>Clear</td>\n",
       "    </tr>\n",
       "  </tbody>\n",
       "</table>\n",
       "</div>"
      ],
      "text/plain": [
       "        City State  Wind Direction  Latitude  Cloud Cover (%)  \\\n",
       "167163  Elko    NV           79.44   40.8357              0.0   \n",
       "167164  Elko    NV          174.55   40.8357              1.1   \n",
       "540881  Taos    NM          139.09   36.4120              0.0   \n",
       "\n",
       "        Minimum Temperature (degF)  Date time  Precipitation (in)  \\\n",
       "167163                        34.1 2020-05-09                 0.0   \n",
       "167164                        39.8 2020-05-10                 0.0   \n",
       "540881                        69.2 2019-07-31                 0.0   \n",
       "\n",
       "        Dew Point (degF)  Relative Humidity (%)  Precipitation Cover (%)  \\\n",
       "167163              16.4                  23.28                      0.0   \n",
       "167164              21.5                  23.56                      0.0   \n",
       "540881              46.9                  34.02                      0.0   \n",
       "\n",
       "        Longitude  Temperature (degF)  Maximum Temperature (degF)  \\\n",
       "167163   -115.768                59.2                        78.2   \n",
       "167164   -115.768                64.9                        83.9   \n",
       "540881   -105.574                77.9                        88.1   \n",
       "\n",
       "        Visibility (mi)  Wind Speed (mph)               Weather Type  \\\n",
       "167163              NaN               9.2                        NaN   \n",
       "167164              NaN              15.0                        NaN   \n",
       "540881              NaN              23.0  Lightning Without Thunder   \n",
       "\n",
       "        Snow Depth (in)  Sea Level Pressure (mb)  Snow (in)  Wind Gust (mph)  \\\n",
       "167163              0.0                   1016.6        0.0              NaN   \n",
       "167164              0.0                   1010.2        0.0             20.8   \n",
       "540881              0.0                   1019.1        0.0             35.6   \n",
       "\n",
       "       Conditions  \n",
       "167163      Clear  \n",
       "167164      Clear  \n",
       "540881      Clear  "
      ]
     },
     "execution_count": 42,
     "metadata": {},
     "output_type": "execute_result"
    }
   ],
   "source": [
    "data[data['Visibility (mi)'].isna()]"
   ]
  },
  {
   "cell_type": "code",
   "execution_count": 43,
   "id": "unauthorized-resort",
   "metadata": {},
   "outputs": [
    {
     "data": {
      "text/plain": [
       "167162    9.9\n",
       "167163    NaN\n",
       "167164    NaN\n",
       "167165    9.9\n",
       "167166    9.9\n",
       "167167    9.9\n",
       "167168    9.9\n",
       "167169    9.9\n",
       "167170    9.9\n",
       "167171    9.9\n",
       "Name: Visibility (mi), dtype: float64"
      ]
     },
     "execution_count": 43,
     "metadata": {},
     "output_type": "execute_result"
    }
   ],
   "source": [
    "data['Visibility (mi)'][167160:167170]"
   ]
  },
  {
   "cell_type": "code",
   "execution_count": 44,
   "id": "comic-rover",
   "metadata": {},
   "outputs": [
    {
     "name": "stdout",
     "output_type": "stream",
     "text": [
      "Mean 9.280348414115627\n",
      "Median 9.8\n",
      "Mode 0    9.9\n",
      "dtype: float64\n"
     ]
    }
   ],
   "source": [
    "print(\"Mean\", data['Visibility (mi)'].mean())\n",
    "print(\"Median\",data['Visibility (mi)'].median())\n",
    "print(\"Mode\", data['Visibility (mi)'].mode())"
   ]
  },
  {
   "cell_type": "markdown",
   "id": "special-image",
   "metadata": {},
   "source": [
    "### Filling missing values for visibility"
   ]
  },
  {
   "cell_type": "code",
   "execution_count": 45,
   "id": "seven-nancy",
   "metadata": {},
   "outputs": [],
   "source": [
    "# fill missing values with mode for visibility\n",
    "data['Visibility (mi)'] = data['Visibility (mi)'].fillna(data['Visibility (mi)'].mode()[0])"
   ]
  },
  {
   "cell_type": "markdown",
   "id": "appreciated-advertiser",
   "metadata": {},
   "source": [
    "### Explore Wind Gust feature for missing values"
   ]
  },
  {
   "cell_type": "code",
   "execution_count": 46,
   "id": "aggregate-headset",
   "metadata": {},
   "outputs": [
    {
     "data": {
      "text/html": [
       "<div>\n",
       "<style scoped>\n",
       "    .dataframe tbody tr th:only-of-type {\n",
       "        vertical-align: middle;\n",
       "    }\n",
       "\n",
       "    .dataframe tbody tr th {\n",
       "        vertical-align: top;\n",
       "    }\n",
       "\n",
       "    .dataframe thead th {\n",
       "        text-align: right;\n",
       "    }\n",
       "</style>\n",
       "<table border=\"1\" class=\"dataframe\">\n",
       "  <thead>\n",
       "    <tr style=\"text-align: right;\">\n",
       "      <th></th>\n",
       "      <th>City</th>\n",
       "      <th>State</th>\n",
       "      <th>Wind Direction</th>\n",
       "      <th>Latitude</th>\n",
       "      <th>Cloud Cover (%)</th>\n",
       "      <th>Minimum Temperature (degF)</th>\n",
       "      <th>Date time</th>\n",
       "      <th>Precipitation (in)</th>\n",
       "      <th>Dew Point (degF)</th>\n",
       "      <th>Relative Humidity (%)</th>\n",
       "      <th>Precipitation Cover (%)</th>\n",
       "      <th>Longitude</th>\n",
       "      <th>Temperature (degF)</th>\n",
       "      <th>Maximum Temperature (degF)</th>\n",
       "      <th>Visibility (mi)</th>\n",
       "      <th>Wind Speed (mph)</th>\n",
       "      <th>Weather Type</th>\n",
       "      <th>Snow Depth (in)</th>\n",
       "      <th>Sea Level Pressure (mb)</th>\n",
       "      <th>Snow (in)</th>\n",
       "      <th>Wind Gust (mph)</th>\n",
       "      <th>Conditions</th>\n",
       "    </tr>\n",
       "  </thead>\n",
       "  <tbody>\n",
       "    <tr>\n",
       "      <th>1</th>\n",
       "      <td>Akron</td>\n",
       "      <td>OH</td>\n",
       "      <td>180.46</td>\n",
       "      <td>41.08431</td>\n",
       "      <td>10.3</td>\n",
       "      <td>23.2</td>\n",
       "      <td>2017-01-01</td>\n",
       "      <td>0.0</td>\n",
       "      <td>23.3</td>\n",
       "      <td>66.47</td>\n",
       "      <td>0.00</td>\n",
       "      <td>-81.51431</td>\n",
       "      <td>33.7</td>\n",
       "      <td>42.2</td>\n",
       "      <td>9.5</td>\n",
       "      <td>10.5</td>\n",
       "      <td>Mist</td>\n",
       "      <td>0.41</td>\n",
       "      <td>1020.8</td>\n",
       "      <td>0.0</td>\n",
       "      <td>NaN</td>\n",
       "      <td>Clear</td>\n",
       "    </tr>\n",
       "    <tr>\n",
       "      <th>2</th>\n",
       "      <td>Akron</td>\n",
       "      <td>OH</td>\n",
       "      <td>84.79</td>\n",
       "      <td>41.08431</td>\n",
       "      <td>82.1</td>\n",
       "      <td>33.0</td>\n",
       "      <td>2017-01-02</td>\n",
       "      <td>0.0</td>\n",
       "      <td>37.6</td>\n",
       "      <td>85.22</td>\n",
       "      <td>16.67</td>\n",
       "      <td>-81.51431</td>\n",
       "      <td>41.8</td>\n",
       "      <td>47.8</td>\n",
       "      <td>3.4</td>\n",
       "      <td>7.3</td>\n",
       "      <td>Mist, Light Drizzle, Rain, Fog, Light Rain</td>\n",
       "      <td>0.00</td>\n",
       "      <td>1020.3</td>\n",
       "      <td>0.0</td>\n",
       "      <td>NaN</td>\n",
       "      <td>Overcast</td>\n",
       "    </tr>\n",
       "    <tr>\n",
       "      <th>13</th>\n",
       "      <td>Akron</td>\n",
       "      <td>OH</td>\n",
       "      <td>244.83</td>\n",
       "      <td>41.08431</td>\n",
       "      <td>60.6</td>\n",
       "      <td>25.1</td>\n",
       "      <td>2017-01-13</td>\n",
       "      <td>0.0</td>\n",
       "      <td>19.9</td>\n",
       "      <td>66.90</td>\n",
       "      <td>0.00</td>\n",
       "      <td>-81.51431</td>\n",
       "      <td>29.7</td>\n",
       "      <td>34.0</td>\n",
       "      <td>9.9</td>\n",
       "      <td>12.7</td>\n",
       "      <td>NaN</td>\n",
       "      <td>0.00</td>\n",
       "      <td>1036.9</td>\n",
       "      <td>0.0</td>\n",
       "      <td>NaN</td>\n",
       "      <td>Partially cloudy</td>\n",
       "    </tr>\n",
       "    <tr>\n",
       "      <th>14</th>\n",
       "      <td>Akron</td>\n",
       "      <td>OH</td>\n",
       "      <td>147.71</td>\n",
       "      <td>41.08431</td>\n",
       "      <td>78.7</td>\n",
       "      <td>25.9</td>\n",
       "      <td>2017-01-14</td>\n",
       "      <td>0.0</td>\n",
       "      <td>20.1</td>\n",
       "      <td>65.03</td>\n",
       "      <td>0.00</td>\n",
       "      <td>-81.51431</td>\n",
       "      <td>30.5</td>\n",
       "      <td>35.0</td>\n",
       "      <td>9.9</td>\n",
       "      <td>7.9</td>\n",
       "      <td>Light Snow</td>\n",
       "      <td>0.00</td>\n",
       "      <td>1032.0</td>\n",
       "      <td>0.0</td>\n",
       "      <td>NaN</td>\n",
       "      <td>Overcast</td>\n",
       "    </tr>\n",
       "    <tr>\n",
       "      <th>15</th>\n",
       "      <td>Akron</td>\n",
       "      <td>OH</td>\n",
       "      <td>143.00</td>\n",
       "      <td>41.08431</td>\n",
       "      <td>6.5</td>\n",
       "      <td>20.9</td>\n",
       "      <td>2017-01-15</td>\n",
       "      <td>0.0</td>\n",
       "      <td>21.0</td>\n",
       "      <td>75.33</td>\n",
       "      <td>0.00</td>\n",
       "      <td>-81.51431</td>\n",
       "      <td>28.1</td>\n",
       "      <td>36.6</td>\n",
       "      <td>7.2</td>\n",
       "      <td>7.8</td>\n",
       "      <td>Mist, Smoke Or Haze</td>\n",
       "      <td>0.00</td>\n",
       "      <td>1029.8</td>\n",
       "      <td>0.0</td>\n",
       "      <td>NaN</td>\n",
       "      <td>Clear</td>\n",
       "    </tr>\n",
       "    <tr>\n",
       "      <th>...</th>\n",
       "      <td>...</td>\n",
       "      <td>...</td>\n",
       "      <td>...</td>\n",
       "      <td>...</td>\n",
       "      <td>...</td>\n",
       "      <td>...</td>\n",
       "      <td>...</td>\n",
       "      <td>...</td>\n",
       "      <td>...</td>\n",
       "      <td>...</td>\n",
       "      <td>...</td>\n",
       "      <td>...</td>\n",
       "      <td>...</td>\n",
       "      <td>...</td>\n",
       "      <td>...</td>\n",
       "      <td>...</td>\n",
       "      <td>...</td>\n",
       "      <td>...</td>\n",
       "      <td>...</td>\n",
       "      <td>...</td>\n",
       "      <td>...</td>\n",
       "      <td>...</td>\n",
       "    </tr>\n",
       "    <tr>\n",
       "      <th>613657</th>\n",
       "      <td>Yuma</td>\n",
       "      <td>AZ</td>\n",
       "      <td>260.62</td>\n",
       "      <td>32.68550</td>\n",
       "      <td>0.0</td>\n",
       "      <td>51.0</td>\n",
       "      <td>2021-03-05</td>\n",
       "      <td>0.0</td>\n",
       "      <td>33.5</td>\n",
       "      <td>33.18</td>\n",
       "      <td>0.00</td>\n",
       "      <td>-114.62500</td>\n",
       "      <td>65.7</td>\n",
       "      <td>80.9</td>\n",
       "      <td>7.8</td>\n",
       "      <td>9.1</td>\n",
       "      <td>NaN</td>\n",
       "      <td>0.00</td>\n",
       "      <td>1017.5</td>\n",
       "      <td>0.0</td>\n",
       "      <td>NaN</td>\n",
       "      <td>Clear</td>\n",
       "    </tr>\n",
       "    <tr>\n",
       "      <th>613658</th>\n",
       "      <td>Yuma</td>\n",
       "      <td>AZ</td>\n",
       "      <td>189.45</td>\n",
       "      <td>32.68550</td>\n",
       "      <td>0.0</td>\n",
       "      <td>52.6</td>\n",
       "      <td>2021-03-06</td>\n",
       "      <td>0.0</td>\n",
       "      <td>30.4</td>\n",
       "      <td>26.32</td>\n",
       "      <td>0.00</td>\n",
       "      <td>-114.62500</td>\n",
       "      <td>68.1</td>\n",
       "      <td>81.0</td>\n",
       "      <td>9.9</td>\n",
       "      <td>7.5</td>\n",
       "      <td>NaN</td>\n",
       "      <td>0.00</td>\n",
       "      <td>1011.4</td>\n",
       "      <td>0.0</td>\n",
       "      <td>NaN</td>\n",
       "      <td>Clear</td>\n",
       "    </tr>\n",
       "    <tr>\n",
       "      <th>613659</th>\n",
       "      <td>Yuma</td>\n",
       "      <td>AZ</td>\n",
       "      <td>133.76</td>\n",
       "      <td>32.68550</td>\n",
       "      <td>0.1</td>\n",
       "      <td>52.1</td>\n",
       "      <td>2021-03-07</td>\n",
       "      <td>0.0</td>\n",
       "      <td>32.2</td>\n",
       "      <td>28.91</td>\n",
       "      <td>0.00</td>\n",
       "      <td>-114.62500</td>\n",
       "      <td>67.3</td>\n",
       "      <td>81.0</td>\n",
       "      <td>9.9</td>\n",
       "      <td>8.1</td>\n",
       "      <td>Sky Coverage Decreasing, Sky Unchanged</td>\n",
       "      <td>0.00</td>\n",
       "      <td>1012.9</td>\n",
       "      <td>0.0</td>\n",
       "      <td>NaN</td>\n",
       "      <td>Clear</td>\n",
       "    </tr>\n",
       "    <tr>\n",
       "      <th>613666</th>\n",
       "      <td>Yuma</td>\n",
       "      <td>AZ</td>\n",
       "      <td>172.41</td>\n",
       "      <td>32.68550</td>\n",
       "      <td>0.0</td>\n",
       "      <td>47.0</td>\n",
       "      <td>2021-03-14</td>\n",
       "      <td>0.0</td>\n",
       "      <td>35.9</td>\n",
       "      <td>46.95</td>\n",
       "      <td>0.00</td>\n",
       "      <td>-114.62500</td>\n",
       "      <td>59.7</td>\n",
       "      <td>74.0</td>\n",
       "      <td>9.9</td>\n",
       "      <td>13.8</td>\n",
       "      <td>NaN</td>\n",
       "      <td>0.00</td>\n",
       "      <td>1019.0</td>\n",
       "      <td>0.0</td>\n",
       "      <td>NaN</td>\n",
       "      <td>Clear</td>\n",
       "    </tr>\n",
       "    <tr>\n",
       "      <th>613669</th>\n",
       "      <td>Yuma</td>\n",
       "      <td>AZ</td>\n",
       "      <td>126.25</td>\n",
       "      <td>32.68550</td>\n",
       "      <td>17.4</td>\n",
       "      <td>47.9</td>\n",
       "      <td>2021-03-17</td>\n",
       "      <td>0.0</td>\n",
       "      <td>32.1</td>\n",
       "      <td>38.86</td>\n",
       "      <td>0.00</td>\n",
       "      <td>-114.62500</td>\n",
       "      <td>60.5</td>\n",
       "      <td>74.0</td>\n",
       "      <td>7.9</td>\n",
       "      <td>6.9</td>\n",
       "      <td>NaN</td>\n",
       "      <td>0.00</td>\n",
       "      <td>1018.2</td>\n",
       "      <td>0.0</td>\n",
       "      <td>NaN</td>\n",
       "      <td>Clear</td>\n",
       "    </tr>\n",
       "  </tbody>\n",
       "</table>\n",
       "<p>178938 rows × 22 columns</p>\n",
       "</div>"
      ],
      "text/plain": [
       "         City State  Wind Direction  Latitude  Cloud Cover (%)  \\\n",
       "1       Akron    OH          180.46  41.08431             10.3   \n",
       "2       Akron    OH           84.79  41.08431             82.1   \n",
       "13      Akron    OH          244.83  41.08431             60.6   \n",
       "14      Akron    OH          147.71  41.08431             78.7   \n",
       "15      Akron    OH          143.00  41.08431              6.5   \n",
       "...       ...   ...             ...       ...              ...   \n",
       "613657   Yuma    AZ          260.62  32.68550              0.0   \n",
       "613658   Yuma    AZ          189.45  32.68550              0.0   \n",
       "613659   Yuma    AZ          133.76  32.68550              0.1   \n",
       "613666   Yuma    AZ          172.41  32.68550              0.0   \n",
       "613669   Yuma    AZ          126.25  32.68550             17.4   \n",
       "\n",
       "        Minimum Temperature (degF)  Date time  Precipitation (in)  \\\n",
       "1                             23.2 2017-01-01                 0.0   \n",
       "2                             33.0 2017-01-02                 0.0   \n",
       "13                            25.1 2017-01-13                 0.0   \n",
       "14                            25.9 2017-01-14                 0.0   \n",
       "15                            20.9 2017-01-15                 0.0   \n",
       "...                            ...        ...                 ...   \n",
       "613657                        51.0 2021-03-05                 0.0   \n",
       "613658                        52.6 2021-03-06                 0.0   \n",
       "613659                        52.1 2021-03-07                 0.0   \n",
       "613666                        47.0 2021-03-14                 0.0   \n",
       "613669                        47.9 2021-03-17                 0.0   \n",
       "\n",
       "        Dew Point (degF)  Relative Humidity (%)  Precipitation Cover (%)  \\\n",
       "1                   23.3                  66.47                     0.00   \n",
       "2                   37.6                  85.22                    16.67   \n",
       "13                  19.9                  66.90                     0.00   \n",
       "14                  20.1                  65.03                     0.00   \n",
       "15                  21.0                  75.33                     0.00   \n",
       "...                  ...                    ...                      ...   \n",
       "613657              33.5                  33.18                     0.00   \n",
       "613658              30.4                  26.32                     0.00   \n",
       "613659              32.2                  28.91                     0.00   \n",
       "613666              35.9                  46.95                     0.00   \n",
       "613669              32.1                  38.86                     0.00   \n",
       "\n",
       "        Longitude  Temperature (degF)  Maximum Temperature (degF)  \\\n",
       "1       -81.51431                33.7                        42.2   \n",
       "2       -81.51431                41.8                        47.8   \n",
       "13      -81.51431                29.7                        34.0   \n",
       "14      -81.51431                30.5                        35.0   \n",
       "15      -81.51431                28.1                        36.6   \n",
       "...           ...                 ...                         ...   \n",
       "613657 -114.62500                65.7                        80.9   \n",
       "613658 -114.62500                68.1                        81.0   \n",
       "613659 -114.62500                67.3                        81.0   \n",
       "613666 -114.62500                59.7                        74.0   \n",
       "613669 -114.62500                60.5                        74.0   \n",
       "\n",
       "        Visibility (mi)  Wind Speed (mph)  \\\n",
       "1                   9.5              10.5   \n",
       "2                   3.4               7.3   \n",
       "13                  9.9              12.7   \n",
       "14                  9.9               7.9   \n",
       "15                  7.2               7.8   \n",
       "...                 ...               ...   \n",
       "613657              7.8               9.1   \n",
       "613658              9.9               7.5   \n",
       "613659              9.9               8.1   \n",
       "613666              9.9              13.8   \n",
       "613669              7.9               6.9   \n",
       "\n",
       "                                      Weather Type  Snow Depth (in)  \\\n",
       "1                                             Mist             0.41   \n",
       "2       Mist, Light Drizzle, Rain, Fog, Light Rain             0.00   \n",
       "13                                             NaN             0.00   \n",
       "14                                      Light Snow             0.00   \n",
       "15                             Mist, Smoke Or Haze             0.00   \n",
       "...                                            ...              ...   \n",
       "613657                                         NaN             0.00   \n",
       "613658                                         NaN             0.00   \n",
       "613659      Sky Coverage Decreasing, Sky Unchanged             0.00   \n",
       "613666                                         NaN             0.00   \n",
       "613669                                         NaN             0.00   \n",
       "\n",
       "        Sea Level Pressure (mb)  Snow (in)  Wind Gust (mph)        Conditions  \n",
       "1                        1020.8        0.0              NaN             Clear  \n",
       "2                        1020.3        0.0              NaN          Overcast  \n",
       "13                       1036.9        0.0              NaN  Partially cloudy  \n",
       "14                       1032.0        0.0              NaN          Overcast  \n",
       "15                       1029.8        0.0              NaN             Clear  \n",
       "...                         ...        ...              ...               ...  \n",
       "613657                   1017.5        0.0              NaN             Clear  \n",
       "613658                   1011.4        0.0              NaN             Clear  \n",
       "613659                   1012.9        0.0              NaN             Clear  \n",
       "613666                   1019.0        0.0              NaN             Clear  \n",
       "613669                   1018.2        0.0              NaN             Clear  \n",
       "\n",
       "[178938 rows x 22 columns]"
      ]
     },
     "execution_count": 46,
     "metadata": {},
     "output_type": "execute_result"
    }
   ],
   "source": [
    "data[data['Wind Gust (mph)'].isna()]"
   ]
  },
  {
   "cell_type": "code",
   "execution_count": 47,
   "id": "surgical-wednesday",
   "metadata": {},
   "outputs": [
    {
     "data": {
      "text/plain": [
       "2      NaN\n",
       "3     29.8\n",
       "4     39.6\n",
       "5     24.2\n",
       "6     17.2\n",
       "7     21.9\n",
       "8     29.8\n",
       "9     19.7\n",
       "10    49.7\n",
       "11    46.3\n",
       "12    35.9\n",
       "13     NaN\n",
       "14     NaN\n",
       "15     NaN\n",
       "16     NaN\n",
       "17    28.6\n",
       "18    24.2\n",
       "19     NaN\n",
       "20     NaN\n",
       "21     NaN\n",
       "22     NaN\n",
       "23    20.8\n",
       "24    21.9\n",
       "25    26.3\n",
       "26    32.4\n",
       "27    29.3\n",
       "28    32.2\n",
       "29     NaN\n",
       "30    23.0\n",
       "Name: Wind Gust (mph), dtype: float64"
      ]
     },
     "execution_count": 47,
     "metadata": {},
     "output_type": "execute_result"
    }
   ],
   "source": [
    "data['Wind Gust (mph)'][1:30]"
   ]
  },
  {
   "cell_type": "code",
   "execution_count": 48,
   "id": "threatened-perth",
   "metadata": {},
   "outputs": [
    {
     "name": "stdout",
     "output_type": "stream",
     "text": [
      "Wind Gust Mean 26.611107552783167\n",
      "Wind Gust Median 25.3\n",
      "Wind Gust Mode 0    20.8\n",
      "dtype: float64\n"
     ]
    }
   ],
   "source": [
    "print(\"Wind Gust Mean\", data['Wind Gust (mph)'].mean())\n",
    "print(\"Wind Gust Median\",data['Wind Gust (mph)'].median())\n",
    "print(\"Wind Gust Mode\", data['Wind Gust (mph)'].mode())"
   ]
  },
  {
   "cell_type": "code",
   "execution_count": 49,
   "id": "similar-declaration",
   "metadata": {},
   "outputs": [
    {
     "name": "stdout",
     "output_type": "stream",
     "text": [
      "(1537, 22)\n",
      "Mean 26.42046511627907\n",
      "Median 25.0\n",
      "Mean January 2017 29.094736842105267\n"
     ]
    }
   ],
   "source": [
    "akron = data[(data['City'] == \"Akron\")]\n",
    "print(akron.shape)\n",
    "print(\"Mean\",akron['Wind Gust (mph)'].mean())\n",
    "print(\"Median\", akron['Wind Gust (mph)'].median())\n",
    "print(\"Mean January 2017\",akron[(akron['Date time'] >= '01/01/2017') & (akron['Date time'] <= '01/30/2017')]['Wind Gust (mph)'].mean())"
   ]
  },
  {
   "cell_type": "code",
   "execution_count": 50,
   "id": "persistent-shooting",
   "metadata": {},
   "outputs": [
    {
     "name": "stdout",
     "output_type": "stream",
     "text": [
      "(1536, 22)\n",
      "Mean 25.056551204819275\n",
      "Median 24.2\n",
      "Mean January 2017 25.15925925925926\n"
     ]
    }
   ],
   "source": [
    "miami = data[(data['City'] == \"Miami\")]\n",
    "print(miami.shape)\n",
    "print(\"Mean\",miami['Wind Gust (mph)'].mean())\n",
    "print(\"Median\", miami['Wind Gust (mph)'].median())\n",
    "print(\"Mean January 2017\",miami[(miami['Date time'] >= '1/01/2017') & (miami['Date time'] <= '1/30/2017')]['Wind Gust (mph)'].mean())"
   ]
  },
  {
   "cell_type": "code",
   "execution_count": 51,
   "id": "exposed-business",
   "metadata": {},
   "outputs": [
    {
     "name": "stdout",
     "output_type": "stream",
     "text": [
      "(1536, 22)\n",
      "Mean 22.920520673813172\n",
      "Median 20.8\n",
      "Mean January 2017 30.06666666666667\n"
     ]
    }
   ],
   "source": [
    "la = data[(data['City'] == \"Los Angeles\")]\n",
    "print(la.shape)\n",
    "print(\"Mean\",la['Wind Gust (mph)'].mean())\n",
    "print(\"Median\", la['Wind Gust (mph)'].median())\n",
    "print(\"Mean January 2017\",la[(la['Date time'] >= '1/01/2017') & (la['Date time'] <= '1/30/2017')]['Wind Gust (mph)'].mean())"
   ]
  },
  {
   "cell_type": "code",
   "execution_count": 52,
   "id": "liked-nirvana",
   "metadata": {},
   "outputs": [
    {
     "name": "stdout",
     "output_type": "stream",
     "text": [
      "(1536, 22)\n",
      "Mean 36.52512491077801\n",
      "Median 36.7\n",
      "Mean January 2017 37.71923076923077\n"
     ]
    }
   ],
   "source": [
    "ny = data[(data['City'] == \"New York\")]\n",
    "print(ny.shape)\n",
    "print(\"Mean\",ny['Wind Gust (mph)'].mean())\n",
    "print(\"Median\", ny['Wind Gust (mph)'].median())\n",
    "print(\"Mean January 2017\",ny[(ny['Date time'] >= '1/01/2017') & (ny['Date time'] <= '1/30/2017')]['Wind Gust (mph)'].mean())"
   ]
  },
  {
   "cell_type": "code",
   "execution_count": 53,
   "id": "indian-screening",
   "metadata": {},
   "outputs": [
    {
     "name": "stdout",
     "output_type": "stream",
     "text": [
      "(1536, 22)\n",
      "Mean 27.943996840442342\n",
      "Median 26.8\n",
      "Mean January 2017 27.02142857142857\n"
     ]
    }
   ],
   "source": [
    "chicago = data[(data['City'] == \"Chicago\")]\n",
    "print(chicago.shape)\n",
    "print(\"Mean\",chicago['Wind Gust (mph)'].mean())\n",
    "print(\"Median\", chicago['Wind Gust (mph)'].median())\n",
    "print(\"Mean January 2017\",chicago[(chicago['Date time'] >= '1/01/2019') & (chicago['Date time'] <= '1/30/2019')]['Wind Gust (mph)'].mean())"
   ]
  },
  {
   "cell_type": "code",
   "execution_count": 54,
   "id": "standard-synthesis",
   "metadata": {},
   "outputs": [
    {
     "name": "stdout",
     "output_type": "stream",
     "text": [
      "(1536, 22)\n",
      "Mean 26.21387234042553\n",
      "Median 24.6\n",
      "Mean January 2017 26.652631578947368\n"
     ]
    }
   ],
   "source": [
    "detroit = data[(data['City'] == \"Detroit\")]\n",
    "print(detroit.shape)\n",
    "print(\"Mean\",detroit['Wind Gust (mph)'].mean())\n",
    "print(\"Median\", detroit['Wind Gust (mph)'].median())\n",
    "print(\"Mean January 2017\",detroit[(detroit['Date time'] >= '1/01/2017') & (detroit['Date time'] <= '1/30/2017')]['Wind Gust (mph)'].mean())"
   ]
  },
  {
   "cell_type": "markdown",
   "id": "unlike-giant",
   "metadata": {},
   "source": [
    "### Filling missing values for Wind Gust "
   ]
  },
  {
   "cell_type": "code",
   "execution_count": 55,
   "id": "measured-brand",
   "metadata": {},
   "outputs": [],
   "source": [
    "# fill missing values for 'Wind Gust' feature with the city's average Wind Gust. \n",
    "# I decided to fill in with the city's average and not based on the season because it's not dependent on it.\n",
    "\n",
    "data['Wind Gust (mph)'] = data['Wind Gust (mph)'].fillna(data.groupby('City')['Wind Gust (mph)'].transform('mean'))"
   ]
  },
  {
   "cell_type": "code",
   "execution_count": 56,
   "id": "nearby-gambling",
   "metadata": {},
   "outputs": [
    {
     "data": {
      "text/plain": [
       "City                               0\n",
       "State                              0\n",
       "Wind Direction                     0\n",
       "Latitude                           0\n",
       "Cloud Cover (%)                    0\n",
       "Minimum Temperature (degF)         0\n",
       "Date time                          0\n",
       "Precipitation (in)                 0\n",
       "Dew Point (degF)                   0\n",
       "Relative Humidity (%)              0\n",
       "Precipitation Cover (%)            0\n",
       "Longitude                          0\n",
       "Temperature (degF)                 0\n",
       "Maximum Temperature (degF)         0\n",
       "Visibility (mi)                    0\n",
       "Wind Speed (mph)                   0\n",
       "Weather Type                  214362\n",
       "Snow Depth (in)                    0\n",
       "Sea Level Pressure (mb)         3331\n",
       "Snow (in)                          0\n",
       "Wind Gust (mph)                    0\n",
       "Conditions                         0\n",
       "dtype: int64"
      ]
     },
     "execution_count": 56,
     "metadata": {},
     "output_type": "execute_result"
    }
   ],
   "source": [
    "data.isnull().sum()"
   ]
  },
  {
   "cell_type": "code",
   "execution_count": 57,
   "id": "european-romania",
   "metadata": {},
   "outputs": [
    {
     "name": "stderr",
     "output_type": "stream",
     "text": [
      "C:\\Users\\tigju\\Anaconda3\\envs\\datascience\\lib\\site-packages\\seaborn\\distributions.py:2551: FutureWarning: `distplot` is a deprecated function and will be removed in a future version. Please adapt your code to use either `displot` (a figure-level function with similar flexibility) or `histplot` (an axes-level function for histograms).\n",
      "  warnings.warn(msg, FutureWarning)\n"
     ]
    },
    {
     "data": {
      "text/plain": [
       "<AxesSubplot:xlabel='Sea Level Pressure (mb)', ylabel='Density'>"
      ]
     },
     "execution_count": 57,
     "metadata": {},
     "output_type": "execute_result"
    },
    {
     "data": {
      "image/png": "[encoded data removed]",
      "text/plain": [
       "<Figure size 432x288 with 1 Axes>"
      ]
     },
     "metadata": {},
     "output_type": "display_data"
    }
   ],
   "source": [
    "# normally distributed. Fill nan values with average\n",
    "sns.distplot(data['Sea Level Pressure (mb)'])"
   ]
  },
  {
   "cell_type": "code",
   "execution_count": 58,
   "id": "continuous-value",
   "metadata": {},
   "outputs": [
    {
     "name": "stdout",
     "output_type": "stream",
     "text": [
      "1016.8377960532281\n",
      "1016.5\n"
     ]
    }
   ],
   "source": [
    "print(data['Sea Level Pressure (mb)'].mean())\n",
    "print(data['Sea Level Pressure (mb)'].median())"
   ]
  },
  {
   "cell_type": "code",
   "execution_count": 59,
   "id": "quarterly-minneapolis",
   "metadata": {},
   "outputs": [],
   "source": [
    "data['Sea Level Pressure (mb)'] = data['Sea Level Pressure (mb)'].fillna(data['Sea Level Pressure (mb)'].mean())"
   ]
  },
  {
   "cell_type": "code",
   "execution_count": 60,
   "id": "decreased-humanitarian",
   "metadata": {},
   "outputs": [
    {
     "data": {
      "text/plain": [
       "City                               0\n",
       "State                              0\n",
       "Wind Direction                     0\n",
       "Latitude                           0\n",
       "Cloud Cover (%)                    0\n",
       "Minimum Temperature (degF)         0\n",
       "Date time                          0\n",
       "Precipitation (in)                 0\n",
       "Dew Point (degF)                   0\n",
       "Relative Humidity (%)              0\n",
       "Precipitation Cover (%)            0\n",
       "Longitude                          0\n",
       "Temperature (degF)                 0\n",
       "Maximum Temperature (degF)         0\n",
       "Visibility (mi)                    0\n",
       "Wind Speed (mph)                   0\n",
       "Weather Type                  214362\n",
       "Snow Depth (in)                    0\n",
       "Sea Level Pressure (mb)            0\n",
       "Snow (in)                          0\n",
       "Wind Gust (mph)                    0\n",
       "Conditions                         0\n",
       "dtype: int64"
      ]
     },
     "execution_count": 60,
     "metadata": {},
     "output_type": "execute_result"
    }
   ],
   "source": [
    "data.isnull().sum()"
   ]
  },
  {
   "cell_type": "code",
   "execution_count": 61,
   "id": "sticky-council",
   "metadata": {},
   "outputs": [
    {
     "data": {
      "text/plain": [
       "5835"
      ]
     },
     "execution_count": 61,
     "metadata": {},
     "output_type": "execute_result"
    }
   ],
   "source": [
    "len(data['Weather Type'].unique())"
   ]
  },
  {
   "cell_type": "code",
   "execution_count": 62,
   "id": "scheduled-while",
   "metadata": {},
   "outputs": [],
   "source": [
    "data = data.drop(columns=['Weather Type'])"
   ]
  },
  {
   "cell_type": "code",
   "execution_count": 63,
   "id": "compressed-words",
   "metadata": {},
   "outputs": [
    {
     "data": {
      "text/plain": [
       "City                          0\n",
       "State                         0\n",
       "Wind Direction                0\n",
       "Latitude                      0\n",
       "Cloud Cover (%)               0\n",
       "Minimum Temperature (degF)    0\n",
       "Date time                     0\n",
       "Precipitation (in)            0\n",
       "Dew Point (degF)              0\n",
       "Relative Humidity (%)         0\n",
       "Precipitation Cover (%)       0\n",
       "Longitude                     0\n",
       "Temperature (degF)            0\n",
       "Maximum Temperature (degF)    0\n",
       "Visibility (mi)               0\n",
       "Wind Speed (mph)              0\n",
       "Snow Depth (in)               0\n",
       "Sea Level Pressure (mb)       0\n",
       "Snow (in)                     0\n",
       "Wind Gust (mph)               0\n",
       "Conditions                    0\n",
       "dtype: int64"
      ]
     },
     "execution_count": 63,
     "metadata": {},
     "output_type": "execute_result"
    }
   ],
   "source": [
    "data.isnull().sum()"
   ]
  },
  {
   "cell_type": "code",
   "execution_count": 64,
   "id": "alien-grenada",
   "metadata": {},
   "outputs": [
    {
     "data": {
      "text/plain": [
       "464672   2017-01-01\n",
       "464673   2017-01-02\n",
       "464674   2017-01-03\n",
       "464675   2017-01-04\n",
       "464676   2017-01-05\n",
       "            ...    \n",
       "466203   2021-03-12\n",
       "466204   2021-03-13\n",
       "466205   2021-03-14\n",
       "466206   2021-03-15\n",
       "466207   2021-03-16\n",
       "Name: Date time, Length: 1536, dtype: datetime64[ns]"
      ]
     },
     "execution_count": 64,
     "metadata": {},
     "output_type": "execute_result"
    }
   ],
   "source": [
    "data[data['City'] == 'Sacramento']['Date time']"
   ]
  },
  {
   "cell_type": "code",
   "execution_count": 65,
   "id": "communist-flight",
   "metadata": {},
   "outputs": [
    {
     "data": {
      "text/plain": [
       "2021-03-17     61\n",
       "2021-02-20    396\n",
       "2017-11-26    397\n",
       "2018-01-16    397\n",
       "2020-09-13    397\n",
       "2019-07-11    397\n",
       "2018-05-07    397\n",
       "2017-03-03    397\n",
       "2021-01-02    397\n",
       "2017-03-17    397\n",
       "Name: Date time, dtype: int64"
      ]
     },
     "execution_count": 65,
     "metadata": {},
     "output_type": "execute_result"
    }
   ],
   "source": [
    "data['Date time'].value_counts().sort_values(ascending=True)[:10]"
   ]
  },
  {
   "cell_type": "code",
   "execution_count": 66,
   "id": "civilian-welcome",
   "metadata": {},
   "outputs": [],
   "source": [
    "# remove 2021-03-17 (only for a few cities)\n",
    "data = data[~(data['Date time'] == '2021-03-17')]"
   ]
  },
  {
   "cell_type": "code",
   "execution_count": 67,
   "id": "tamil-lounge",
   "metadata": {},
   "outputs": [
    {
     "data": {
      "text/plain": [
       "2020-02-04    397\n",
       "2020-11-27    397\n",
       "2017-12-25    397\n",
       "2020-05-03    397\n",
       "2018-09-18    397\n",
       "             ... \n",
       "2020-08-19    397\n",
       "2017-11-26    397\n",
       "2019-01-30    397\n",
       "2018-07-17    397\n",
       "2021-02-20    396\n",
       "Name: Date time, Length: 1536, dtype: int64"
      ]
     },
     "execution_count": 67,
     "metadata": {},
     "output_type": "execute_result"
    }
   ],
   "source": [
    "data['Date time'].value_counts()"
   ]
  },
  {
   "cell_type": "markdown",
   "id": "general-testing",
   "metadata": {},
   "source": [
    "## Encoding and Scaling categorical features"
   ]
  },
  {
   "cell_type": "code",
   "execution_count": 68,
   "id": "ranging-cocktail",
   "metadata": {},
   "outputs": [
    {
     "name": "stderr",
     "output_type": "stream",
     "text": [
      "C:\\Users\\tigju\\Anaconda3\\envs\\datascience\\lib\\site-packages\\ipykernel_launcher.py:1: FutureWarning: Treating datetime data as categorical rather than numeric in `.describe` is deprecated and will be removed in a future version of pandas. Specify `datetime_is_numeric=True` to silence this warning and adopt the future behavior now.\n",
      "  \"\"\"Entry point for launching an IPython kernel.\n"
     ]
    },
    {
     "data": {
      "text/html": [
       "<div>\n",
       "<style scoped>\n",
       "    .dataframe tbody tr th:only-of-type {\n",
       "        vertical-align: middle;\n",
       "    }\n",
       "\n",
       "    .dataframe tbody tr th {\n",
       "        vertical-align: top;\n",
       "    }\n",
       "\n",
       "    .dataframe thead th {\n",
       "        text-align: right;\n",
       "    }\n",
       "</style>\n",
       "<table border=\"1\" class=\"dataframe\">\n",
       "  <thead>\n",
       "    <tr style=\"text-align: right;\">\n",
       "      <th></th>\n",
       "      <th>City</th>\n",
       "      <th>State</th>\n",
       "      <th>Date time</th>\n",
       "      <th>Conditions</th>\n",
       "    </tr>\n",
       "  </thead>\n",
       "  <tbody>\n",
       "    <tr>\n",
       "      <th>count</th>\n",
       "      <td>609791</td>\n",
       "      <td>609791</td>\n",
       "      <td>609791</td>\n",
       "      <td>609791</td>\n",
       "    </tr>\n",
       "    <tr>\n",
       "      <th>unique</th>\n",
       "      <td>376</td>\n",
       "      <td>49</td>\n",
       "      <td>1536</td>\n",
       "      <td>9</td>\n",
       "    </tr>\n",
       "    <tr>\n",
       "      <th>top</th>\n",
       "      <td>Springfield</td>\n",
       "      <td>CA</td>\n",
       "      <td>2020-02-04 00:00:00</td>\n",
       "      <td>Clear</td>\n",
       "    </tr>\n",
       "    <tr>\n",
       "      <th>freq</th>\n",
       "      <td>6144</td>\n",
       "      <td>61440</td>\n",
       "      <td>397</td>\n",
       "      <td>206892</td>\n",
       "    </tr>\n",
       "    <tr>\n",
       "      <th>first</th>\n",
       "      <td>NaN</td>\n",
       "      <td>NaN</td>\n",
       "      <td>2017-01-01 00:00:00</td>\n",
       "      <td>NaN</td>\n",
       "    </tr>\n",
       "    <tr>\n",
       "      <th>last</th>\n",
       "      <td>NaN</td>\n",
       "      <td>NaN</td>\n",
       "      <td>2021-03-16 00:00:00</td>\n",
       "      <td>NaN</td>\n",
       "    </tr>\n",
       "  </tbody>\n",
       "</table>\n",
       "</div>"
      ],
      "text/plain": [
       "               City   State            Date time Conditions\n",
       "count        609791  609791               609791     609791\n",
       "unique          376      49                 1536          9\n",
       "top     Springfield      CA  2020-02-04 00:00:00      Clear\n",
       "freq           6144   61440                  397     206892\n",
       "first           NaN     NaN  2017-01-01 00:00:00        NaN\n",
       "last            NaN     NaN  2021-03-16 00:00:00        NaN"
      ]
     },
     "execution_count": 68,
     "metadata": {},
     "output_type": "execute_result"
    }
   ],
   "source": [
    "data.describe(exclude='number')"
   ]
  },
  {
   "cell_type": "code",
   "execution_count": 69,
   "id": "painful-circumstances",
   "metadata": {},
   "outputs": [],
   "source": [
    "from sklearn.preprocessing import OrdinalEncoder\n",
    "enc = OrdinalEncoder(dtype=np.int64)"
   ]
  },
  {
   "cell_type": "code",
   "execution_count": 70,
   "id": "controlled-hormone",
   "metadata": {},
   "outputs": [],
   "source": [
    "encoded_city = enc.fit_transform(data['City'].values.reshape(-1,1))\n",
    "encoded_state = enc.fit_transform(data['State'].values.reshape(-1,1))\n",
    "encoded_conditions = enc.fit_transform(data['Conditions'].values.reshape(-1,1))"
   ]
  },
  {
   "cell_type": "code",
   "execution_count": 71,
   "id": "sustained-general",
   "metadata": {},
   "outputs": [
    {
     "data": {
      "text/plain": [
       "array([[0],\n",
       "       [1],\n",
       "       [4],\n",
       "       ...,\n",
       "       [0],\n",
       "       [2],\n",
       "       [0]], dtype=int64)"
      ]
     },
     "execution_count": 71,
     "metadata": {},
     "output_type": "execute_result"
    }
   ],
   "source": [
    "encoded_conditions"
   ]
  },
  {
   "cell_type": "code",
   "execution_count": 72,
   "id": "rational-paraguay",
   "metadata": {},
   "outputs": [],
   "source": [
    "# make a copy of data and encode categorical features + date feature, scale date deature\n",
    "new_df = data.copy()\n",
    "new_df['City'] = encoded_city\n",
    "new_df['State'] = encoded_state\n",
    "new_df['Conditions'] = encoded_conditions\n",
    "\n",
    "# For linear regression convert date to ordinal\n",
    "import datetime as dt\n",
    "new_df['Date time'] = new_df['Date time'].map(dt.datetime.toordinal)\n",
    "\n",
    "# scale time\n",
    "from sklearn.preprocessing import StandardScaler\n",
    "scaler = StandardScaler()\n",
    "scaled = scaler.fit_transform(new_df['Date time'].values.reshape(-1, 1))\n",
    "new_df['Date time'] = scaled"
   ]
  },
  {
   "cell_type": "markdown",
   "id": "japanese-savings",
   "metadata": {},
   "source": [
    "## Logistic regression is a base line (per each city)"
   ]
  },
  {
   "cell_type": "code",
   "execution_count": 73,
   "id": "occasional-plumbing",
   "metadata": {},
   "outputs": [
    {
     "data": {
      "text/html": [
       "<div>\n",
       "<style scoped>\n",
       "    .dataframe tbody tr th:only-of-type {\n",
       "        vertical-align: middle;\n",
       "    }\n",
       "\n",
       "    .dataframe tbody tr th {\n",
       "        vertical-align: top;\n",
       "    }\n",
       "\n",
       "    .dataframe thead th {\n",
       "        text-align: right;\n",
       "    }\n",
       "</style>\n",
       "<table border=\"1\" class=\"dataframe\">\n",
       "  <thead>\n",
       "    <tr style=\"text-align: right;\">\n",
       "      <th></th>\n",
       "      <th>City</th>\n",
       "      <th>State</th>\n",
       "      <th>Wind Direction</th>\n",
       "      <th>Latitude</th>\n",
       "      <th>Cloud Cover (%)</th>\n",
       "      <th>Minimum Temperature (degF)</th>\n",
       "      <th>Date time</th>\n",
       "      <th>Precipitation (in)</th>\n",
       "      <th>Dew Point (degF)</th>\n",
       "      <th>Relative Humidity (%)</th>\n",
       "      <th>Precipitation Cover (%)</th>\n",
       "      <th>Longitude</th>\n",
       "      <th>Temperature (degF)</th>\n",
       "      <th>Maximum Temperature (degF)</th>\n",
       "      <th>Visibility (mi)</th>\n",
       "      <th>Wind Speed (mph)</th>\n",
       "      <th>Snow Depth (in)</th>\n",
       "      <th>Sea Level Pressure (mb)</th>\n",
       "      <th>Snow (in)</th>\n",
       "      <th>Wind Gust (mph)</th>\n",
       "      <th>Conditions</th>\n",
       "    </tr>\n",
       "  </thead>\n",
       "  <tbody>\n",
       "    <tr>\n",
       "      <th>1</th>\n",
       "      <td>0</td>\n",
       "      <td>34</td>\n",
       "      <td>180.46</td>\n",
       "      <td>41.08431</td>\n",
       "      <td>10.3</td>\n",
       "      <td>23.2</td>\n",
       "      <td>-1.730923</td>\n",
       "      <td>0.00</td>\n",
       "      <td>23.3</td>\n",
       "      <td>66.47</td>\n",
       "      <td>0.00</td>\n",
       "      <td>-81.51431</td>\n",
       "      <td>33.7</td>\n",
       "      <td>42.2</td>\n",
       "      <td>9.5</td>\n",
       "      <td>10.5</td>\n",
       "      <td>0.41</td>\n",
       "      <td>1020.8</td>\n",
       "      <td>0.00</td>\n",
       "      <td>26.420465</td>\n",
       "      <td>0</td>\n",
       "    </tr>\n",
       "    <tr>\n",
       "      <th>2</th>\n",
       "      <td>0</td>\n",
       "      <td>34</td>\n",
       "      <td>84.79</td>\n",
       "      <td>41.08431</td>\n",
       "      <td>82.1</td>\n",
       "      <td>33.0</td>\n",
       "      <td>-1.728668</td>\n",
       "      <td>0.00</td>\n",
       "      <td>37.6</td>\n",
       "      <td>85.22</td>\n",
       "      <td>16.67</td>\n",
       "      <td>-81.51431</td>\n",
       "      <td>41.8</td>\n",
       "      <td>47.8</td>\n",
       "      <td>3.4</td>\n",
       "      <td>7.3</td>\n",
       "      <td>0.00</td>\n",
       "      <td>1020.3</td>\n",
       "      <td>0.00</td>\n",
       "      <td>26.420465</td>\n",
       "      <td>1</td>\n",
       "    </tr>\n",
       "    <tr>\n",
       "      <th>3</th>\n",
       "      <td>0</td>\n",
       "      <td>34</td>\n",
       "      <td>179.42</td>\n",
       "      <td>41.08431</td>\n",
       "      <td>90.3</td>\n",
       "      <td>42.0</td>\n",
       "      <td>-1.726413</td>\n",
       "      <td>0.37</td>\n",
       "      <td>43.6</td>\n",
       "      <td>90.06</td>\n",
       "      <td>66.67</td>\n",
       "      <td>-81.51431</td>\n",
       "      <td>46.3</td>\n",
       "      <td>48.8</td>\n",
       "      <td>5.0</td>\n",
       "      <td>13.1</td>\n",
       "      <td>0.00</td>\n",
       "      <td>1005.3</td>\n",
       "      <td>0.00</td>\n",
       "      <td>29.800000</td>\n",
       "      <td>4</td>\n",
       "    </tr>\n",
       "    <tr>\n",
       "      <th>4</th>\n",
       "      <td>0</td>\n",
       "      <td>34</td>\n",
       "      <td>275.25</td>\n",
       "      <td>41.08431</td>\n",
       "      <td>95.8</td>\n",
       "      <td>20.8</td>\n",
       "      <td>-1.724158</td>\n",
       "      <td>0.02</td>\n",
       "      <td>20.8</td>\n",
       "      <td>68.33</td>\n",
       "      <td>20.83</td>\n",
       "      <td>-81.51431</td>\n",
       "      <td>30.2</td>\n",
       "      <td>43.0</td>\n",
       "      <td>8.6</td>\n",
       "      <td>31.5</td>\n",
       "      <td>0.00</td>\n",
       "      <td>1008.3</td>\n",
       "      <td>0.00</td>\n",
       "      <td>39.600000</td>\n",
       "      <td>4</td>\n",
       "    </tr>\n",
       "    <tr>\n",
       "      <th>5</th>\n",
       "      <td>0</td>\n",
       "      <td>34</td>\n",
       "      <td>257.54</td>\n",
       "      <td>41.08431</td>\n",
       "      <td>74.0</td>\n",
       "      <td>12.6</td>\n",
       "      <td>-1.721902</td>\n",
       "      <td>0.02</td>\n",
       "      <td>10.7</td>\n",
       "      <td>71.11</td>\n",
       "      <td>37.50</td>\n",
       "      <td>-81.51431</td>\n",
       "      <td>18.5</td>\n",
       "      <td>20.8</td>\n",
       "      <td>5.2</td>\n",
       "      <td>15.1</td>\n",
       "      <td>1.02</td>\n",
       "      <td>1015.0</td>\n",
       "      <td>1.02</td>\n",
       "      <td>24.200000</td>\n",
       "      <td>8</td>\n",
       "    </tr>\n",
       "  </tbody>\n",
       "</table>\n",
       "</div>"
      ],
      "text/plain": [
       "   City  State  Wind Direction  Latitude  Cloud Cover (%)  \\\n",
       "1     0     34          180.46  41.08431             10.3   \n",
       "2     0     34           84.79  41.08431             82.1   \n",
       "3     0     34          179.42  41.08431             90.3   \n",
       "4     0     34          275.25  41.08431             95.8   \n",
       "5     0     34          257.54  41.08431             74.0   \n",
       "\n",
       "   Minimum Temperature (degF)  Date time  Precipitation (in)  \\\n",
       "1                        23.2  -1.730923                0.00   \n",
       "2                        33.0  -1.728668                0.00   \n",
       "3                        42.0  -1.726413                0.37   \n",
       "4                        20.8  -1.724158                0.02   \n",
       "5                        12.6  -1.721902                0.02   \n",
       "\n",
       "   Dew Point (degF)  Relative Humidity (%)  Precipitation Cover (%)  \\\n",
       "1              23.3                  66.47                     0.00   \n",
       "2              37.6                  85.22                    16.67   \n",
       "3              43.6                  90.06                    66.67   \n",
       "4              20.8                  68.33                    20.83   \n",
       "5              10.7                  71.11                    37.50   \n",
       "\n",
       "   Longitude  Temperature (degF)  Maximum Temperature (degF)  Visibility (mi)  \\\n",
       "1  -81.51431                33.7                        42.2              9.5   \n",
       "2  -81.51431                41.8                        47.8              3.4   \n",
       "3  -81.51431                46.3                        48.8              5.0   \n",
       "4  -81.51431                30.2                        43.0              8.6   \n",
       "5  -81.51431                18.5                        20.8              5.2   \n",
       "\n",
       "   Wind Speed (mph)  Snow Depth (in)  Sea Level Pressure (mb)  Snow (in)  \\\n",
       "1              10.5             0.41                   1020.8       0.00   \n",
       "2               7.3             0.00                   1020.3       0.00   \n",
       "3              13.1             0.00                   1005.3       0.00   \n",
       "4              31.5             0.00                   1008.3       0.00   \n",
       "5              15.1             1.02                   1015.0       1.02   \n",
       "\n",
       "   Wind Gust (mph)  Conditions  \n",
       "1        26.420465           0  \n",
       "2        26.420465           1  \n",
       "3        29.800000           4  \n",
       "4        39.600000           4  \n",
       "5        24.200000           8  "
      ]
     },
     "execution_count": 73,
     "metadata": {},
     "output_type": "execute_result"
    }
   ],
   "source": [
    "new_df.head()"
   ]
  },
  {
   "cell_type": "code",
   "execution_count": 74,
   "id": "decimal-composite",
   "metadata": {},
   "outputs": [],
   "source": [
    "# group per city\n",
    "grouped = new_df.groupby(['City','State'], as_index=False)"
   ]
  },
  {
   "cell_type": "code",
   "execution_count": 75,
   "id": "prime-pierce",
   "metadata": {},
   "outputs": [
    {
     "data": {
      "text/plain": [
       "397"
      ]
     },
     "execution_count": 75,
     "metadata": {},
     "output_type": "execute_result"
    }
   ],
   "source": [
    "len(grouped.groups)"
   ]
  },
  {
   "cell_type": "code",
   "execution_count": 76,
   "id": "medical-gather",
   "metadata": {},
   "outputs": [
    {
     "data": {
      "text/plain": [
       "((487516, 21), (122275, 21))"
      ]
     },
     "execution_count": 76,
     "metadata": {},
     "output_type": "execute_result"
    }
   ],
   "source": [
    "# train test split\n",
    "from sklearn.model_selection import train_test_split\n",
    "train = pd.DataFrame()\n",
    "test = pd.DataFrame()\n",
    "\n",
    "# split per each group where 20% of group records goes to test\n",
    "for city in grouped.groups:\n",
    "    group = grouped.get_group(city)\n",
    "    tr, ts = train_test_split(group, test_size=0.2)\n",
    "    train = pd.concat([train, tr])\n",
    "    test = pd.concat([test, ts])\n",
    "    \n",
    "train.shape, test.shape"
   ]
  },
  {
   "cell_type": "code",
   "execution_count": 77,
   "id": "removable-analysis",
   "metadata": {},
   "outputs": [],
   "source": [
    "# group within train and test datasets\n",
    "train_grouped = train.groupby(['City','State'], as_index=False)\n",
    "test_grouped = test.groupby(['City','State'], as_index=False)"
   ]
  },
  {
   "cell_type": "markdown",
   "id": "offshore-negotiation",
   "metadata": {},
   "source": [
    "### Train Logistic Regression Model"
   ]
  },
  {
   "cell_type": "code",
   "execution_count": 78,
   "id": "beneficial-memorial",
   "metadata": {},
   "outputs": [],
   "source": [
    "from sklearn.linear_model import LogisticRegression"
   ]
  },
  {
   "cell_type": "code",
   "execution_count": 82,
   "id": "premier-butterfly",
   "metadata": {},
   "outputs": [],
   "source": [
    "# create model\n",
    "logreg = LogisticRegression(max_iter=2000, n_jobs=-1, multi_class='multinomial')\n",
    "\n",
    "# create additional datasets to compare accuracy\n",
    "train_predictions = pd.DataFrame()\n",
    "train_accuracy = pd.DataFrame()\n",
    "test_predictions = pd.DataFrame()\n",
    "test_accuracy = pd.DataFrame()\n",
    "\n",
    "# loop though each city group\n",
    "for city in train_grouped.groups:\n",
    "    train_group = train_grouped.get_group(city)\n",
    "    \n",
    "    #split into X and y features for train set\n",
    "    X_train = train_group.drop(columns=['Conditions'])\n",
    "    y_train = train_group['Conditions']\n",
    "    \n",
    "    #fit model\n",
    "    logreg.fit(X_train, y_train)\n",
    "    \n",
    "    # for accuracy column to see per each city\n",
    "    city_name = train_group['City'].unique()[0]\n",
    "    state_name = train_group['State'].unique()[0]\n",
    "    \n",
    "    # concatenate score for train set per each city\n",
    "    train_score = logreg.score(X_train, y_train)\n",
    "    train_score = pd.DataFrame(data=[[city_name, state_name, train_score]], columns=['City', 'State', 'Score'])\n",
    "    train_accuracy = pd.concat([train_accuracy, train_score])\n",
    "    \n",
    "    # save predicted values\n",
    "    train_predict = logreg.predict(X_train)\n",
    "    \n",
    "    # concatenate predicted results per each city group\n",
    "    train_fr = pd.DataFrame(data=train_predict, index=X_train.index, columns=['Predictions'])\n",
    "    train_merged = pd.merge(X_train, train_fr, left_index=True, right_index=True)\n",
    "    train_predictions = pd.concat([train_predictions, train_merged])\n",
    "    \n",
    "    \n",
    "    #split into X and y features for test set\n",
    "    test_group = test_grouped.get_group(city)\n",
    "    X_test = test_group.drop(columns=['Conditions'])\n",
    "    y_test = test_group['Conditions']\n",
    "    \n",
    "    # concatenate score for test set per each city\n",
    "    test_score = logreg.score(X_test, y_test)\n",
    "    test_score = pd.DataFrame(data=[[city_name, state_name, test_score]], columns=['City', 'State', 'Score'])\n",
    "    test_accuracy = pd.concat([test_accuracy, test_score])\n",
    "    \n",
    "    # save predicted test values\n",
    "    test_predict = logreg.predict(X_test)\n",
    "    \n",
    "    # concatenate predicted results per each city group\n",
    "    test_fr = pd.DataFrame(data=test_predict, index=X_test.index, columns=['Predictions'])\n",
    "    test_merged = pd.merge(X_test, test_fr, left_index=True, right_index=True)\n",
    "    test_predictions = pd.concat([test_predictions, test_merged])"
   ]
  },
  {
   "cell_type": "code",
   "execution_count": 83,
   "id": "unable-influence",
   "metadata": {},
   "outputs": [
    {
     "data": {
      "text/plain": [
       "(487516, 21)"
      ]
     },
     "execution_count": 83,
     "metadata": {},
     "output_type": "execute_result"
    }
   ],
   "source": [
    "train_predictions.shape"
   ]
  },
  {
   "cell_type": "code",
   "execution_count": 85,
   "id": "reserved-compensation",
   "metadata": {},
   "outputs": [
    {
     "data": {
      "text/plain": [
       "(122275, 21)"
      ]
     },
     "execution_count": 85,
     "metadata": {},
     "output_type": "execute_result"
    }
   ],
   "source": [
    "test_predictions.shape"
   ]
  },
  {
   "cell_type": "code",
   "execution_count": 86,
   "id": "attempted-holder",
   "metadata": {},
   "outputs": [],
   "source": [
    "from sklearn.metrics import confusion_matrix\n",
    "\n",
    "cm = confusion_matrix(test['Conditions'], test_predictions['Predictions'])"
   ]
  },
  {
   "cell_type": "code",
   "execution_count": 87,
   "id": "standing-registrar",
   "metadata": {},
   "outputs": [
    {
     "data": {
      "text/plain": [
       "array([[40819,     0,   196,   404,     0,     8,   203,     0,     5],\n",
       "       [    0,  4398,   104,     0,   396,     4,     0,   166,     2],\n",
       "       [  247,   112, 27565,    10,     8,  1112,     8,     4,   309],\n",
       "       [  715,     0,    10,  3898,     0,    85,    64,     0,     3],\n",
       "       [    0,   514,     8,     0, 10520,   151,     0,   378,     5],\n",
       "       [    3,    11,  1583,    85,   162, 19243,     1,    15,   341],\n",
       "       [  585,     0,     3,    45,     0,     1,   426,     0,    22],\n",
       "       [    0,   406,     5,     0,   381,     0,     0,  2724,    50],\n",
       "       [    9,     1,   799,     1,     5,   317,     5,    60,  2555]],\n",
       "      dtype=int64)"
      ]
     },
     "execution_count": 87,
     "metadata": {},
     "output_type": "execute_result"
    }
   ],
   "source": [
    "cm"
   ]
  },
  {
   "cell_type": "code",
   "execution_count": 88,
   "id": "weird-skating",
   "metadata": {},
   "outputs": [
    {
     "data": {
      "image/png": "[encoded data removed]",
      "text/plain": [
       "<Figure size 1080x576 with 2 Axes>"
      ]
     },
     "metadata": {},
     "output_type": "display_data"
    }
   ],
   "source": [
    "# Plot to see predicted results\n",
    "\n",
    "ticks = enc.categories_[0]\n",
    "plt.figure(figsize=(15,8))\n",
    "sns.heatmap(cm, annot=True, fmt='g', cmap='Blues', xticklabels=ticks, yticklabels=ticks)\n",
    "plt.tick_params(labelsize=15)\n",
    "plt.xlabel('Predicted')\n",
    "plt.ylabel('True', fontsize=20)\n",
    "plt.title('True vs Predicted', fontsize=20)\n",
    "plt.show()"
   ]
  },
  {
   "cell_type": "code",
   "execution_count": 89,
   "id": "acoustic-twist",
   "metadata": {},
   "outputs": [
    {
     "name": "stdout",
     "output_type": "stream",
     "text": [
      "Train accuracy:  0.9447525824793442\n",
      "Test accuracy:  0.9171787688513292\n"
     ]
    }
   ],
   "source": [
    "# Check accuracy score\n",
    "print(\"Train accuracy: \", train_accuracy['Score'].mean())\n",
    "print(\"Test accuracy: \", test_accuracy['Score'].mean())"
   ]
  },
  {
   "cell_type": "markdown",
   "id": "pointed-pointer",
   "metadata": {},
   "source": [
    "## My base line with multiple logistic regression is 91%. For some cities it predicted better for some not. "
   ]
  },
  {
   "cell_type": "code",
   "execution_count": null,
   "id": "attempted-sociology",
   "metadata": {},
   "outputs": [],
   "source": []
  }
 ],
 "metadata": {
  "kernelspec": {
   "display_name": "Python 3",
   "language": "python",
   "name": "python3"
  },
  "language_info": {
   "codemirror_mode": {
    "name": "ipython",
    "version": 3
   },
   "file_extension": ".py",
   "mimetype": "text/x-python",
   "name": "python",
   "nbconvert_exporter": "python",
   "pygments_lexer": "ipython3",
   "version": "3.7.6"
  }
 },
 "nbformat": 4,
 "nbformat_minor": 5
}
